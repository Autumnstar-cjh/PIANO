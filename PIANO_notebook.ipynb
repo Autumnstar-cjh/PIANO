{
 "cells": [
  {
   "cell_type": "code",
   "execution_count": 1,
   "id": "25bb1acb-d746-421a-b836-0de18bf2c716",
   "metadata": {},
   "outputs": [
    {
     "name": "stdout",
     "output_type": "stream",
     "text": [
      "cuda:0\n"
     ]
    }
   ],
   "source": [
    "import numpy as np\n",
    "import os\n",
    "import matplotlib.pyplot as plt\n",
    "import torch\n",
    "from torchvision import transforms\n",
    "from torch.utils.data.dataset import Dataset\n",
    "from neuralop.models.fno import TFNO\n",
    "from neuralop.models.fno import TFNO3d\n",
    "from neuralop.training.trainer import Trainer\n",
    "from neuralop.utils import count_model_params\n",
    "from neuralop.losses.data_losses import LpLoss, H1Loss\n",
    "import pdb\n",
    "import torch.nn as nn\n",
    "import sys\n",
    "from astropy.io import fits\n",
    "from torch.utils.data.dataset import Subset\n",
    "import random\n",
    "from sklearn.preprocessing import StandardScaler\n",
    "from torch.utils.data import Subset\n",
    "from torchvision.transforms.functional import normalize\n",
    "from matplotlib.animation import FuncAnimation, FFMpegWriter\n",
    "from IPython.display import HTML\n",
    "from tqdm import tqdm\n",
    "from torch.utils.data import random_split\n",
    "import h5py\n",
    "import torch.nn as nn\n",
    "import time\n",
    "\n",
    "device0 = torch.device('cuda:0' if torch.cuda.is_available() else 'cpu')\n",
    "#device1 = torch.device('cuda:1' if torch.cuda.is_available() else 'cpu')\n",
    "\n",
    "print(device0)\n",
    "#print(device1)\n",
    "\n",
    "from functools import partialmethod\n",
    "import torch\n",
    "import torch.nn as nn\n",
    "import torch.nn.functional as F\n",
    "from neuralop.layers.spectral_convolution import SpectralConv\n",
    "from neuralop.layers.padding import DomainPadding\n",
    "from neuralop.layers.fno_block import FNOBlocks\n",
    "from neuralop.layers.mlp import MLP\n",
    "from neuralop.models.base_model import BaseModel"
   ]
  },
  {
   "cell_type": "code",
   "execution_count": 2,
   "id": "76f62935-4f49-4f88-b61e-a27e0adf6eba",
   "metadata": {
    "scrolled": true
   },
   "outputs": [
    {
     "name": "stdout",
     "output_type": "stream",
     "text": [
      "torch.Size([3, 1, 3, 257, 513])\n"
     ]
    }
   ],
   "source": [
    "import torch\n",
    "from torch.utils.data import Dataset\n",
    "import numpy as np\n",
    "import h5py\n",
    "import pandas as pd\n",
    "\n",
    "class CustomDataset(Dataset):\n",
    "    def __init__(\n",
    "        self, \n",
    "        hdf5_file_paths, \n",
    "        x_lengths, \n",
    "        y_lengths, \n",
    "        z_lengths, \n",
    "        excel_path\n",
    "    ):\n",
    "        \"\"\"\n",
    "        Args:\n",
    "            hdf5_file_paths (list): List of paths to the HDF5 files [Bx_file, By_file, Bz_file].\n",
    "            x_lengths, y_lengths, z_lengths (np.ndarray): Arrays of lengths (1D).\n",
    "            excel_path (str): Path to the Excel file containing NOAA AR, date, and type.\n",
    "        \"\"\"\n",
    "        # 1) Store HDF5 file paths and open the files\n",
    "        self.hdf5_file_paths = hdf5_file_paths\n",
    "        self.hdf5_files = [h5py.File(path, 'r') for path in self.hdf5_file_paths]\n",
    "        \n",
    "        # 2) Store lengths\n",
    "        self.x_lengths = x_lengths\n",
    "        self.y_lengths = y_lengths\n",
    "        self.z_lengths = z_lengths\n",
    "        \n",
    "        # 3) Read Excel file to get the NOAA AR, date, and type\n",
    "        df = pd.read_excel(excel_path)\n",
    "        \n",
    "        # Make sure the rows in 'df' match the exact order of samples in HDF5\n",
    "        # If you need to sort the DataFrame, do it here, e.g.:\n",
    "        # df = df.sort_values(by='date')  # or by 'NOAA AR', etc.\n",
    "        # df = df.reset_index(drop=True)\n",
    "\n",
    "        # Just store the raw type strings:\n",
    "        self.type_labels_str = df['type'].astype(str).values\n",
    "        \n",
    "        # 4) Assume all HDF5 files have the same number of samples\n",
    "        self.dataset_length = len(self.hdf5_files[0])\n",
    "        \n",
    "        # 5) Calculate means and stds for normalization\n",
    "        self.x_mean = np.mean(self.x_lengths)\n",
    "        self.x_std = np.std(self.x_lengths)\n",
    "\n",
    "        self.y_mean = np.mean(self.y_lengths)\n",
    "        self.y_std = np.std(self.y_lengths)\n",
    "\n",
    "        self.z_mean = np.mean(self.z_lengths)\n",
    "        self.z_std = np.std(self.z_lengths)\n",
    "\n",
    "    def __len__(self):\n",
    "        return self.dataset_length\n",
    "\n",
    "    def __getitem__(self, idx):\n",
    "        # ---------------------\n",
    "        # 1) Read input arrays\n",
    "        # ---------------------\n",
    "        input_data_x = torch.from_numpy(\n",
    "            self.hdf5_files[0][f'sample_{idx}/input'][:]\n",
    "        ).float()\n",
    "        input_data_y = torch.from_numpy(\n",
    "            self.hdf5_files[1][f'sample_{idx}/input'][:]\n",
    "        ).float()\n",
    "        input_data_z = torch.from_numpy(\n",
    "            self.hdf5_files[2][f'sample_{idx}/input'][:]\n",
    "        ).float()\n",
    "\n",
    "        # ----------------------\n",
    "        # 2) Read output arrays\n",
    "        # ----------------------\n",
    "        output_data_x = torch.from_numpy(\n",
    "            self.hdf5_files[0][f'sample_{idx}/output'][:]\n",
    "        ).float()\n",
    "        output_data_y = torch.from_numpy(\n",
    "            self.hdf5_files[1][f'sample_{idx}/output'][:]\n",
    "        ).float()\n",
    "        output_data_z = torch.from_numpy(\n",
    "            self.hdf5_files[2][f'sample_{idx}/output'][:]\n",
    "        ).float()\n",
    "\n",
    "        # ------------------------------------\n",
    "        # 3) Select some subset of output data\n",
    "        # ------------------------------------\n",
    "        selected_output_data_x = output_data_x[:25]\n",
    "        selected_output_data_y = output_data_y[:25]\n",
    "        selected_output_data_z = output_data_z[:25]\n",
    "\n",
    "        # ------------------------------------\n",
    "        # 4) Stack inputs into multi-channel\n",
    "        # ------------------------------------\n",
    "        input_data = torch.stack(\n",
    "            (input_data_x, input_data_y, input_data_z), dim=0\n",
    "        ).unsqueeze(0)\n",
    "\n",
    "        # ------------------------------------\n",
    "        # 5) Stack selected outputs\n",
    "        # ------------------------------------\n",
    "        output_data = torch.stack(\n",
    "            (selected_output_data_x, selected_output_data_y, selected_output_data_z), \n",
    "            dim=1\n",
    "        )\n",
    "\n",
    "        # ------------------------------------\n",
    "        # 6) Normalize lengths\n",
    "        # ------------------------------------\n",
    "        x_length_normalized = (self.x_lengths[idx] - self.x_mean) / self.x_std\n",
    "        y_length_normalized = (self.y_lengths[idx] - self.y_mean) / self.y_std\n",
    "        z_length_normalized = (self.z_lengths[idx] - self.z_mean) / self.z_std\n",
    "        \n",
    "        length_tensor = torch.tensor(\n",
    "            [x_length_normalized, y_length_normalized, z_length_normalized],\n",
    "            dtype=torch.float32\n",
    "        ).unsqueeze(0)\n",
    "\n",
    "        # ------------------------------------\n",
    "        # 7) Get the string label from Excel\n",
    "        # ------------------------------------\n",
    "        type_label_str = self.type_labels_str[idx]\n",
    "        # This remains a Python string. If you only need to read it\n",
    "        # later for grouping or analysis, you can just store it in the sample dict. \n",
    "        # (If you need it as a tensor, you can store it as an object \n",
    "        #  but note that PyTorch won't do much with it for training.)\n",
    "\n",
    "        sample = {\n",
    "            'input': input_data,      # shape: (1, 3, H, W) or similar\n",
    "            'output': output_data,    # shape: (N, 3) depending on your slicing\n",
    "            'lengths': length_tensor, # shape: (1, 3)\n",
    "            'type_label_str': type_label_str,  # e.g. 'β' or 'βγ'\n",
    "        }\n",
    "        return sample\n",
    "\n",
    "\n",
    "from torch.utils.data import DataLoader, Subset\n",
    "\n",
    "# HDF5 file paths\n",
    "input1 = \"NLFFF_data/NLFFF_Bx_rmns_100.h5\"\n",
    "input2 = \"NLFFF_data/NLFFF_By_rmns_100.h5\"\n",
    "input3 = \"NLFFF_data/NLFFF_Bz_rmns_10.h5\"\n",
    "\n",
    "# NumPy length arrays\n",
    "x_lengths = np.load(\"NLFFF_data/x_height.npy\")\n",
    "y_lengths = np.load(\"NLFFF_data/y_height.npy\")\n",
    "z_lengths = np.load(\"NLFFF_data/z_height.npy\")\n",
    "\n",
    "# Excel path\n",
    "excel_path = \"NLFFF_data/NLFFF_datatype.xlsx\"\n",
    "\n",
    "# Initialize dataset\n",
    "dataset = CustomDataset(\n",
    "    [input1, input2, input3],\n",
    "    x_lengths,\n",
    "    y_lengths,\n",
    "    z_lengths,\n",
    "    excel_path\n",
    ")\n",
    "\n",
    "train_size = 143\n",
    "test_size = 27\n",
    "\n",
    "train_dataset = Subset(dataset, range(train_size))\n",
    "test_dataset = Subset(dataset, range(train_size, train_size + test_size))\n",
    "\n",
    "train_loader = DataLoader(train_dataset, batch_size=10, shuffle=True, num_workers=8, persistent_workers=False)\n",
    "test_loader = DataLoader(test_dataset, batch_size=10, shuffle=False, num_workers=8, persistent_workers=False)\n",
    "\n",
    "for batch in train_loader:\n",
    "    inputs = batch['input']\n",
    "    outputs = batch['output']\n",
    "    lengths = batch['lengths']\n",
    "    type_strings = batch['type_label_str']\n",
    "\n",
    "print(inputs.shape)\n"
   ]
  },
  {
   "cell_type": "code",
   "execution_count": 3,
   "id": "e7b53021-63da-4cd2-8943-7804075b6165",
   "metadata": {},
   "outputs": [],
   "source": [
    "import torch\n",
    "import torch.nn as nn\n",
    "import torch.nn.functional as F\n",
    "\n",
    "class PhysicsInformedLoss(nn.Module):\n",
    "    def __init__(self, weight=0.35, alpha=1.0, beta=1.0, gamma=1.0):\n",
    "        super(PhysicsInformedLoss, self).__init__()\n",
    "        self.weight = weight\n",
    "        self.alpha = alpha  \n",
    "        self.beta = beta    \n",
    "        self.gamma = gamma  \n",
    "\n",
    "    def forward(self, output, target): \n",
    "        divergence_loss = self.compute_divergence_loss(output)\n",
    "\n",
    "        force_free_loss = self.compute_force_free_loss(output)\n",
    "\n",
    "        total_loss = self.weight * ((self.beta * divergence_loss) + \\\n",
    "                     (self.gamma * force_free_loss))\n",
    "        return total_loss\n",
    "\n",
    "    def compute_divergence_loss(self, output):\n",
    "        batch_size, depth, components, height, width = output.shape\n",
    "        B = output.permute(0, 2, 1, 3, 4)  # B: [batch_size, 3, depth, height, width]\n",
    "        channels = components\n",
    "\n",
    "        device = output.device\n",
    "\n",
    "        kernel_dx = torch.tensor([-0.5, 0, 0.5], device=device).reshape(1, 1, 1, 1, 3)\n",
    "        kernel_dy = torch.tensor([-0.5, 0, 0.5], device=device).reshape(1, 1, 1, 3, 1)\n",
    "        kernel_dz = torch.tensor([-0.5, 0, 0.5], device=device).reshape(1, 1, 3, 1, 1)\n",
    "        kernel_dx = kernel_dx.repeat(channels, 1, 1, 1, 1)\n",
    "        kernel_dy = kernel_dy.repeat(channels, 1, 1, 1, 1)\n",
    "        kernel_dz = kernel_dz.repeat(channels, 1, 1, 1, 1)\n",
    "\n",
    "        dB_dx = F.conv3d(B, kernel_dx, padding=(0, 0, 1), groups=channels)\n",
    "        dB_dy = F.conv3d(B, kernel_dy, padding=(0, 1, 0), groups=channels)\n",
    "        dB_dz = F.conv3d(B, kernel_dz, padding=(1, 0, 0), groups=channels)\n",
    "\n",
    "        # dB_x/dx\n",
    "        dB_x_dx = dB_dx[:, 0, :, :, :]\n",
    "        # dB_y/dy\n",
    "        dB_y_dy = dB_dy[:, 1, :, :, :]\n",
    "        # dB_z/dz\n",
    "        dB_z_dz = dB_dz[:, 2, :, :, :]\n",
    "\n",
    "\n",
    "        divergence = dB_x_dx + dB_y_dy + dB_z_dz\n",
    "        divergence_loss = torch.mean(divergence ** 2)\n",
    "\n",
    "        return divergence_loss\n",
    "\n",
    "    def compute_force_free_loss(self, output):\n",
    "        batch_size, depth, components, height, width = output.shape\n",
    "        B = output.permute(0, 2, 1, 3, 4)  # B: [batch_size, 3, depth, height, width]\n",
    "        channels = components  \n",
    "\n",
    "        device = output.device\n",
    "\n",
    "        kernel_dx = torch.tensor([-0.5, 0, 0.5], device=device).reshape(1, 1, 1, 1, 3)\n",
    "        kernel_dy = torch.tensor([-0.5, 0, 0.5], device=device).reshape(1, 1, 1, 3, 1)\n",
    "        kernel_dz = torch.tensor([-0.5, 0, 0.5], device=device).reshape(1, 1, 3, 1, 1)\n",
    "\n",
    "        kernel_dx = kernel_dx.repeat(channels, 1, 1, 1, 1)\n",
    "        kernel_dy = kernel_dy.repeat(channels, 1, 1, 1, 1)\n",
    "        kernel_dz = kernel_dz.repeat(channels, 1, 1, 1, 1)\n",
    "\n",
    "        dB_dx = F.conv3d(B, kernel_dx, padding=(0, 0, 1), groups=channels)\n",
    "        dB_dy = F.conv3d(B, kernel_dy, padding=(0, 1, 0), groups=channels)\n",
    "        dB_dz = F.conv3d(B, kernel_dz, padding=(1, 0, 0), groups=channels)\n",
    "\n",
    "        dB_x_dy = dB_dy[:, 0, :, :, :]\n",
    "        dB_x_dz = dB_dz[:, 0, :, :, :]\n",
    "\n",
    "        dB_y_dx = dB_dx[:, 1, :, :, :]\n",
    "        dB_y_dz = dB_dz[:, 1, :, :, :]\n",
    "\n",
    "        dB_z_dx = dB_dx[:, 2, :, :, :]\n",
    "        dB_z_dy = dB_dy[:, 2, :, :, :]\n",
    "\n",
    "        rot_x = dB_z_dy - dB_y_dz\n",
    "        rot_y = dB_x_dz - dB_z_dx\n",
    "        rot_z = dB_y_dx - dB_x_dy\n",
    "\n",
    "        j = torch.stack([rot_x, rot_y, rot_z], dim=1)\n",
    "        jxb = torch.cross(j, B, dim=1)\n",
    "        B_magnitude_squared = torch.sum(B ** 2, dim=1, keepdim=True) + 1e-7\n",
    "        force_free_loss = torch.mean(torch.sum(jxb ** 2, dim=1) / B_magnitude_squared.squeeze(1))\n",
    "\n",
    "        return force_free_loss\n",
    "\n",
    "\n",
    "class ECA3DLayer(nn.Module):\n",
    "    def __init__(self, channel, k_size=3):\n",
    "        super(ECA3DLayer, self).__init__()\n",
    "        self.avg_pool = nn.AdaptiveAvgPool3d(1)\n",
    "        self.conv = nn.Conv1d(1, 1, kernel_size=k_size, padding=(k_size - 1) // 2, bias=False)\n",
    "        self.sigmoid = nn.Sigmoid()\n",
    "\n",
    "    def forward(self, x):\n",
    "        # x: [batch_size, channels, seq_len, height, width]\n",
    "        \n",
    "        # Global average pooling across seq_len, height, width\n",
    "        y = self.avg_pool(x)  # Shape: [batch_size, channels, 1, 1, 1]\n",
    "\n",
    "        # Apply 1D convolution across the channel dimension\n",
    "        y = self.conv(y.squeeze(-1).squeeze(-1).transpose(-1, -2))  # Shape: [batch_size, 1, channels]\n",
    "        y = y.transpose(-1, -2).unsqueeze(-1).unsqueeze(-1)  # Shape: [batch_size, channels, 1, 1, 1]\n",
    "\n",
    "        # Apply attention to input\n",
    "        return x * self.sigmoid(y).expand_as(x)\n",
    "\n",
    "class DilatedConvYWithECA(nn.Module):\n",
    "    def __init__(self, channels, dilation_y=2, k_size=3):\n",
    "        super(DilatedConvYWithECA, self).__init__()\n",
    "        self.conv = nn.Conv3d(\n",
    "            in_channels=channels,\n",
    "            out_channels=channels,\n",
    "            kernel_size=(1, 3, 1),  \n",
    "            padding=(0, dilation_y, 0),  \n",
    "            dilation=(1, dilation_y, 1),\n",
    "            bias=False\n",
    "        )\n",
    "        self.activation = nn.ReLU()\n",
    "\n",
    "        # ECA Attention layer\n",
    "        self.eca = ECA3DLayer(channel=channels, k_size=k_size)\n",
    "\n",
    "    def forward(self, x):\n",
    "        # Apply dilated convolution\n",
    "        x = self.conv(x)\n",
    "        x = self.activation(x)\n",
    "\n",
    "        # Apply ECA attention\n",
    "        x = self.eca(x)\n",
    "        \n",
    "        return x\n",
    "\n",
    "# CustomFNO Model with ECA-Net applied to lengths_lifted\n",
    "class CustomFNO(BaseModel, name='CustomFNO'):\n",
    "    def __init__(self, n_modes, hidden_channels, in_channels=3, out_channels=1,\n",
    "                 lifting_channels=256, projection_channels=256, n_layers=4,\n",
    "                 output_scaling_factor=None, max_n_modes=None,\n",
    "                 fno_block_precision=\"full\", use_mlp=False, mlp_dropout=0,\n",
    "                 mlp_expansion=0.5, non_linearity=F.gelu, stabilizer=None,\n",
    "                 norm=None, preactivation=False, fno_skip=\"linear\",\n",
    "                 mlp_skip=\"soft-gating\", separable=False, factorization=None,\n",
    "                 rank=1.0, joint_factorization=False, fixed_rank_modes=False,\n",
    "                 implementation=\"factorized\", decomposition_kwargs=dict(),\n",
    "                 domain_padding=None, domain_padding_mode=\"one-sided\",\n",
    "                 fft_norm=\"forward\", SpectralConv=SpectralConv,\n",
    "                 **kwargs):\n",
    "        \n",
    "        super().__init__()\n",
    "        self.n_dim = len(n_modes)\n",
    "        self.n_layers = n_layers\n",
    "\n",
    "        # Define the lifting layers for two inputs\n",
    "        self.lifting1 = MLP(\n",
    "            in_channels=in_channels,\n",
    "            out_channels=hidden_channels,\n",
    "            hidden_channels=lifting_channels,\n",
    "            n_layers=2,\n",
    "            n_dim=self.n_dim,\n",
    "        )\n",
    "        \n",
    "        self.lifting_y = MLP(\n",
    "            in_channels=3,  \n",
    "            out_channels=hidden_channels,\n",
    "            hidden_channels=lifting_channels,\n",
    "            n_layers=2,\n",
    "            n_dim=1,\n",
    "        )\n",
    "\n",
    "        # Define the ECA-Net block for lengths_lifted\n",
    "        self.DilatedConvYWithECA = DilatedConvYWithECA(hidden_channels, dilation_y=2)\n",
    "\n",
    "        # Define the FNO blocks\n",
    "        self.fno_blocks = FNOBlocks(\n",
    "            in_channels=hidden_channels,\n",
    "            out_channels=hidden_channels,\n",
    "            n_modes=n_modes,\n",
    "            output_scaling_factor=output_scaling_factor,\n",
    "            use_mlp=use_mlp,\n",
    "            mlp_dropout=mlp_dropout,\n",
    "            mlp_expansion=mlp_expansion,\n",
    "            non_linearity=non_linearity,\n",
    "            stabilizer=stabilizer,\n",
    "            norm=norm,\n",
    "            preactivation=preactivation,\n",
    "            fno_skip=fno_skip,\n",
    "            mlp_skip=mlp_skip,\n",
    "            max_n_modes=max_n_modes,\n",
    "            fno_block_precision=fno_block_precision,\n",
    "            rank=rank,\n",
    "            fft_norm=fft_norm,\n",
    "            fixed_rank_modes=fixed_rank_modes,\n",
    "            implementation=implementation,\n",
    "            separable=separable,\n",
    "            factorization=factorization,\n",
    "            decomposition_kwargs=decomposition_kwargs,\n",
    "            joint_factorization=joint_factorization,\n",
    "            SpectralConv=SpectralConv,\n",
    "            n_layers=n_layers,\n",
    "            **kwargs\n",
    "        )\n",
    "\n",
    "        # Define the projection layer\n",
    "        self.projection = MLP(\n",
    "            in_channels=hidden_channels,\n",
    "            out_channels=out_channels,\n",
    "            hidden_channels=projection_channels,\n",
    "            n_layers=2,\n",
    "            n_dim=self.n_dim,\n",
    "            non_linearity=non_linearity,\n",
    "        )\n",
    "\n",
    "    def forward(self, x1, lengths):\n",
    "        \"\"\"Forward pass for the Custom FNO model.\n",
    "\n",
    "        Parameters\n",
    "        ----------\n",
    "        x1 : tensor\n",
    "            Input tensor of shape [batch_size, 1, 3, 257, 513]\n",
    "        lengths : tensor\n",
    "            Tensor containing the normalized lengths of shape [batch_size, 1, 3]\n",
    "        \"\"\"\n",
    "        x_orig = x1.clone()\n",
    "        \n",
    "        # Apply lifting to the input\n",
    "        x1 = self.lifting1(x1)  # Result shape: [batch_size, hidden_channels, 3, 257, 513]\n",
    "\n",
    "        # Reshape lengths for processing\n",
    "        lengths = lengths.view(-1, 3, 1)  # Shape [batch_size, 3, 1] for processing\n",
    "\n",
    "        # Process lengths through lifting\n",
    "        lengths_lifted = self.lifting_y(lengths)  # Result shape: [batch_size, hidden_channels, 3]\n",
    "        \n",
    "        # Reshape lengths_lifted to match the spatial dimensions of x1\n",
    "        lengths_lifted = lengths_lifted.unsqueeze(-1).unsqueeze(-1)  # Shape: [batch_size, hidden_channels, 3, 1, 1]\n",
    "\n",
    "        # Apply ECA-Net block to lengths_lifted before adding to x1\n",
    "        lengths_lifted = self.DilatedConvYWithECA(lengths_lifted)\n",
    "\n",
    "        # Apply lengths_lifted to x1 (add)\n",
    "        x1 = x1 + lengths_lifted\n",
    "\n",
    "        # Apply FNO blocks\n",
    "        for layer_idx in range(self.n_layers):\n",
    "            x1 = self.fno_blocks(x1, layer_idx)\n",
    "\n",
    "        # Apply projection layer\n",
    "        x1 = self.projection(x1)\n",
    "\n",
    "        x1[:, 0, :, :, :] = x_orig[:, 0, :, :, :]\n",
    "\n",
    "        return x1"
   ]
  },
  {
   "cell_type": "code",
   "execution_count": 4,
   "id": "e6b21e8e-0322-4102-8577-7282014ef71d",
   "metadata": {},
   "outputs": [
    {
     "name": "stdout",
     "output_type": "stream",
     "text": [
      "\n",
      "Your model has 40383772 parameters.\n",
      "CustomFNO(\n",
      "  (lifting1): MLP(\n",
      "    (fcs): ModuleList(\n",
      "      (0): Conv3d(1, 256, kernel_size=(1, 1, 1), stride=(1, 1, 1))\n",
      "      (1): Conv3d(256, 32, kernel_size=(1, 1, 1), stride=(1, 1, 1))\n",
      "    )\n",
      "  )\n",
      "  (lifting_y): MLP(\n",
      "    (fcs): ModuleList(\n",
      "      (0): Conv1d(3, 256, kernel_size=(1,), stride=(1,))\n",
      "      (1): Conv1d(256, 32, kernel_size=(1,), stride=(1,))\n",
      "    )\n",
      "  )\n",
      "  (DilatedConvYWithECA): DilatedConvYWithECA(\n",
      "    (conv): Conv3d(32, 32, kernel_size=(1, 3, 1), stride=(1, 1, 1), padding=(0, 2, 0), dilation=(1, 2, 1), bias=False)\n",
      "    (activation): ReLU()\n",
      "    (eca): ECA3DLayer(\n",
      "      (avg_pool): AdaptiveAvgPool3d(output_size=1)\n",
      "      (conv): Conv1d(1, 1, kernel_size=(3,), stride=(1,), padding=(1,), bias=False)\n",
      "      (sigmoid): Sigmoid()\n",
      "    )\n",
      "  )\n",
      "  (fno_blocks): FNOBlocks(\n",
      "    (convs): SpectralConv(\n",
      "      (weight): ModuleList(\n",
      "        (0-5): 6 x ComplexTuckerTensor(shape=(32, 32, 32, 32, 17), rank=(23, 23, 23, 23, 12))\n",
      "      )\n",
      "    )\n",
      "    (fno_skips): ModuleList(\n",
      "      (0-5): 6 x Conv3d(32, 32, kernel_size=(1, 1, 1), stride=(1, 1, 1), bias=False)\n",
      "    )\n",
      "    (mlp): ModuleList(\n",
      "      (0-5): 6 x MLP(\n",
      "        (fcs): ModuleList(\n",
      "          (0): Conv3d(32, 16, kernel_size=(1, 1, 1), stride=(1, 1, 1))\n",
      "          (1): Conv3d(16, 32, kernel_size=(1, 1, 1), stride=(1, 1, 1))\n",
      "        )\n",
      "      )\n",
      "    )\n",
      "    (mlp_skips): ModuleList(\n",
      "      (0-5): 6 x SoftGating()\n",
      "    )\n",
      "  )\n",
      "  (projection): MLP(\n",
      "    (fcs): ModuleList(\n",
      "      (0): Conv3d(32, 256, kernel_size=(1, 1, 1), stride=(1, 1, 1))\n",
      "      (1): Conv3d(256, 25, kernel_size=(1, 1, 1), stride=(1, 1, 1))\n",
      "    )\n",
      "  )\n",
      ")\n"
     ]
    },
    {
     "name": "stderr",
     "output_type": "stream",
     "text": [
      "/home/jc2687/.local/lib/python3.11/site-packages/torch/optim/lr_scheduler.py:60: UserWarning: The verbose parameter is deprecated. Please use get_last_lr() to access the learning rate.\n",
      "  warnings.warn(\n"
     ]
    }
   ],
   "source": [
    "model = CustomFNO(n_modes = (32, 32, 32), in_channels=1, out_channels=25, n_layers = 6,\n",
    "               hidden_channels=32, use_mlp=True, factorization='tucker', rank=0.2)\n",
    "model = model.to(device0)\n",
    "\n",
    "n_params = count_model_params(model)\n",
    "print(f'\\nYour model has {n_params} parameters.')\n",
    "optimizer = torch.optim.Adam(model.parameters(), lr=1e-3, weight_decay=1e-4) \n",
    "scheduler = torch.optim.lr_scheduler.ReduceLROnPlateau(optimizer, mode='min', factor=0.8, patience=1, verbose=True)\n",
    "\n",
    "h1loss = H1Loss(d=2)\n",
    "print(model)"
   ]
  },
  {
   "cell_type": "code",
   "execution_count": 5,
   "id": "9e71eef4-7a9c-4ba0-8172-72de62716b66",
   "metadata": {},
   "outputs": [],
   "source": [
    "def l2_loss(pred, target):\n",
    "    return F.mse_loss(pred, target, reduction='mean')"
   ]
  },
  {
   "cell_type": "code",
   "execution_count": 11,
   "id": "391856a6-948e-428c-bd54-eddd24744a7b",
   "metadata": {
    "scrolled": true
   },
   "outputs": [
    {
     "name": "stderr",
     "output_type": "stream",
     "text": [
      "Train Epoch 1/150:  53%|█████▎    | 8/15 [01:09<01:00,  8.64s/it, loss_Bx=9.93, loss_By=10, loss_Bz=9.67, physics_loss=0.0179]\n",
      "\n",
      "KeyboardInterrupt\n",
      "\n"
     ]
    },
    {
     "ename": "KeyboardInterrupt",
     "evalue": "",
     "output_type": "error",
     "traceback": [
      "\u001b[31m---------------------------------------------------------------------------\u001b[39m",
      "\u001b[31mKeyboardInterrupt\u001b[39m                         Traceback (most recent call last)",
      "\u001b[36mFile \u001b[39m\u001b[32m~/.conda/envs/rtmag/lib/python3.11/site-packages/IPython/core/async_helpers.py:128\u001b[39m, in \u001b[36m_pseudo_sync_runner\u001b[39m\u001b[34m(coro)\u001b[39m\n\u001b[32m    120\u001b[39m \u001b[38;5;250m\u001b[39m\u001b[33;03m\"\"\"\u001b[39;00m\n\u001b[32m    121\u001b[39m \u001b[33;03mA runner that does not really allow async execution, and just advance the coroutine.\u001b[39;00m\n\u001b[32m    122\u001b[39m \n\u001b[32m   (...)\u001b[39m\u001b[32m    125\u001b[39m \u001b[33;03mCredit to Nathaniel Smith\u001b[39;00m\n\u001b[32m    126\u001b[39m \u001b[33;03m\"\"\"\u001b[39;00m\n\u001b[32m    127\u001b[39m \u001b[38;5;28;01mtry\u001b[39;00m:\n\u001b[32m--> \u001b[39m\u001b[32m128\u001b[39m     coro.send(\u001b[38;5;28;01mNone\u001b[39;00m)\n\u001b[32m    129\u001b[39m \u001b[38;5;28;01mexcept\u001b[39;00m \u001b[38;5;167;01mStopIteration\u001b[39;00m \u001b[38;5;28;01mas\u001b[39;00m exc:\n\u001b[32m    130\u001b[39m     \u001b[38;5;28;01mreturn\u001b[39;00m exc.value\n",
      "\u001b[36mFile \u001b[39m\u001b[32m~/.conda/envs/rtmag/lib/python3.11/site-packages/IPython/core/interactiveshell.py:3384\u001b[39m, in \u001b[36mInteractiveShell.run_cell_async\u001b[39m\u001b[34m(self, raw_cell, store_history, silent, shell_futures, transformed_cell, preprocessing_exc_tuple, cell_id)\u001b[39m\n\u001b[32m   3380\u001b[39m exec_count = \u001b[38;5;28mself\u001b[39m.execution_count\n\u001b[32m   3381\u001b[39m \u001b[38;5;28;01mif\u001b[39;00m result.error_in_exec:\n\u001b[32m   3382\u001b[39m     \u001b[38;5;66;03m# Store formatted traceback and error details\u001b[39;00m\n\u001b[32m   3383\u001b[39m     \u001b[38;5;28mself\u001b[39m.history_manager.exceptions[exec_count] = (\n\u001b[32m-> \u001b[39m\u001b[32m3384\u001b[39m         \u001b[38;5;28;43mself\u001b[39;49m\u001b[43m.\u001b[49m\u001b[43m_format_exception_for_storage\u001b[49m\u001b[43m(\u001b[49m\u001b[43mresult\u001b[49m\u001b[43m.\u001b[49m\u001b[43merror_in_exec\u001b[49m\u001b[43m)\u001b[49m\n\u001b[32m   3385\u001b[39m     )\n\u001b[32m   3387\u001b[39m \u001b[38;5;66;03m# Each cell is a *single* input, regardless of how many lines it has\u001b[39;00m\n\u001b[32m   3388\u001b[39m \u001b[38;5;28mself\u001b[39m.execution_count += \u001b[32m1\u001b[39m\n",
      "\u001b[36mFile \u001b[39m\u001b[32m~/.conda/envs/rtmag/lib/python3.11/site-packages/IPython/core/interactiveshell.py:3438\u001b[39m, in \u001b[36mInteractiveShell._format_exception_for_storage\u001b[39m\u001b[34m(self, exception, filename, running_compiled_code)\u001b[39m\n\u001b[32m   3435\u001b[39m         stb = evalue._render_traceback_()\n\u001b[32m   3436\u001b[39m     \u001b[38;5;28;01melse\u001b[39;00m:\n\u001b[32m   3437\u001b[39m         \u001b[38;5;66;03m# Otherwise, use InteractiveTB to format the traceback.\u001b[39;00m\n\u001b[32m-> \u001b[39m\u001b[32m3438\u001b[39m         stb = \u001b[38;5;28;43mself\u001b[39;49m\u001b[43m.\u001b[49m\u001b[43mInteractiveTB\u001b[49m\u001b[43m.\u001b[49m\u001b[43mstructured_traceback\u001b[49m\u001b[43m(\u001b[49m\n\u001b[32m   3439\u001b[39m \u001b[43m            \u001b[49m\u001b[43metype\u001b[49m\u001b[43m,\u001b[49m\u001b[43m \u001b[49m\u001b[43mevalue\u001b[49m\u001b[43m,\u001b[49m\u001b[43m \u001b[49m\u001b[43mtb\u001b[49m\u001b[43m,\u001b[49m\u001b[43m \u001b[49m\u001b[43mtb_offset\u001b[49m\u001b[43m=\u001b[49m\u001b[32;43m1\u001b[39;49m\n\u001b[32m   3440\u001b[39m \u001b[43m        \u001b[49m\u001b[43m)\u001b[49m\n\u001b[32m   3441\u001b[39m \u001b[38;5;28;01mexcept\u001b[39;00m \u001b[38;5;167;01mException\u001b[39;00m:\n\u001b[32m   3442\u001b[39m     \u001b[38;5;66;03m# In case formatting fails, fallback to Python's built-in formatting.\u001b[39;00m\n\u001b[32m   3443\u001b[39m     stb = traceback.format_exception(etype, evalue, tb)\n",
      "\u001b[36mFile \u001b[39m\u001b[32m~/.conda/envs/rtmag/lib/python3.11/site-packages/IPython/core/ultratb.py:1182\u001b[39m, in \u001b[36mAutoFormattedTB.structured_traceback\u001b[39m\u001b[34m(self, etype, evalue, etb, tb_offset, context)\u001b[39m\n\u001b[32m   1180\u001b[39m \u001b[38;5;28;01melse\u001b[39;00m:\n\u001b[32m   1181\u001b[39m     \u001b[38;5;28mself\u001b[39m.tb = etb\n\u001b[32m-> \u001b[39m\u001b[32m1182\u001b[39m \u001b[38;5;28;01mreturn\u001b[39;00m \u001b[43mFormattedTB\u001b[49m\u001b[43m.\u001b[49m\u001b[43mstructured_traceback\u001b[49m\u001b[43m(\u001b[49m\n\u001b[32m   1183\u001b[39m \u001b[43m    \u001b[49m\u001b[38;5;28;43mself\u001b[39;49m\u001b[43m,\u001b[49m\u001b[43m \u001b[49m\u001b[43metype\u001b[49m\u001b[43m,\u001b[49m\u001b[43m \u001b[49m\u001b[43mevalue\u001b[49m\u001b[43m,\u001b[49m\u001b[43m \u001b[49m\u001b[43metb\u001b[49m\u001b[43m,\u001b[49m\u001b[43m \u001b[49m\u001b[43mtb_offset\u001b[49m\u001b[43m,\u001b[49m\u001b[43m \u001b[49m\u001b[43mcontext\u001b[49m\n\u001b[32m   1184\u001b[39m \u001b[43m\u001b[49m\u001b[43m)\u001b[49m\n",
      "\u001b[36mFile \u001b[39m\u001b[32m~/.conda/envs/rtmag/lib/python3.11/site-packages/IPython/core/ultratb.py:1053\u001b[39m, in \u001b[36mFormattedTB.structured_traceback\u001b[39m\u001b[34m(self, etype, evalue, etb, tb_offset, context)\u001b[39m\n\u001b[32m   1050\u001b[39m mode = \u001b[38;5;28mself\u001b[39m.mode\n\u001b[32m   1051\u001b[39m \u001b[38;5;28;01mif\u001b[39;00m mode \u001b[38;5;129;01min\u001b[39;00m \u001b[38;5;28mself\u001b[39m.verbose_modes:\n\u001b[32m   1052\u001b[39m     \u001b[38;5;66;03m# Verbose modes need a full traceback\u001b[39;00m\n\u001b[32m-> \u001b[39m\u001b[32m1053\u001b[39m     \u001b[38;5;28;01mreturn\u001b[39;00m \u001b[43mVerboseTB\u001b[49m\u001b[43m.\u001b[49m\u001b[43mstructured_traceback\u001b[49m\u001b[43m(\u001b[49m\n\u001b[32m   1054\u001b[39m \u001b[43m        \u001b[49m\u001b[38;5;28;43mself\u001b[39;49m\u001b[43m,\u001b[49m\u001b[43m \u001b[49m\u001b[43metype\u001b[49m\u001b[43m,\u001b[49m\u001b[43m \u001b[49m\u001b[43mevalue\u001b[49m\u001b[43m,\u001b[49m\u001b[43m \u001b[49m\u001b[43metb\u001b[49m\u001b[43m,\u001b[49m\u001b[43m \u001b[49m\u001b[43mtb_offset\u001b[49m\u001b[43m,\u001b[49m\u001b[43m \u001b[49m\u001b[43mcontext\u001b[49m\n\u001b[32m   1055\u001b[39m \u001b[43m    \u001b[49m\u001b[43m)\u001b[49m\n\u001b[32m   1056\u001b[39m \u001b[38;5;28;01melif\u001b[39;00m mode == \u001b[33m\"\u001b[39m\u001b[33mDocs\u001b[39m\u001b[33m\"\u001b[39m:\n\u001b[32m   1057\u001b[39m     \u001b[38;5;66;03m# return DocTB\u001b[39;00m\n\u001b[32m   1058\u001b[39m     \u001b[38;5;28;01mreturn\u001b[39;00m DocTB(\n\u001b[32m   1059\u001b[39m         theme_name=\u001b[38;5;28mself\u001b[39m._theme_name,\n\u001b[32m   1060\u001b[39m         call_pdb=\u001b[38;5;28mself\u001b[39m.call_pdb,\n\u001b[32m   (...)\u001b[39m\u001b[32m   1068\u001b[39m         etype, evalue, etb, tb_offset, \u001b[32m1\u001b[39m\n\u001b[32m   1069\u001b[39m     )  \u001b[38;5;66;03m# type: ignore[arg-type]\u001b[39;00m\n",
      "\u001b[36mFile \u001b[39m\u001b[32m~/.conda/envs/rtmag/lib/python3.11/site-packages/IPython/core/ultratb.py:861\u001b[39m, in \u001b[36mVerboseTB.structured_traceback\u001b[39m\u001b[34m(self, etype, evalue, etb, tb_offset, context)\u001b[39m\n\u001b[32m    852\u001b[39m \u001b[38;5;28;01mdef\u001b[39;00m\u001b[38;5;250m \u001b[39m\u001b[34mstructured_traceback\u001b[39m(\n\u001b[32m    853\u001b[39m     \u001b[38;5;28mself\u001b[39m,\n\u001b[32m    854\u001b[39m     etype: \u001b[38;5;28mtype\u001b[39m,\n\u001b[32m   (...)\u001b[39m\u001b[32m    858\u001b[39m     context: \u001b[38;5;28mint\u001b[39m = \u001b[32m5\u001b[39m,\n\u001b[32m    859\u001b[39m ) -> \u001b[38;5;28mlist\u001b[39m[\u001b[38;5;28mstr\u001b[39m]:\n\u001b[32m    860\u001b[39m \u001b[38;5;250m    \u001b[39m\u001b[33;03m\"\"\"Return a nice text document describing the traceback.\"\"\"\u001b[39;00m\n\u001b[32m--> \u001b[39m\u001b[32m861\u001b[39m     formatted_exceptions: \u001b[38;5;28mlist\u001b[39m[\u001b[38;5;28mlist\u001b[39m[\u001b[38;5;28mstr\u001b[39m]] = \u001b[38;5;28;43mself\u001b[39;49m\u001b[43m.\u001b[49m\u001b[43mformat_exception_as_a_whole\u001b[49m\u001b[43m(\u001b[49m\n\u001b[32m    862\u001b[39m \u001b[43m        \u001b[49m\u001b[43metype\u001b[49m\u001b[43m,\u001b[49m\u001b[43m \u001b[49m\u001b[43mevalue\u001b[49m\u001b[43m,\u001b[49m\u001b[43m \u001b[49m\u001b[43metb\u001b[49m\u001b[43m,\u001b[49m\u001b[43m \u001b[49m\u001b[43mcontext\u001b[49m\u001b[43m,\u001b[49m\u001b[43m \u001b[49m\u001b[43mtb_offset\u001b[49m\n\u001b[32m    863\u001b[39m \u001b[43m    \u001b[49m\u001b[43m)\u001b[49m\n\u001b[32m    865\u001b[39m     termsize = \u001b[38;5;28mmin\u001b[39m(\u001b[32m75\u001b[39m, get_terminal_size()[\u001b[32m0\u001b[39m])\n\u001b[32m    866\u001b[39m     theme = theme_table[\u001b[38;5;28mself\u001b[39m._theme_name]\n",
      "\u001b[36mFile \u001b[39m\u001b[32m~/.conda/envs/rtmag/lib/python3.11/site-packages/IPython/core/ultratb.py:773\u001b[39m, in \u001b[36mVerboseTB.format_exception_as_a_whole\u001b[39m\u001b[34m(self, etype, evalue, etb, context, tb_offset)\u001b[39m\n\u001b[32m    763\u001b[39m         frames.append(\n\u001b[32m    764\u001b[39m             theme_table[\u001b[38;5;28mself\u001b[39m._theme_name].format(\n\u001b[32m    765\u001b[39m                 [\n\u001b[32m   (...)\u001b[39m\u001b[32m    770\u001b[39m             )\n\u001b[32m    771\u001b[39m         )\n\u001b[32m    772\u001b[39m         skipped = \u001b[32m0\u001b[39m\n\u001b[32m--> \u001b[39m\u001b[32m773\u001b[39m     frames.append(\u001b[38;5;28;43mself\u001b[39;49m\u001b[43m.\u001b[49m\u001b[43mformat_record\u001b[49m\u001b[43m(\u001b[49m\u001b[43mrecord\u001b[49m\u001b[43m)\u001b[49m)\n\u001b[32m    774\u001b[39m \u001b[38;5;28;01mif\u001b[39;00m skipped:\n\u001b[32m    775\u001b[39m     frames.append(\n\u001b[32m    776\u001b[39m         theme_table[\u001b[38;5;28mself\u001b[39m._theme_name].format(\n\u001b[32m    777\u001b[39m             [\n\u001b[32m   (...)\u001b[39m\u001b[32m    782\u001b[39m         )\n\u001b[32m    783\u001b[39m     )\n",
      "\u001b[36mFile \u001b[39m\u001b[32m~/.conda/envs/rtmag/lib/python3.11/site-packages/IPython/core/ultratb.py:651\u001b[39m, in \u001b[36mVerboseTB.format_record\u001b[39m\u001b[34m(self, frame_info)\u001b[39m\n\u001b[32m    648\u001b[39m result += \u001b[33m\"\u001b[39m\u001b[33m, \u001b[39m\u001b[33m\"\u001b[39m \u001b[38;5;28;01mif\u001b[39;00m call \u001b[38;5;28;01melse\u001b[39;00m \u001b[33m\"\u001b[39m\u001b[33m\"\u001b[39m\n\u001b[32m    649\u001b[39m result += \u001b[33mf\u001b[39m\u001b[33m\"\u001b[39m\u001b[38;5;132;01m{\u001b[39;00mcall\u001b[38;5;132;01m}\u001b[39;00m\u001b[38;5;130;01m\\n\u001b[39;00m\u001b[33m\"\u001b[39m\n\u001b[32m    650\u001b[39m result += theme_table[\u001b[38;5;28mself\u001b[39m._theme_name].format(\n\u001b[32m--> \u001b[39m\u001b[32m651\u001b[39m     \u001b[43m_format_traceback_lines\u001b[49m\u001b[43m(\u001b[49m\n\u001b[32m    652\u001b[39m \u001b[43m        \u001b[49m\u001b[43mframe_info\u001b[49m\u001b[43m.\u001b[49m\u001b[43mlines\u001b[49m\u001b[43m,\u001b[49m\n\u001b[32m    653\u001b[39m \u001b[43m        \u001b[49m\u001b[43mtheme_table\u001b[49m\u001b[43m[\u001b[49m\u001b[38;5;28;43mself\u001b[39;49m\u001b[43m.\u001b[49m\u001b[43m_theme_name\u001b[49m\u001b[43m]\u001b[49m\u001b[43m,\u001b[49m\n\u001b[32m    654\u001b[39m \u001b[43m        \u001b[49m\u001b[38;5;28;43mself\u001b[39;49m\u001b[43m.\u001b[49m\u001b[43mhas_colors\u001b[49m\u001b[43m,\u001b[49m\n\u001b[32m    655\u001b[39m \u001b[43m        \u001b[49m\u001b[43mlvals_toks\u001b[49m\u001b[43m,\u001b[49m\n\u001b[32m    656\u001b[39m \u001b[43m    \u001b[49m\u001b[43m)\u001b[49m\n\u001b[32m    657\u001b[39m )\n\u001b[32m    658\u001b[39m \u001b[38;5;28;01mreturn\u001b[39;00m result\n",
      "\u001b[36mFile \u001b[39m\u001b[32m~/.conda/envs/rtmag/lib/python3.11/site-packages/IPython/core/tbtools.py:99\u001b[39m, in \u001b[36m_format_traceback_lines\u001b[39m\u001b[34m(lines, theme, has_colors, lvals_toks)\u001b[39m\n\u001b[32m     96\u001b[39m     \u001b[38;5;28;01mcontinue\u001b[39;00m\n\u001b[32m     98\u001b[39m lineno = stack_line.lineno\n\u001b[32m---> \u001b[39m\u001b[32m99\u001b[39m line = \u001b[43mstack_line\u001b[49m\u001b[43m.\u001b[49m\u001b[43mrender\u001b[49m\u001b[43m(\u001b[49m\u001b[43mpygmented\u001b[49m\u001b[43m=\u001b[49m\u001b[43mhas_colors\u001b[49m\u001b[43m)\u001b[49m.rstrip(\u001b[33m\"\u001b[39m\u001b[38;5;130;01m\\n\u001b[39;00m\u001b[33m\"\u001b[39m) + \u001b[33m\"\u001b[39m\u001b[38;5;130;01m\\n\u001b[39;00m\u001b[33m\"\u001b[39m\n\u001b[32m    100\u001b[39m \u001b[38;5;28;01mif\u001b[39;00m stack_line.is_current:\n\u001b[32m    101\u001b[39m     \u001b[38;5;66;03m# This is the line with the error\u001b[39;00m\n\u001b[32m    102\u001b[39m     pad = numbers_width - \u001b[38;5;28mlen\u001b[39m(\u001b[38;5;28mstr\u001b[39m(lineno))\n",
      "\u001b[36mFile \u001b[39m\u001b[32m~/.conda/envs/rtmag/lib/python3.11/site-packages/stack_data/core.py:391\u001b[39m, in \u001b[36mLine.render\u001b[39m\u001b[34m(self, markers, strip_leading_indent, pygmented, escape_html)\u001b[39m\n\u001b[32m    389\u001b[39m \u001b[38;5;28;01mif\u001b[39;00m pygmented \u001b[38;5;129;01mand\u001b[39;00m \u001b[38;5;28mself\u001b[39m.frame_info.scope:\n\u001b[32m    390\u001b[39m     assert_(\u001b[38;5;129;01mnot\u001b[39;00m markers, \u001b[38;5;167;01mValueError\u001b[39;00m(\u001b[33m\"\u001b[39m\u001b[33mCannot use pygmented with markers\u001b[39m\u001b[33m\"\u001b[39m))\n\u001b[32m--> \u001b[39m\u001b[32m391\u001b[39m     start_line, lines = \u001b[38;5;28;43mself\u001b[39;49m\u001b[43m.\u001b[49m\u001b[43mframe_info\u001b[49m\u001b[43m.\u001b[49m\u001b[43m_pygmented_scope_lines\u001b[49m\n\u001b[32m    392\u001b[39m     result = lines[\u001b[38;5;28mself\u001b[39m.lineno - start_line]\n\u001b[32m    393\u001b[39m     \u001b[38;5;28;01mif\u001b[39;00m strip_leading_indent:\n",
      "\u001b[36mFile \u001b[39m\u001b[32m~/.conda/envs/rtmag/lib/python3.11/site-packages/stack_data/utils.py:145\u001b[39m, in \u001b[36mcached_property.cached_property_wrapper\u001b[39m\u001b[34m(self, obj, _cls)\u001b[39m\n\u001b[32m    142\u001b[39m \u001b[38;5;28;01mif\u001b[39;00m obj \u001b[38;5;129;01mis\u001b[39;00m \u001b[38;5;28;01mNone\u001b[39;00m:\n\u001b[32m    143\u001b[39m     \u001b[38;5;28;01mreturn\u001b[39;00m \u001b[38;5;28mself\u001b[39m\n\u001b[32m--> \u001b[39m\u001b[32m145\u001b[39m value = obj.\u001b[34m__dict__\u001b[39m[\u001b[38;5;28mself\u001b[39m.func.\u001b[34m__name__\u001b[39m] = \u001b[38;5;28;43mself\u001b[39;49m\u001b[43m.\u001b[49m\u001b[43mfunc\u001b[49m\u001b[43m(\u001b[49m\u001b[43mobj\u001b[49m\u001b[43m)\u001b[49m\n\u001b[32m    146\u001b[39m \u001b[38;5;28;01mreturn\u001b[39;00m value\n",
      "\u001b[36mFile \u001b[39m\u001b[32m~/.conda/envs/rtmag/lib/python3.11/site-packages/stack_data/core.py:824\u001b[39m, in \u001b[36mFrameInfo._pygmented_scope_lines\u001b[39m\u001b[34m(self)\u001b[39m\n\u001b[32m    821\u001b[39m     ranges = []\n\u001b[32m    823\u001b[39m code = atext.get_text(scope)\n\u001b[32m--> \u001b[39m\u001b[32m824\u001b[39m lines = \u001b[43m_pygmented_with_ranges\u001b[49m\u001b[43m(\u001b[49m\u001b[43mformatter\u001b[49m\u001b[43m,\u001b[49m\u001b[43m \u001b[49m\u001b[43mcode\u001b[49m\u001b[43m,\u001b[49m\u001b[43m \u001b[49m\u001b[43mranges\u001b[49m\u001b[43m)\u001b[49m\n\u001b[32m    826\u001b[39m start_line = \u001b[38;5;28mself\u001b[39m.source.line_range(scope)[\u001b[32m0\u001b[39m]\n\u001b[32m    828\u001b[39m \u001b[38;5;28;01mreturn\u001b[39;00m start_line, lines\n",
      "\u001b[36mFile \u001b[39m\u001b[32m~/.conda/envs/rtmag/lib/python3.11/site-packages/stack_data/utils.py:166\u001b[39m, in \u001b[36m_pygmented_with_ranges\u001b[39m\u001b[34m(formatter, code, ranges)\u001b[39m\n\u001b[32m    164\u001b[39m lexer = MyLexer(stripnl=\u001b[38;5;28;01mFalse\u001b[39;00m)\n\u001b[32m    165\u001b[39m \u001b[38;5;28;01mtry\u001b[39;00m:\n\u001b[32m--> \u001b[39m\u001b[32m166\u001b[39m     highlighted = \u001b[43mpygments\u001b[49m\u001b[43m.\u001b[49m\u001b[43mhighlight\u001b[49m\u001b[43m(\u001b[49m\u001b[43mcode\u001b[49m\u001b[43m,\u001b[49m\u001b[43m \u001b[49m\u001b[43mlexer\u001b[49m\u001b[43m,\u001b[49m\u001b[43m \u001b[49m\u001b[43mformatter\u001b[49m\u001b[43m)\u001b[49m\n\u001b[32m    167\u001b[39m \u001b[38;5;28;01mexcept\u001b[39;00m \u001b[38;5;167;01mException\u001b[39;00m:\n\u001b[32m    168\u001b[39m     \u001b[38;5;66;03m# When pygments fails, prefer code without highlighting over crashing\u001b[39;00m\n\u001b[32m    169\u001b[39m     highlighted = code\n",
      "\u001b[36mFile \u001b[39m\u001b[32m~/.conda/envs/rtmag/lib/python3.11/site-packages/pygments/__init__.py:82\u001b[39m, in \u001b[36mhighlight\u001b[39m\u001b[34m(code, lexer, formatter, outfile)\u001b[39m\n\u001b[32m     77\u001b[39m \u001b[38;5;28;01mdef\u001b[39;00m\u001b[38;5;250m \u001b[39m\u001b[34mhighlight\u001b[39m(code, lexer, formatter, outfile=\u001b[38;5;28;01mNone\u001b[39;00m):\n\u001b[32m     78\u001b[39m \u001b[38;5;250m    \u001b[39m\u001b[33;03m\"\"\"\u001b[39;00m\n\u001b[32m     79\u001b[39m \u001b[33;03m    This is the most high-level highlighting function. It combines `lex` and\u001b[39;00m\n\u001b[32m     80\u001b[39m \u001b[33;03m    `format` in one function.\u001b[39;00m\n\u001b[32m     81\u001b[39m \u001b[33;03m    \"\"\"\u001b[39;00m\n\u001b[32m---> \u001b[39m\u001b[32m82\u001b[39m     \u001b[38;5;28;01mreturn\u001b[39;00m \u001b[38;5;28;43mformat\u001b[39;49m\u001b[43m(\u001b[49m\u001b[43mlex\u001b[49m\u001b[43m(\u001b[49m\u001b[43mcode\u001b[49m\u001b[43m,\u001b[49m\u001b[43m \u001b[49m\u001b[43mlexer\u001b[49m\u001b[43m)\u001b[49m\u001b[43m,\u001b[49m\u001b[43m \u001b[49m\u001b[43mformatter\u001b[49m\u001b[43m,\u001b[49m\u001b[43m \u001b[49m\u001b[43moutfile\u001b[49m\u001b[43m)\u001b[49m\n",
      "\u001b[36mFile \u001b[39m\u001b[32m~/.conda/envs/rtmag/lib/python3.11/site-packages/pygments/__init__.py:64\u001b[39m, in \u001b[36mformat\u001b[39m\u001b[34m(tokens, formatter, outfile)\u001b[39m\n\u001b[32m     62\u001b[39m \u001b[38;5;28;01mif\u001b[39;00m \u001b[38;5;129;01mnot\u001b[39;00m outfile:\n\u001b[32m     63\u001b[39m     realoutfile = \u001b[38;5;28mgetattr\u001b[39m(formatter, \u001b[33m'\u001b[39m\u001b[33mencoding\u001b[39m\u001b[33m'\u001b[39m, \u001b[38;5;28;01mNone\u001b[39;00m) \u001b[38;5;129;01mand\u001b[39;00m BytesIO() \u001b[38;5;129;01mor\u001b[39;00m StringIO()\n\u001b[32m---> \u001b[39m\u001b[32m64\u001b[39m     \u001b[43mformatter\u001b[49m\u001b[43m.\u001b[49m\u001b[43mformat\u001b[49m\u001b[43m(\u001b[49m\u001b[43mtokens\u001b[49m\u001b[43m,\u001b[49m\u001b[43m \u001b[49m\u001b[43mrealoutfile\u001b[49m\u001b[43m)\u001b[49m\n\u001b[32m     65\u001b[39m     \u001b[38;5;28;01mreturn\u001b[39;00m realoutfile.getvalue()\n\u001b[32m     66\u001b[39m \u001b[38;5;28;01melse\u001b[39;00m:\n",
      "\u001b[36mFile \u001b[39m\u001b[32m~/.conda/envs/rtmag/lib/python3.11/site-packages/pygments/formatters/terminal256.py:250\u001b[39m, in \u001b[36mTerminal256Formatter.format\u001b[39m\u001b[34m(self, tokensource, outfile)\u001b[39m\n\u001b[32m    249\u001b[39m \u001b[38;5;28;01mdef\u001b[39;00m\u001b[38;5;250m \u001b[39m\u001b[34mformat\u001b[39m(\u001b[38;5;28mself\u001b[39m, tokensource, outfile):\n\u001b[32m--> \u001b[39m\u001b[32m250\u001b[39m     \u001b[38;5;28;01mreturn\u001b[39;00m \u001b[43mFormatter\u001b[49m\u001b[43m.\u001b[49m\u001b[43mformat\u001b[49m\u001b[43m(\u001b[49m\u001b[38;5;28;43mself\u001b[39;49m\u001b[43m,\u001b[49m\u001b[43m \u001b[49m\u001b[43mtokensource\u001b[49m\u001b[43m,\u001b[49m\u001b[43m \u001b[49m\u001b[43moutfile\u001b[49m\u001b[43m)\u001b[49m\n",
      "\u001b[36mFile \u001b[39m\u001b[32m~/.conda/envs/rtmag/lib/python3.11/site-packages/pygments/formatter.py:124\u001b[39m, in \u001b[36mFormatter.format\u001b[39m\u001b[34m(self, tokensource, outfile)\u001b[39m\n\u001b[32m    121\u001b[39m \u001b[38;5;28;01mif\u001b[39;00m \u001b[38;5;28mself\u001b[39m.encoding:\n\u001b[32m    122\u001b[39m     \u001b[38;5;66;03m# wrap the outfile in a StreamWriter\u001b[39;00m\n\u001b[32m    123\u001b[39m     outfile = codecs.lookup(\u001b[38;5;28mself\u001b[39m.encoding)[\u001b[32m3\u001b[39m](outfile)\n\u001b[32m--> \u001b[39m\u001b[32m124\u001b[39m \u001b[38;5;28;01mreturn\u001b[39;00m \u001b[38;5;28;43mself\u001b[39;49m\u001b[43m.\u001b[49m\u001b[43mformat_unencoded\u001b[49m\u001b[43m(\u001b[49m\u001b[43mtokensource\u001b[49m\u001b[43m,\u001b[49m\u001b[43m \u001b[49m\u001b[43moutfile\u001b[49m\u001b[43m)\u001b[49m\n",
      "\u001b[36mFile \u001b[39m\u001b[32m~/.conda/envs/rtmag/lib/python3.11/site-packages/pygments/formatters/terminal256.py:256\u001b[39m, in \u001b[36mTerminal256Formatter.format_unencoded\u001b[39m\u001b[34m(self, tokensource, outfile)\u001b[39m\n\u001b[32m    253\u001b[39m \u001b[38;5;28;01mif\u001b[39;00m \u001b[38;5;28mself\u001b[39m.linenos:\n\u001b[32m    254\u001b[39m     \u001b[38;5;28mself\u001b[39m._write_lineno(outfile)\n\u001b[32m--> \u001b[39m\u001b[32m256\u001b[39m \u001b[43m\u001b[49m\u001b[38;5;28;43;01mfor\u001b[39;49;00m\u001b[43m \u001b[49m\u001b[43mttype\u001b[49m\u001b[43m,\u001b[49m\u001b[43m \u001b[49m\u001b[43mvalue\u001b[49m\u001b[43m \u001b[49m\u001b[38;5;129;43;01min\u001b[39;49;00m\u001b[43m \u001b[49m\u001b[43mtokensource\u001b[49m\u001b[43m:\u001b[49m\n\u001b[32m    257\u001b[39m \u001b[43m    \u001b[49m\u001b[43mnot_found\u001b[49m\u001b[43m \u001b[49m\u001b[43m=\u001b[49m\u001b[43m \u001b[49m\u001b[38;5;28;43;01mTrue\u001b[39;49;00m\n\u001b[32m    258\u001b[39m \u001b[43m    \u001b[49m\u001b[38;5;28;43;01mwhile\u001b[39;49;00m\u001b[43m \u001b[49m\u001b[43mttype\u001b[49m\u001b[43m \u001b[49m\u001b[38;5;129;43;01mand\u001b[39;49;00m\u001b[43m \u001b[49m\u001b[43mnot_found\u001b[49m\u001b[43m:\u001b[49m\n",
      "\u001b[36mFile \u001b[39m\u001b[32m~/.conda/envs/rtmag/lib/python3.11/site-packages/stack_data/utils.py:158\u001b[39m, in \u001b[36m_pygmented_with_ranges.<locals>.MyLexer.get_tokens\u001b[39m\u001b[34m(self, text)\u001b[39m\n\u001b[32m    156\u001b[39m \u001b[38;5;28;01mdef\u001b[39;00m\u001b[38;5;250m \u001b[39m\u001b[34mget_tokens\u001b[39m(\u001b[38;5;28mself\u001b[39m, text):\n\u001b[32m    157\u001b[39m     length = \u001b[32m0\u001b[39m\n\u001b[32m--> \u001b[39m\u001b[32m158\u001b[39m \u001b[43m    \u001b[49m\u001b[38;5;28;43;01mfor\u001b[39;49;00m\u001b[43m \u001b[49m\u001b[43mttype\u001b[49m\u001b[43m,\u001b[49m\u001b[43m \u001b[49m\u001b[43mvalue\u001b[49m\u001b[43m \u001b[49m\u001b[38;5;129;43;01min\u001b[39;49;00m\u001b[43m \u001b[49m\u001b[38;5;28;43msuper\u001b[39;49m\u001b[43m(\u001b[49m\u001b[43m)\u001b[49m\u001b[43m.\u001b[49m\u001b[43mget_tokens\u001b[49m\u001b[43m(\u001b[49m\u001b[43mtext\u001b[49m\u001b[43m)\u001b[49m\u001b[43m:\u001b[49m\n\u001b[32m    159\u001b[39m \u001b[43m        \u001b[49m\u001b[38;5;28;43;01mif\u001b[39;49;00m\u001b[43m \u001b[49m\u001b[38;5;28;43many\u001b[39;49m\u001b[43m(\u001b[49m\u001b[43mstart\u001b[49m\u001b[43m \u001b[49m\u001b[43m<\u001b[49m\u001b[43m=\u001b[49m\u001b[43m \u001b[49m\u001b[43mlength\u001b[49m\u001b[43m \u001b[49m\u001b[43m<\u001b[49m\u001b[43m \u001b[49m\u001b[43mend\u001b[49m\u001b[43m \u001b[49m\u001b[38;5;28;43;01mfor\u001b[39;49;00m\u001b[43m \u001b[49m\u001b[43mstart\u001b[49m\u001b[43m,\u001b[49m\u001b[43m \u001b[49m\u001b[43mend\u001b[49m\u001b[43m \u001b[49m\u001b[38;5;129;43;01min\u001b[39;49;00m\u001b[43m \u001b[49m\u001b[43mranges\u001b[49m\u001b[43m)\u001b[49m\u001b[43m:\u001b[49m\n\u001b[32m    160\u001b[39m \u001b[43m            \u001b[49m\u001b[43mttype\u001b[49m\u001b[43m \u001b[49m\u001b[43m=\u001b[49m\u001b[43m \u001b[49m\u001b[43mttype\u001b[49m\u001b[43m.\u001b[49m\u001b[43mExecutingNode\u001b[49m\n",
      "\u001b[36mFile \u001b[39m\u001b[32m~/.conda/envs/rtmag/lib/python3.11/site-packages/pygments/lexer.py:270\u001b[39m, in \u001b[36mLexer.get_tokens.<locals>.streamer\u001b[39m\u001b[34m()\u001b[39m\n\u001b[32m    269\u001b[39m \u001b[38;5;28;01mdef\u001b[39;00m\u001b[38;5;250m \u001b[39m\u001b[34mstreamer\u001b[39m():\n\u001b[32m--> \u001b[39m\u001b[32m270\u001b[39m \u001b[43m    \u001b[49m\u001b[38;5;28;43;01mfor\u001b[39;49;00m\u001b[43m \u001b[49m\u001b[43m_\u001b[49m\u001b[43m,\u001b[49m\u001b[43m \u001b[49m\u001b[43mt\u001b[49m\u001b[43m,\u001b[49m\u001b[43m \u001b[49m\u001b[43mv\u001b[49m\u001b[43m \u001b[49m\u001b[38;5;129;43;01min\u001b[39;49;00m\u001b[43m \u001b[49m\u001b[38;5;28;43mself\u001b[39;49m\u001b[43m.\u001b[49m\u001b[43mget_tokens_unprocessed\u001b[49m\u001b[43m(\u001b[49m\u001b[43mtext\u001b[49m\u001b[43m)\u001b[49m\u001b[43m:\u001b[49m\n\u001b[32m    271\u001b[39m \u001b[43m        \u001b[49m\u001b[38;5;28;43;01myield\u001b[39;49;00m\u001b[43m \u001b[49m\u001b[43mt\u001b[49m\u001b[43m,\u001b[49m\u001b[43m \u001b[49m\u001b[43mv\u001b[49m\n",
      "\u001b[36mFile \u001b[39m\u001b[32m~/.conda/envs/rtmag/lib/python3.11/site-packages/pygments/lexer.py:712\u001b[39m, in \u001b[36mRegexLexer.get_tokens_unprocessed\u001b[39m\u001b[34m(self, text, stack)\u001b[39m\n\u001b[32m    710\u001b[39m \u001b[38;5;28;01mwhile\u001b[39;00m \u001b[32m1\u001b[39m:\n\u001b[32m    711\u001b[39m     \u001b[38;5;28;01mfor\u001b[39;00m rexmatch, action, new_state \u001b[38;5;129;01min\u001b[39;00m statetokens:\n\u001b[32m--> \u001b[39m\u001b[32m712\u001b[39m         m = \u001b[43mrexmatch\u001b[49m\u001b[43m(\u001b[49m\u001b[43mtext\u001b[49m\u001b[43m,\u001b[49m\u001b[43m \u001b[49m\u001b[43mpos\u001b[49m\u001b[43m)\u001b[49m\n\u001b[32m    713\u001b[39m         \u001b[38;5;28;01mif\u001b[39;00m m:\n\u001b[32m    714\u001b[39m             \u001b[38;5;28;01mif\u001b[39;00m action \u001b[38;5;129;01mis\u001b[39;00m \u001b[38;5;129;01mnot\u001b[39;00m \u001b[38;5;28;01mNone\u001b[39;00m:\n",
      "\u001b[31mKeyboardInterrupt\u001b[39m: "
     ]
    }
   ],
   "source": [
    "import os\n",
    "import time\n",
    "import csv\n",
    "import torch.nn.functional as F\n",
    "from sklearn.metrics import r2_score, mean_squared_error, mean_absolute_error\n",
    "from skimage.metrics import peak_signal_noise_ratio as psnr, structural_similarity as ssim\n",
    "from tqdm import tqdm\n",
    "import numpy as np\n",
    "import matplotlib.pyplot as plt\n",
    "import matplotlib.ticker as ticker\n",
    "\n",
    "num_epochs = 150\n",
    "print_frequency = 40\n",
    "save_checkpoint_start_epoch = 50\n",
    "save_checkpoint_interval = 10\n",
    "checkpoint_dir = \"result/NLFFF_Cube2Step/step1\"\n",
    "results_file = os.path.join(checkpoint_dir, \"result.csv\")\n",
    "physics_loss_fn = PhysicsInformedLoss(weight=0.35, alpha=1.0, beta=1, gamma=1)\n",
    "\n",
    "# 准备CSV文件\n",
    "with open(results_file, mode='w', newline='') as file:\n",
    "    writer = csv.writer(file)\n",
    "    writer.writerow(['epoch', 'comp', 'r2', 'relative_error', 'mse', 'mae', 'psnr', 'ssim'])\n",
    "\n",
    "train_losses_Bx = []\n",
    "train_losses_By = []\n",
    "train_losses_Bz = []\n",
    "test_losses_Bx = []\n",
    "test_losses_By = []\n",
    "test_losses_Bz = []\n",
    "physics_losses = []\n",
    "epoch_durations = []\n",
    "\n",
    "for epoch in range(num_epochs):\n",
    "    start_time = time.time()\n",
    "\n",
    "    model.train()\n",
    "    epoch_loss_Bx = 0.0\n",
    "    epoch_loss_By = 0.0\n",
    "    epoch_loss_Bz = 0.0\n",
    "    epoch_physics_loss = 0.0\n",
    "\n",
    "    train_loader_tqdm = tqdm(enumerate(train_loader), total=len(train_loader), desc=f'Train Epoch {epoch+1}/{num_epochs}')\n",
    "    for batch_idx, sample in train_loader_tqdm:\n",
    "        optimizer.zero_grad()\n",
    "        data, target = sample['input'].to(device0), sample['output'].to(device0)\n",
    "        lengths = sample['lengths'].to(device0)  \n",
    "\n",
    "        output = model(data, lengths)\n",
    "\n",
    "        loss_Bx = h1loss(output[:, :, 0, :, :], target[:, :, 0, :, :]).mean()\n",
    "        loss_By = h1loss(output[:, :, 1, :, :], target[:, :, 1, :, :]).mean()\n",
    "        loss_Bz = h1loss(output[:, :, 2, :, :], target[:, :, 2, :, :]).mean()\n",
    "\n",
    "        physics_loss = physics_loss_fn(output, target)\n",
    "            \n",
    "        total_loss = loss_Bx + loss_By + loss_Bz + physics_loss\n",
    "        total_loss.backward()\n",
    "        optimizer.step()\n",
    "\n",
    "        epoch_loss_Bx += loss_Bx.item()\n",
    "        epoch_loss_By += loss_By.item()\n",
    "        epoch_loss_Bz += loss_Bz.item()\n",
    "        epoch_physics_loss += physics_loss.item()\n",
    "\n",
    "        if batch_idx % print_frequency == 0:\n",
    "            train_loader_tqdm.set_postfix(\n",
    "                loss_Bx=loss_Bx.item(),\n",
    "                loss_By=loss_By.item(),\n",
    "                loss_Bz=loss_Bz.item(),\n",
    "                physics_loss=physics_loss.item()\n",
    "            )\n",
    "\n",
    "    avg_loss_Bx = epoch_loss_Bx / len(train_loader)\n",
    "    avg_loss_By = epoch_loss_By / len(train_loader)\n",
    "    avg_loss_Bz = epoch_loss_Bz / len(train_loader)\n",
    "    avg_physics_loss = epoch_physics_loss / len(train_loader)\n",
    "\n",
    "    train_losses_Bx.append(avg_loss_Bx)\n",
    "    train_losses_By.append(avg_loss_By)\n",
    "    train_losses_Bz.append(avg_loss_Bz)\n",
    "    physics_losses.append(avg_physics_loss)\n",
    "\n",
    "    model.eval()\n",
    "    epoch_r2_Bx = []\n",
    "    epoch_r2_By = []\n",
    "    epoch_r2_Bz = []\n",
    "    test_loader_tqdm = tqdm(test_loader, total=len(test_loader), desc=f'Test Epoch {epoch+1}/{num_epochs}')\n",
    "    with torch.no_grad():\n",
    "        for sample in test_loader_tqdm:\n",
    "            x = sample['input'].to(device0)\n",
    "            lengths = sample['lengths'].to(device0)  \n",
    "            target = sample['output'].cpu().numpy()\n",
    "            output = model(x, lengths).cpu().numpy()\n",
    "\n",
    "            for true_sample, pred_sample in zip(target, output):\n",
    "                r2_Bx = r2_score(true_sample[:, 0].flatten(), pred_sample[:, 0].flatten())\n",
    "                r2_By = r2_score(true_sample[:, 1].flatten(), pred_sample[:, 1].flatten())\n",
    "                r2_Bz = r2_score(true_sample[:, 2].flatten(), pred_sample[:, 2].flatten())\n",
    "\n",
    "                epoch_r2_Bx.append(r2_Bx)\n",
    "                epoch_r2_By.append(r2_By)\n",
    "                epoch_r2_Bz.append(r2_Bz)\n",
    "\n",
    "    avg_r2_Bx = np.mean(epoch_r2_Bx)\n",
    "    avg_r2_By = np.mean(epoch_r2_By)\n",
    "    avg_r2_Bz = np.mean(epoch_r2_Bz)\n",
    "\n",
    "    test_losses_Bx.append(avg_r2_Bx)\n",
    "    test_losses_By.append(avg_r2_By)\n",
    "    test_losses_Bz.append(avg_r2_Bz)\n",
    "\n",
    "    end_time = time.time()\n",
    "    epoch_duration = end_time - start_time\n",
    "    epoch_durations.append(epoch_duration)\n",
    "\n",
    "    avg_train_loss_combined = (avg_loss_Bx + avg_loss_By + avg_loss_Bz + avg_physics_loss) / 3\n",
    "    scheduler.step(avg_train_loss_combined)\n",
    "\n",
    "    avg_epoch_duration = np.mean(epoch_durations)\n",
    "    remaining_epochs = num_epochs - (epoch + 1)\n",
    "    remaining_time = remaining_epochs * avg_epoch_duration\n",
    "    hours, rem = divmod(remaining_time, 3600)\n",
    "    minutes, seconds = divmod(rem, 60)\n",
    "\n",
    "    print(f'Epoch: {epoch+1}/{num_epochs}, Duration: {epoch_duration:.2f}s, '\n",
    "          f'Train Loss - Bx: {avg_loss_Bx:.4f}, By: {avg_loss_By:.4f}, Bz: {avg_loss_Bz:.4f}, Physics Loss: {avg_physics_loss:.4f}, '\n",
    "          f'Test R2 - Bx: {avg_r2_Bx:.4f}, By: {avg_r2_By:.4f}, Bz: {avg_r2_Bz:.4f}')\n",
    "\n",
    "    print(f'Estimated Remaining Time: {int(hours)}h {int(minutes)}m {int(seconds)}s')\n",
    "\n",
    "    if (epoch + 1) >= save_checkpoint_start_epoch and (epoch + 1) % save_checkpoint_interval == 0:\n",
    "        checkpoint_path = os.path.join(checkpoint_dir, f\"checkpoint_epoch_{epoch+1}.pt\")\n",
    "        torch.save(model.state_dict(), checkpoint_path)\n",
    "        print(f\"Checkpoint saved at epoch {epoch+1}: {checkpoint_path}\")\n",
    "\n",
    "        min_val = float('inf')\n",
    "        max_val = float('-inf')\n",
    "        for sample in test_loader:\n",
    "            y_true_batch = sample['output'].numpy()\n",
    "            batch_min = y_true_batch.min()\n",
    "            batch_max = y_true_batch.max()\n",
    "            min_val = min(min_val, batch_min)\n",
    "            max_val = max(max_val, batch_max)\n",
    "        data_range = max_val - min_val\n",
    "        print(f\"[INFO] data_range = {data_range} (max_val={max_val}, min_val={min_val})\")\n",
    "\n",
    "        type_performance = {}\n",
    "\n",
    "        sample_r2_scores = {'bx': [], 'by': [], 'bz': []}\n",
    "        sample_relative_errors = {'bx': [], 'by': [], 'bz': []}\n",
    "        sample_mses = {'bx': [], 'by': [], 'bz': []}\n",
    "        sample_maes = {'bx': [], 'by': [], 'bz': []}\n",
    "        sample_psnr_values = {'bx': [], 'by': [], 'bz': []}\n",
    "        sample_ssim_values = {'bx': [], 'by': [], 'bz': []}\n",
    "\n",
    "        model.eval()\n",
    "        with torch.no_grad():\n",
    "            for sample in test_loader:\n",
    "                x = sample['input'].to(device0)\n",
    "                lengths = sample['lengths'].to(device0)  \n",
    "                y_true_batch = sample['output'].cpu().numpy()\n",
    "                y_pred_batch = model(x, lengths).cpu().numpy()\n",
    "\n",
    "                for true_sample, pred_sample in zip(y_true_batch, y_pred_batch):\n",
    "                    for i, comp in enumerate(['bx', 'by', 'bz']):\n",
    "                        true_sample_component = true_sample[:, i]\n",
    "                        pred_sample_component = pred_sample[:, i]\n",
    "\n",
    "                        true_sample_flat = true_sample_component.flatten()\n",
    "                        pred_sample_flat = pred_sample_component.flatten()\n",
    "\n",
    "                        r2 = r2_score(true_sample_flat, pred_sample_flat)\n",
    "                        sample_r2_scores[comp].append(r2)\n",
    "\n",
    "                        absolute_error = np.linalg.norm(true_sample_flat - pred_sample_flat, 1)\n",
    "                        relative_error = absolute_error / np.linalg.norm(true_sample_flat, 1)\n",
    "                        sample_relative_errors[comp].append(relative_error)\n",
    "\n",
    "                        mse = mean_squared_error(true_sample_flat, pred_sample_flat)\n",
    "                        sample_mses[comp].append(mse)\n",
    "\n",
    "                        mae = mean_absolute_error(true_sample_flat, pred_sample_flat)\n",
    "                        sample_maes[comp].append(mae)\n",
    "\n",
    "                        psnr_value = psnr(true_sample_component, pred_sample_component, data_range=data_range)\n",
    "                        sample_psnr_values[comp].append(psnr_value)\n",
    "\n",
    "                        ssim_value = ssim(true_sample_component, pred_sample_component, data_range=data_range)\n",
    "                        sample_ssim_values[comp].append(ssim_value)\n",
    "                        \n",
    "        with open(results_file, mode='a', newline='') as file:\n",
    "            writer = csv.writer(file)\n",
    "            for comp in ['bx', 'by', 'bz']:\n",
    "                writer.writerow([epoch+1, comp,\n",
    "                                 np.mean(sample_r2_scores[comp]),\n",
    "                                 np.mean(sample_relative_errors[comp]),\n",
    "                                 np.mean(sample_mses[comp]),\n",
    "                                 np.mean(sample_maes[comp]),\n",
    "                                 np.mean(sample_psnr_values[comp]),\n",
    "                                 np.mean(sample_ssim_values[comp])])\n",
    "\n",
    "        model.eval()\n",
    "        with torch.no_grad():\n",
    "            for sample in test_loader:\n",
    "                x = sample['input'].to(device0)\n",
    "                lengths = sample['lengths'].to(device0)  \n",
    "                y_true_batch = sample['output'].cpu().numpy()\n",
    "                y_pred_batch = model(x, lengths).cpu().numpy()\n",
    "\n",
    "                type_labels = sample['type_label_str']  \n",
    "\n",
    "                for true_sample, pred_sample, t_str in zip(y_true_batch, y_pred_batch, type_labels):\n",
    "                    if t_str not in type_performance:\n",
    "                        type_performance[t_str] = {\n",
    "                            'bx': {'r2': [], 'mse': [], 'mae': [], 'psnr': [], 'ssim': [], 'rel_err': []},\n",
    "                            'by': {'r2': [], 'mse': [], 'mae': [], 'psnr': [], 'ssim': [], 'rel_err': []},\n",
    "                            'bz': {'r2': [], 'mse': [], 'mae': [], 'psnr': [], 'ssim': [], 'rel_err': []},\n",
    "                        }\n",
    "\n",
    "                    for i, comp in enumerate(['bx', 'by', 'bz']):\n",
    "                        true_comp = true_sample[:, i].flatten()\n",
    "                        pred_comp = pred_sample[:, i].flatten()\n",
    "                        r2_val = r2_score(true_comp, pred_comp)\n",
    "\n",
    "                        abs_err = np.linalg.norm(true_comp - pred_comp, 1)\n",
    "                        rel_err = abs_err / np.linalg.norm(true_comp, 1)\n",
    "\n",
    "                        mse_val = mean_squared_error(true_comp, pred_comp)\n",
    "\n",
    "                        mae_val = mean_absolute_error(true_comp, pred_comp)\n",
    "\n",
    "                        psnr_val = psnr(true_comp, pred_comp, data_range=data_range)\n",
    "                        ssim_val = ssim(\n",
    "                            true_comp,\n",
    "                            pred_comp,\n",
    "                            data_range=data_range\n",
    "                        )\n",
    "\n",
    "                        metrics = type_performance[t_str][comp]\n",
    "                        metrics['r2'].append(r2_val)\n",
    "                        metrics['rel_err'].append(rel_err)\n",
    "                        metrics['mse'].append(mse_val)\n",
    "                        metrics['mae'].append(mae_val)\n",
    "                        metrics['psnr'].append(psnr_val)\n",
    "                        metrics['ssim'].append(ssim_val)\n",
    "                        \n",
    "        avg_type_performance = {}\n",
    "        for t_str, comp_dict in type_performance.items():\n",
    "            avg_type_performance[t_str] = {}\n",
    "            for comp in ['bx', 'by', 'bz']:\n",
    "                avg_type_performance[t_str][comp] = {\n",
    "                    'r2':    np.mean(comp_dict[comp]['r2']),\n",
    "                    'mse':   np.mean(comp_dict[comp]['mse']),\n",
    "                    'mae':   np.mean(comp_dict[comp]['mae']),\n",
    "                    'psnr':  np.mean(comp_dict[comp]['psnr']),\n",
    "                    'ssim':  np.mean(comp_dict[comp]['ssim']),\n",
    "                    'rel_err': np.mean(comp_dict[comp]['rel_err']),\n",
    "                }\n",
    "\n",
    "        all_types = sorted(avg_type_performance.keys())\n",
    "        comps = ['bx', 'by', 'bz']\n",
    "        \n",
    "        scores_by_comp = []\n",
    "        for comp in comps:\n",
    "            comp_scores = [avg_type_performance[t][comp]['r2'] for t in all_types]\n",
    "            scores_by_comp.append(comp_scores)\n",
    "        scores_by_comp = np.array(scores_by_comp)  # shape: (3, n_types)\n",
    "\n",
    "        plt.figure(figsize=(10,6))\n",
    "        bar_width = 0.25\n",
    "        x = np.arange(len(all_types))\n",
    "\n",
    "        for i, comp in enumerate(comps):\n",
    "            plt.bar(\n",
    "                x + i*bar_width, \n",
    "                scores_by_comp[i], \n",
    "                width=bar_width, \n",
    "                label=comp.upper()\n",
    "            )\n",
    "\n",
    "        plt.xticks(x + bar_width, all_types, rotation=45)\n",
    "        plt.ylabel('R2 Score')\n",
    "        \n",
    "\n",
    "        ax = plt.gca()\n",
    "\n",
    "        ax.yaxis.set_major_formatter(ticker.FormatStrFormatter('%.4f'))\n",
    "\n",
    "        plt.title(f'Comparison of R2 by Type (Epoch {epoch+1})')\n",
    "        plt.legend()\n",
    "        plt.tight_layout()\n",
    "        \n",
    "        plot_path = os.path.join(checkpoint_dir, f\"R2_bar_chart_epoch_{epoch+1}.png\")\n",
    "        plt.savefig(plot_path)\n",
    "        plt.close()\n",
    "        print(f\"Grouped Bar Chart saved: {plot_path}\")\n",
    "\n",
    "np.save(os.path.join(checkpoint_dir, 'train_losses_Bx.npy'), np.array(train_losses_Bx))\n",
    "np.save(os.path.join(checkpoint_dir, 'train_losses_By.npy'), np.array(train_losses_By))\n",
    "np.save(os.path.join(checkpoint_dir, 'train_losses_Bz.npy'), np.array(train_losses_Bz))\n",
    "np.save(os.path.join(checkpoint_dir, 'physics_losses.npy'), np.array(physics_losses))\n",
    "np.save(os.path.join(checkpoint_dir, 'test_losses_Bx.npy'), np.array(test_losses_Bx))\n",
    "np.save(os.path.join(checkpoint_dir, 'test_losses_By.npy'), np.array(test_losses_By))\n",
    "np.save(os.path.join(checkpoint_dir, 'test_losses_Bz.npy'), np.array(test_losses_Bz))\n",
    "\n",
    "plt.figure(figsize=(10, 5))\n",
    "plt.plot(train_losses_Bx, label='Training Loss Bx', color='red')\n",
    "plt.plot(train_losses_By, label='Training Loss By', color='green')\n",
    "plt.plot(train_losses_Bz, label='Training Loss Bz', color='blue')\n",
    "plt.xlabel('Epoch')\n",
    "plt.ylabel('Loss')\n",
    "plt.title('Training Losses for Bx, By, Bz')\n",
    "plt.legend()\n",
    "plt.show()\n",
    "\n",
    "plt.figure(figsize=(10, 5))\n",
    "plt.plot(test_losses_Bx, label='Testing R2 Bx', color='red')\n",
    "plt.plot(test_losses_By, label='Testing R2 By', color='green')\n",
    "plt.plot(test_losses_Bz, label='Testing R2 Bz', color='blue')\n",
    "plt.xlabel('Epoch')\n",
    "plt.ylabel('R2 Score')\n",
    "plt.title('Testing R2 Scores for Bx, By, Bz')\n",
    "plt.legend()\n",
    "plt.show()\n"
   ]
  },
  {
   "cell_type": "code",
   "execution_count": 6,
   "id": "7a9f3dae-a438-4b02-810a-26fff7cd45a6",
   "metadata": {},
   "outputs": [
    {
     "name": "stderr",
     "output_type": "stream",
     "text": [
      "/tmp/ipykernel_1975136/477854042.py:1: FutureWarning: You are using `torch.load` with `weights_only=False` (the current default value), which uses the default pickle module implicitly. It is possible to construct malicious pickle data which will execute arbitrary code during unpickling (See https://github.com/pytorch/pytorch/blob/main/SECURITY.md#untrusted-models for more details). In a future release, the default value for `weights_only` will be flipped to `True`. This limits the functions that could be executed during unpickling. Arbitrary objects will no longer be allowed to be loaded via this mode unless they are explicitly allowlisted by the user via `torch.serialization.add_safe_globals`. We recommend you start setting `weights_only=True` for any use case where you don't have full control of the loaded file. Please open an issue on GitHub for any issues related to this experimental feature.\n",
      "  model.load_state_dict(torch.load(\"result/NLFFF_Cube2Step/step1/checkpoint_epoch_150.pt\"))\n"
     ]
    },
    {
     "data": {
      "text/plain": [
       "CustomFNO(\n",
       "  (lifting1): MLP(\n",
       "    (fcs): ModuleList(\n",
       "      (0): Conv3d(1, 256, kernel_size=(1, 1, 1), stride=(1, 1, 1))\n",
       "      (1): Conv3d(256, 32, kernel_size=(1, 1, 1), stride=(1, 1, 1))\n",
       "    )\n",
       "  )\n",
       "  (lifting_y): MLP(\n",
       "    (fcs): ModuleList(\n",
       "      (0): Conv1d(3, 256, kernel_size=(1,), stride=(1,))\n",
       "      (1): Conv1d(256, 32, kernel_size=(1,), stride=(1,))\n",
       "    )\n",
       "  )\n",
       "  (DilatedConvYWithECA): DilatedConvYWithECA(\n",
       "    (conv): Conv3d(32, 32, kernel_size=(1, 3, 1), stride=(1, 1, 1), padding=(0, 2, 0), dilation=(1, 2, 1), bias=False)\n",
       "    (activation): ReLU()\n",
       "    (eca): ECA3DLayer(\n",
       "      (avg_pool): AdaptiveAvgPool3d(output_size=1)\n",
       "      (conv): Conv1d(1, 1, kernel_size=(3,), stride=(1,), padding=(1,), bias=False)\n",
       "      (sigmoid): Sigmoid()\n",
       "    )\n",
       "  )\n",
       "  (fno_blocks): FNOBlocks(\n",
       "    (convs): SpectralConv(\n",
       "      (weight): ModuleList(\n",
       "        (0-5): 6 x ComplexTuckerTensor(shape=(32, 32, 32, 32, 17), rank=(23, 23, 23, 23, 12))\n",
       "      )\n",
       "    )\n",
       "    (fno_skips): ModuleList(\n",
       "      (0-5): 6 x Conv3d(32, 32, kernel_size=(1, 1, 1), stride=(1, 1, 1), bias=False)\n",
       "    )\n",
       "    (mlp): ModuleList(\n",
       "      (0-5): 6 x MLP(\n",
       "        (fcs): ModuleList(\n",
       "          (0): Conv3d(32, 16, kernel_size=(1, 1, 1), stride=(1, 1, 1))\n",
       "          (1): Conv3d(16, 32, kernel_size=(1, 1, 1), stride=(1, 1, 1))\n",
       "        )\n",
       "      )\n",
       "    )\n",
       "    (mlp_skips): ModuleList(\n",
       "      (0-5): 6 x SoftGating()\n",
       "    )\n",
       "  )\n",
       "  (projection): MLP(\n",
       "    (fcs): ModuleList(\n",
       "      (0): Conv3d(32, 256, kernel_size=(1, 1, 1), stride=(1, 1, 1))\n",
       "      (1): Conv3d(256, 25, kernel_size=(1, 1, 1), stride=(1, 1, 1))\n",
       "    )\n",
       "  )\n",
       ")"
      ]
     },
     "execution_count": 6,
     "metadata": {},
     "output_type": "execute_result"
    }
   ],
   "source": [
    "model.load_state_dict(torch.load(\"result/NLFFF_Cube2Step/step1/checkpoint_epoch_150.pt\"))\n",
    "model.eval() "
   ]
  },
  {
   "cell_type": "code",
   "execution_count": 8,
   "id": "46bd3aa6-515f-42c7-958f-dfaa55838aa1",
   "metadata": {},
   "outputs": [
    {
     "name": "stdout",
     "output_type": "stream",
     "text": [
      "All Bx shape: (143, 25, 257, 513)\n",
      "All By shape: (143, 25, 257, 513)\n",
      "All Bz shape: (143, 25, 257, 513)\n",
      "All target By shape: (143, 25, 257, 513)\n",
      "All Test Bx shape: (170, 25, 257, 513)\n",
      "All Test By shape: (170, 25, 257, 513)\n",
      "All Test Bz shape: (170, 25, 257, 513)\n",
      "All Test target By shape: (170, 25, 257, 513)\n"
     ]
    }
   ],
   "source": [
    "import torch\n",
    "\n",
    "\n",
    "all_output_Bx = []\n",
    "all_output_By = []\n",
    "all_output_Bz = []\n",
    "all_target_Bx = []\n",
    "all_target_By = []\n",
    "all_target_Bz = []\n",
    "\n",
    "for sample in train_loader:\n",
    "    input_data = sample['input'].to(device0)  \n",
    "    lengths = sample['lengths'].to(device0)  \n",
    "\n",
    "    with torch.no_grad():\n",
    "        output = model(input_data, lengths)\n",
    "\n",
    "    output_Bx = output[:, :, 0, :, :].cpu().numpy() \n",
    "    output_By = output[:, :, 1, :, :].cpu().numpy()\n",
    "    output_Bz = output[:, :, 2, :, :].cpu().numpy()  \n",
    "\n",
    "    target_Bx = sample['output'][:, :, 0, :, :].cpu().numpy()  \n",
    "    target_By = sample['output'][:, :, 1, :, :].cpu().numpy()  \n",
    "    target_Bz = sample['output'][:, :, 2, :, :].cpu().numpy() \n",
    "\n",
    "    all_output_Bx.append(output_Bx)\n",
    "    all_output_By.append(output_By)\n",
    "    all_output_Bz.append(output_Bz)\n",
    "\n",
    "    all_target_Bx.append(target_Bx)\n",
    "    all_target_By.append(target_By)\n",
    "    all_target_Bz.append(target_Bz)\n",
    "\n",
    "all_output_Bx = np.concatenate(all_output_Bx, axis=0)\n",
    "all_output_By = np.concatenate(all_output_By, axis=0)\n",
    "all_output_Bz = np.concatenate(all_output_Bz, axis=0)\n",
    "all_target_Bx = np.concatenate(all_target_Bx, axis=0)\n",
    "all_target_By = np.concatenate(all_target_By, axis=0)\n",
    "all_target_Bz = np.concatenate(all_target_Bz, axis=0)\n",
    "\n",
    "print(f'All Bx shape: {all_output_Bx.shape}')\n",
    "print(f'All By shape: {all_output_By.shape}')\n",
    "print(f'All Bz shape: {all_output_Bz.shape}')\n",
    "print(f'All target By shape: {all_target_By.shape}')\n",
    "\n",
    "all_test_output_Bx = []\n",
    "all_test_output_By = []\n",
    "all_test_output_Bz = []\n",
    "all_test_target_Bx = []\n",
    "all_test_target_By = []\n",
    "all_test_target_Bz = []\n",
    "\n",
    "\n",
    "for sample in test_loader:\n",
    "\n",
    "    input_data = sample['input'].to(device0) \n",
    "    lengths = sample['lengths'].to(device0)\n",
    "\n",
    "    with torch.no_grad():\n",
    "        output = model(input_data, lengths)\n",
    "\n",
    "    output_Bx = output[:, :, 0, :, :].cpu().numpy()\n",
    "    output_By = output[:, :, 1, :, :].cpu().numpy()\n",
    "    output_Bz = output[:, :, 2, :, :].cpu().numpy()  \n",
    "\n",
    "    target_Bx = sample['output'][:, :, 0, :, :].cpu().numpy()  \n",
    "    target_By = sample['output'][:, :, 1, :, :].cpu().numpy()  \n",
    "    target_Bz = sample['output'][:, :, 2, :, :].cpu().numpy()  \n",
    "\n",
    "    all_test_output_Bx.append(output_Bx)\n",
    "    all_test_output_By.append(output_By)\n",
    "    all_test_output_Bz.append(output_Bz)\n",
    "    all_test_target_Bx.append(target_Bx)\n",
    "    all_test_target_By.append(target_By)\n",
    "    all_test_target_Bz.append(target_Bz)\n",
    "\n",
    "all_test_output_Bx = np.concatenate(all_test_output_Bx, axis=0)\n",
    "all_test_output_By = np.concatenate(all_test_output_By, axis=0)\n",
    "all_test_output_Bz = np.concatenate(all_test_output_Bz, axis=0)\n",
    "all_test_target_Bx = np.concatenate(all_test_target_Bx, axis=0)\n",
    "all_test_target_By = np.concatenate(all_test_target_By, axis=0)\n",
    "all_test_target_Bz = np.concatenate(all_test_target_Bz, axis=0)\n",
    "\n",
    "combined_output_Bx = np.concatenate((all_output_Bx, all_test_output_Bx), axis=0)\n",
    "combined_output_By = np.concatenate((all_output_By, all_test_output_By), axis=0)\n",
    "combined_output_Bz = np.concatenate((all_output_Bz, all_test_output_Bz), axis=0)\n",
    "\n",
    "combined_target_Bx = np.concatenate((all_target_Bx, all_test_target_Bx), axis=0)\n",
    "combined_target_By = np.concatenate((all_target_By, all_test_target_By), axis=0)\n",
    "combined_target_Bz = np.concatenate((all_target_Bz, all_test_target_Bz), axis=0)\n",
    "\n",
    "print(f'All Test Bx shape: {combined_output_Bx.shape}')\n",
    "print(f'All Test By shape: {combined_output_By.shape}')\n",
    "print(f'All Test Bz shape: {combined_output_Bz.shape}')\n",
    "\n",
    "print(f'All Test target By shape: {combined_target_By.shape}')"
   ]
  },
  {
   "cell_type": "code",
   "execution_count": 9,
   "id": "ae85aac2-8602-462d-882e-2056e1476ae7",
   "metadata": {},
   "outputs": [
    {
     "name": "stdout",
     "output_type": "stream",
     "text": [
      "torch.Size([10, 25, 3, 257, 513])\n",
      "torch.Size([10, 1, 3])\n",
      "torch.Size([10, 25, 3, 257, 513])\n"
     ]
    }
   ],
   "source": [
    "import torch\n",
    "from torch.utils.data import Dataset\n",
    "import numpy as np\n",
    "\n",
    "class NewCustomDataset(Dataset):\n",
    "    \n",
    "    def __init__(\n",
    "        self, \n",
    "        Bx_data, By_data, Bz_data, \n",
    "        Bx_targets, By_targets, Bz_targets, \n",
    "        x_lengths, y_lengths, z_lengths,\n",
    "        type_labels=None\n",
    "    ):\n",
    "        \n",
    "        self.Bx_data = Bx_data\n",
    "        self.By_data = By_data\n",
    "        self.Bz_data = Bz_data\n",
    "\n",
    "        self.Bx_targets = Bx_targets\n",
    "        self.By_targets = By_targets\n",
    "        self.Bz_targets = Bz_targets\n",
    "        \n",
    "        self.x_lengths = x_lengths\n",
    "        self.y_lengths = y_lengths\n",
    "        self.z_lengths = z_lengths\n",
    "\n",
    "        self.x_mean = np.mean(self.x_lengths)\n",
    "        self.x_std = np.std(self.x_lengths)\n",
    "\n",
    "        self.y_mean = np.mean(self.y_lengths)\n",
    "        self.y_std = np.std(self.y_lengths)\n",
    "\n",
    "        self.z_mean = np.mean(self.z_lengths)\n",
    "        self.z_std = np.std(self.z_lengths)\n",
    "\n",
    "        self.type_labels = type_labels  \n",
    "\n",
    "    def __len__(self):\n",
    "        return self.Bx_data.shape[0]\n",
    "\n",
    "    def __getitem__(self, idx):\n",
    "\n",
    "        input_Bx = self.Bx_data[idx]  \n",
    "        input_By = self.By_data[idx]\n",
    "        input_Bz = self.Bz_data[idx]  \n",
    "\n",
    "        input_data = torch.stack((input_Bx, input_By, input_Bz), dim=1)  \n",
    "\n",
    "        target_Bx = self.Bx_targets[idx]\n",
    "        target_By = self.By_targets[idx]\n",
    "        target_Bz = self.Bz_targets[idx]\n",
    "\n",
    "        target_data = torch.stack((target_Bx, target_By, target_Bz), dim=1)\n",
    "\n",
    "        x_length = self.x_lengths[idx]\n",
    "        y_length = self.y_lengths[idx]\n",
    "        z_length = self.z_lengths[idx]\n",
    "\n",
    "        x_length_normalized = (x_length - self.x_mean) / self.x_std\n",
    "        y_length_normalized = (y_length - self.y_mean) / self.y_std\n",
    "        z_length_normalized = (z_length - self.z_mean) / self.z_std\n",
    "\n",
    "        length_tensor = torch.tensor(\n",
    "            [x_length_normalized, y_length_normalized, z_length_normalized],\n",
    "            dtype=torch.float32\n",
    "        ).unsqueeze(0)\n",
    "\n",
    "        type_label = None\n",
    "        if self.type_labels is not None:\n",
    "            type_label = self.type_labels[idx]\n",
    "        \n",
    "        sample = {\n",
    "            'input': input_data,           \n",
    "            'lengths': length_tensor,\n",
    "            'target': target_data\n",
    "        }\n",
    "\n",
    "        if type_label is not None:\n",
    "            sample['type_label'] = type_label  \n",
    "\n",
    "        return sample\n",
    "\n",
    "x_lengths = np.load(\"NLFFF_data/x_height.npy\")\n",
    "y_lengths = np.load(\"NLFFF_data/y_height.npy\")\n",
    "z_lengths = np.load(\"NLFFF_data/z_height.npy\")\n",
    "\n",
    "combined_output_Bx = torch.tensor(combined_output_Bx).float()\n",
    "combined_output_By = torch.tensor(combined_output_By).float()\n",
    "combined_output_Bz = torch.tensor(combined_output_Bz).float()\n",
    "\n",
    "combined_target_Bx = torch.tensor(combined_target_Bx).float()\n",
    "combined_target_By = torch.tensor(combined_target_By).float()\n",
    "combined_target_Bz = torch.tensor(combined_target_Bz).float()\n",
    "\n",
    "df = pd.read_excel(\"NLFFF_data/NLFFF_datatype.xlsx\")\n",
    "type_labels_from_excel = df[\"type\"].values\n",
    "\n",
    "dataset = NewCustomDataset(combined_output_Bx, combined_output_By, combined_output_Bz, combined_target_Bx, combined_target_By, combined_target_Bz, x_lengths, y_lengths, z_lengths, type_labels_from_excel)\n",
    "\n",
    "train_size = 143\n",
    "test_size = 27\n",
    "\n",
    "train_indices = list(range(train_size))\n",
    "test_indices = list(range(train_size, train_size + test_size))\n",
    "\n",
    "train_dataset = torch.utils.data.Subset(dataset, train_indices)\n",
    "test_dataset = torch.utils.data.Subset(dataset, test_indices)\n",
    "\n",
    "train_loader = torch.utils.data.DataLoader(train_dataset, batch_size=10, shuffle=True, num_workers=8, persistent_workers=False)\n",
    "test_loader = torch.utils.data.DataLoader(test_dataset, batch_size=10, shuffle=False, num_workers=8, persistent_workers=False)\n",
    "\n",
    "for batch in train_loader:\n",
    "    print(batch['input'].shape)  \n",
    "    print(batch['lengths'].shape)\n",
    "    print(batch['target'].shape)\n",
    "    break\n"
   ]
  },
  {
   "cell_type": "code",
   "execution_count": 10,
   "id": "940a3852-2c3c-4efb-800a-4cf2b2c498e4",
   "metadata": {},
   "outputs": [],
   "source": [
    "import torch\n",
    "import torch.nn as nn\n",
    "import torch.nn.functional as F\n",
    "\n",
    "import torch\n",
    "import torch.nn as nn\n",
    "import torch.nn.functional as F\n",
    "import math\n",
    "\n",
    "class PhysicsInformedLoss(nn.Module):\n",
    "    def __init__(self, \n",
    "                 weight=1.0, \n",
    "                 beta=1.0,    \n",
    "                 alpha=1.0,   \n",
    "                 gamma=1.0,   \n",
    "                 delta=1.0,   \n",
    "                 ):\n",
    "        \n",
    "        super(PhysicsInformedLoss, self).__init__()\n",
    "        self.weight = weight\n",
    "        self.beta = beta       \n",
    "        self.gamma = gamma    \n",
    "        self.delta = delta     \n",
    "        self.alpha = alpha     \n",
    "\n",
    "    def forward(self, output, target):\n",
    "\n",
    "        divergence_loss = self.compute_divergence_loss(output)\n",
    "        force_free_loss = self.compute_force_free_loss(output)\n",
    "        grad_diff_loss = self.compute_gradient_difference(output, target)\n",
    "        free_energy_loss = self.compute_free_energy_loss(output, target)\n",
    "\n",
    "        total_loss = self.weight * (\n",
    "            self.beta * divergence_loss +\n",
    "            self.gamma * force_free_loss +\n",
    "            self.alpha * free_energy_loss\n",
    "        )\n",
    "        return total_loss\n",
    "\n",
    "    def compute_divergence_loss(self, output):\n",
    "    \n",
    "        batch_size, depth, components, height, width = output.shape\n",
    "        B = output.permute(0, 2, 1, 3, 4)  # [batch_size, 3, depth, height, width]\n",
    "        channels = components  \n",
    "\n",
    "        device = output.device\n",
    "        kernel_dx = torch.tensor([-0.5, 0, 0.5], device=device).reshape(1, 1, 1, 1, 3)\n",
    "        kernel_dy = torch.tensor([-0.5, 0, 0.5], device=device).reshape(1, 1, 1, 3, 1)\n",
    "        kernel_dz = torch.tensor([-0.5, 0, 0.5], device=device).reshape(1, 1, 3, 1, 1)\n",
    "\n",
    "        kernel_dx = kernel_dx.repeat(channels, 1, 1, 1, 1)\n",
    "        kernel_dy = kernel_dy.repeat(channels, 1, 1, 1, 1)\n",
    "        kernel_dz = kernel_dz.repeat(channels, 1, 1, 1, 1)\n",
    "\n",
    "        dB_dx = F.conv3d(B, kernel_dx, padding=(0, 0, 1), groups=channels)\n",
    "        dB_dy = F.conv3d(B, kernel_dy, padding=(0, 1, 0), groups=channels)\n",
    "        dB_dz = F.conv3d(B, kernel_dz, padding=(1, 0, 0), groups=channels)\n",
    "\n",
    "        dB_x_dx = dB_dx[:, 0, :, :, :]\n",
    "        dB_y_dy = dB_dy[:, 1, :, :, :]\n",
    "        dB_z_dz = dB_dz[:, 2, :, :, :]\n",
    "\n",
    "        divergence = dB_x_dx + dB_y_dy + dB_z_dz\n",
    "        divergence_loss = torch.mean(divergence ** 2)\n",
    "\n",
    "        return divergence_loss\n",
    "\n",
    "    def compute_force_free_loss(self, output):\n",
    "        # output: [batch_size, z, 3, y, x]\n",
    "        batch_size, depth, components, height, width = output.shape\n",
    "        B = output.permute(0, 2, 1, 3, 4)  # [batch_size, 3, depth, height, width]\n",
    "        channels = components\n",
    "\n",
    "        device = output.device\n",
    "        kernel_dx = torch.tensor([-0.5, 0, 0.5], device=device).reshape(1, 1, 1, 1, 3)\n",
    "        kernel_dy = torch.tensor([-0.5, 0, 0.5], device=device).reshape(1, 1, 1, 3, 1)\n",
    "        kernel_dz = torch.tensor([-0.5, 0, 0.5], device=device).reshape(1, 1, 3, 1, 1)\n",
    "\n",
    "        kernel_dx = kernel_dx.repeat(channels, 1, 1, 1, 1)\n",
    "        kernel_dy = kernel_dy.repeat(channels, 1, 1, 1, 1)\n",
    "        kernel_dz = kernel_dz.repeat(channels, 1, 1, 1, 1)\n",
    "\n",
    "        dB_dx = F.conv3d(B, kernel_dx, padding=(0, 0, 1), groups=channels)\n",
    "        dB_dy = F.conv3d(B, kernel_dy, padding=(0, 1, 0), groups=channels)\n",
    "        dB_dz = F.conv3d(B, kernel_dz, padding=(1, 0, 0), groups=channels)\n",
    "\n",
    "        dB_x_dy = dB_dy[:, 0, :, :, :]\n",
    "        dB_x_dz = dB_dz[:, 0, :, :, :]\n",
    "        dB_y_dx = dB_dx[:, 1, :, :, :]\n",
    "        dB_y_dz = dB_dz[:, 1, :, :, :]\n",
    "        dB_z_dx = dB_dx[:, 2, :, :, :]\n",
    "        dB_z_dy = dB_dy[:, 2, :, :, :]\n",
    "\n",
    "        rot_x = dB_z_dy - dB_y_dz\n",
    "        rot_y = dB_x_dz - dB_z_dx\n",
    "        rot_z = dB_y_dx - dB_x_dy\n",
    "\n",
    "        j = torch.stack([rot_x, rot_y, rot_z], dim=1)\n",
    "\n",
    "        jxb = torch.cross(j, B, dim=1)\n",
    "\n",
    "        B_magnitude_squared = torch.sum(B ** 2, dim=1, keepdim=True) + 1e-7\n",
    "\n",
    "        force_free_loss = torch.mean(torch.sum(jxb ** 2, dim=1) / B_magnitude_squared.squeeze(1))\n",
    "        return force_free_loss\n",
    "\n",
    "    def compute_gradient_difference(self, output, target):\n",
    "        if target.shape != output.shape:\n",
    "            return torch.tensor(0.0, device=output.device)\n",
    "\n",
    "        batch_size, depth, components, height, width = output.shape\n",
    "        B_pred = output.permute(0, 2, 1, 3, 4)   # [batch_size, 3, depth, height, width]\n",
    "        B_true = target.permute(0, 2, 1, 3, 4)\n",
    "        channels = components\n",
    "\n",
    "        device = output.device\n",
    "        kernel_dx = torch.tensor([-0.5, 0, 0.5], device=device).reshape(1, 1, 1, 1, 3)\n",
    "        kernel_dy = torch.tensor([-0.5, 0, 0.5], device=device).reshape(1, 1, 1, 3, 1)\n",
    "        kernel_dz = torch.tensor([-0.5, 0, 0.5], device=device).reshape(1, 1, 3, 1, 1)\n",
    "\n",
    "        kernel_dx = kernel_dx.repeat(channels, 1, 1, 1, 1)\n",
    "        kernel_dy = kernel_dy.repeat(channels, 1, 1, 1, 1)\n",
    "        kernel_dz = kernel_dz.repeat(channels, 1, 1, 1, 1)\n",
    "\n",
    "        dBp_dx = F.conv3d(B_pred, kernel_dx, padding=(0, 0, 1), groups=channels)\n",
    "        dBp_dy = F.conv3d(B_pred, kernel_dy, padding=(0, 1, 0), groups=channels)\n",
    "        dBp_dz = F.conv3d(B_pred, kernel_dz, padding=(1, 0, 0), groups=channels)\n",
    "\n",
    "        dBt_dx = F.conv3d(B_true, kernel_dx, padding=(0, 0, 1), groups=channels)\n",
    "        dBt_dy = F.conv3d(B_true, kernel_dy, padding=(0, 1, 0), groups=channels)\n",
    "        dBt_dz = F.conv3d(B_true, kernel_dz, padding=(1, 0, 0), groups=channels)\n",
    "\n",
    "        grad_diff = (dBp_dx - dBt_dx)**2 + \\\n",
    "                    (dBp_dy - dBt_dy)**2 + \\\n",
    "                    (dBp_dz - dBt_dz)**2\n",
    "\n",
    "        loss_val = torch.mean(grad_diff)\n",
    "        return loss_val\n",
    "\n",
    "    def compute_free_energy_loss(self, output, target):\n",
    "    \n",
    "        if output.shape != target.shape:\n",
    "            return torch.tensor(0.0, device=output.device)\n",
    "\n",
    "        B_pred = output.permute(0, 2, 1, 3, 4)\n",
    "        B_true = target.permute(0, 2, 1, 3, 4)\n",
    "\n",
    "        B_diff = B_pred - B_true \n",
    "\n",
    "        B_diff_sq = (B_diff ** 2).sum(dim=(1,2,3,4))     \n",
    "        E_diff = B_diff_sq / (8.0 * math.pi)          \n",
    "\n",
    "        free_energy_loss = torch.mean(E_diff)/1e5\n",
    "\n",
    "        return free_energy_loss\n",
    "\n",
    "class singlePhysicsInformedDivergence_Loss(nn.Module):\n",
    "    def __init__(self, weight=1.0, alpha=1.0, beta=1.0, gamma=1.0):\n",
    "        super(singlePhysicsInformedDivergence_Loss, self).__init__()\n",
    "        self.weight = weight\n",
    "        self.alpha = alpha  \n",
    "        self.beta = beta    \n",
    "        self.gamma = gamma  \n",
    "\n",
    "    def forward(self, output, target): \n",
    "        loss = self.compute_single_slice_physics_loss(output)\n",
    "        \n",
    "        return loss\n",
    "\n",
    "    def compute_single_slice_physics_loss(self, output_slice):\n",
    "\n",
    "        batch_size, components, height, width = output_slice.shape\n",
    "        #print(output_slice.shape)\n",
    "        B = output_slice.unsqueeze(2)\n",
    "        device = output_slice.device\n",
    "\n",
    "        kernel_dx = torch.tensor([-0.5, 0, 0.5], device=device).reshape(1, 1, 1, 1, 3)\n",
    "        kernel_dy = torch.tensor([-0.5, 0, 0.5], device=device).reshape(1, 1, 1, 3, 1)\n",
    "        kernel_dz = torch.tensor([-0.5, 0, 0.5], device=device).reshape(1, 1, 3, 1, 1)\n",
    "\n",
    "        kernel_dx = kernel_dx.repeat(components, 1, 1, 1, 1)\n",
    "        kernel_dy = kernel_dy.repeat(components, 1, 1, 1, 1)\n",
    "        kernel_dz = kernel_dz.repeat(components, 1, 1, 1, 1)\n",
    "\n",
    "        dB_dx = F.conv3d(B, kernel_dx, padding=(0, 0, 1), groups=components)\n",
    "        dB_dy = F.conv3d(B, kernel_dy, padding=(0, 1, 0), groups=components)\n",
    "        dB_dz = F.conv3d(B, kernel_dz, padding=(1, 0, 0), groups=components)\n",
    "\n",
    "        dB_x_dx = dB_dx[:, 0, :, :]\n",
    "        dB_y_dy = dB_dy[:, 1, :, :]\n",
    "        dB_z_dz = dB_dz[:, 2, :, :]\n",
    "\n",
    "        divergence = dB_x_dx + dB_y_dy + dB_z_dz\n",
    "        divergence_loss = torch.mean(divergence ** 2, dim=(1, 2, 3))\n",
    "\n",
    "        dB_x_dy = dB_dy[:, 0, :, :]\n",
    "        dB_x_dz = dB_dz[:, 0, :, :]\n",
    "\n",
    "        dB_y_dx = dB_dx[:, 1, :, :]\n",
    "        dB_y_dz = dB_dz[:, 1, :, :]\n",
    "\n",
    "        dB_z_dx = dB_dx[:, 2, :, :]\n",
    "        dB_z_dy = dB_dy[:, 2, :, :]\n",
    "\n",
    "        rot_x = dB_z_dy - dB_y_dz\n",
    "        rot_y = dB_x_dz - dB_z_dx\n",
    "        rot_z = dB_y_dx - dB_x_dy\n",
    "\n",
    "        j = torch.stack([rot_x, rot_y, rot_z], dim=1)  # [batch_size, 3, height, width]\n",
    "\n",
    "        jxb = torch.cross(j, B, dim=1)  # [batch_size, 3, height, width]\n",
    "        B_magnitude_squared = torch.sum(B ** 2, dim=1, keepdim=True) + 1e-7\n",
    "        force_free_loss = torch.mean(torch.sum(jxb ** 2, dim=1) / B_magnitude_squared.squeeze(1), dim=(1, 2, 3))\n",
    "\n",
    "        physics_loss = divergence_loss\n",
    "\n",
    "        return physics_loss\n",
    "\n",
    "class singlePhysicsInformedForce_Free_Loss(nn.Module):\n",
    "    def __init__(self, weight=1.0, alpha=1.0, beta=1.0, gamma=1.0):\n",
    "        super(singlePhysicsInformedForce_Free_Loss, self).__init__()\n",
    "        self.weight = weight\n",
    "        self.alpha = alpha  \n",
    "        self.beta = beta    \n",
    "        self.gamma = gamma  \n",
    "\n",
    "    def forward(self, output, target): \n",
    "        loss = self.compute_single_slice_physics_loss(output)\n",
    "        \n",
    "        return loss\n",
    "\n",
    "    def compute_single_slice_physics_loss(self, output_slice):\n",
    "\n",
    "        batch_size, components, height, width = output_slice.shape\n",
    "        #print(output_slice.shape)\n",
    "        B = output_slice.unsqueeze(2)\n",
    "        device = output_slice.device\n",
    "\n",
    "        kernel_dx = torch.tensor([-0.5, 0, 0.5], device=device).reshape(1, 1, 1, 1, 3)\n",
    "        kernel_dy = torch.tensor([-0.5, 0, 0.5], device=device).reshape(1, 1, 1, 3, 1)\n",
    "        kernel_dz = torch.tensor([-0.5, 0, 0.5], device=device).reshape(1, 1, 3, 1, 1)\n",
    "\n",
    "        kernel_dx = kernel_dx.repeat(components, 1, 1, 1, 1)\n",
    "        kernel_dy = kernel_dy.repeat(components, 1, 1, 1, 1)\n",
    "        kernel_dz = kernel_dz.repeat(components, 1, 1, 1, 1)\n",
    "\n",
    "        dB_dx = F.conv3d(B, kernel_dx, padding=(0, 0, 1), groups=components)\n",
    "        dB_dy = F.conv3d(B, kernel_dy, padding=(0, 1, 0), groups=components)\n",
    "        dB_dz = F.conv3d(B, kernel_dz, padding=(1, 0, 0), groups=components)\n",
    "\n",
    "        dB_x_dx = dB_dx[:, 0, :, :]\n",
    "\n",
    "        dB_y_dy = dB_dy[:, 1, :, :]\n",
    "\n",
    "        dB_z_dz = dB_dz[:, 2, :, :]\n",
    "\n",
    "        divergence = dB_x_dx + dB_y_dy + dB_z_dz\n",
    "        divergence_loss = torch.mean(divergence ** 2, dim=(1, 2, 3))\n",
    "\n",
    "        dB_x_dy = dB_dy[:, 0, :, :]\n",
    "        dB_x_dz = dB_dz[:, 0, :, :]\n",
    "\n",
    "        dB_y_dx = dB_dx[:, 1, :, :]\n",
    "        dB_y_dz = dB_dz[:, 1, :, :]\n",
    "\n",
    "        dB_z_dx = dB_dx[:, 2, :, :]\n",
    "        dB_z_dy = dB_dy[:, 2, :, :]\n",
    "\n",
    "        rot_x = dB_z_dy - dB_y_dz\n",
    "        rot_y = dB_x_dz - dB_z_dx\n",
    "        rot_z = dB_y_dx - dB_x_dy\n",
    "\n",
    "        j = torch.stack([rot_x, rot_y, rot_z], dim=1)  # [batch_size, 3, height, width]\n",
    "\n",
    "        jxb = torch.cross(j, B, dim=1)  # [batch_size, 3, height, width]\n",
    "        B_magnitude_squared = torch.sum(B ** 2, dim=1, keepdim=True) + 1e-7\n",
    "        force_free_loss = torch.mean(torch.sum(jxb ** 2, dim=1) / B_magnitude_squared.squeeze(1), dim=(1, 2, 3))\n",
    "\n",
    "        physics_loss = force_free_loss\n",
    "\n",
    "        return physics_loss\n",
    "\n",
    "\n",
    "class ECA3DLayer(nn.Module):\n",
    "    def __init__(self, channel, k_size=3):\n",
    "        super(ECA3DLayer, self).__init__()\n",
    "        self.avg_pool = nn.AdaptiveAvgPool3d(1)\n",
    "        self.conv = nn.Conv1d(1, 1, kernel_size=k_size, padding=(k_size - 1) // 2, bias=False)\n",
    "        self.sigmoid = nn.Sigmoid()\n",
    "\n",
    "    def forward(self, x):\n",
    "        # x: [batch_size, channels, seq_len, height, width]\n",
    "        \n",
    "        # Global average pooling across seq_len, height, width\n",
    "        y = self.avg_pool(x)  # Shape: [batch_size, channels, 1, 1, 1]\n",
    "\n",
    "        # Apply 1D convolution across the channel dimension\n",
    "        y = self.conv(y.squeeze(-1).squeeze(-1).transpose(-1, -2))  # Shape: [batch_size, 1, channels]\n",
    "        y = y.transpose(-1, -2).unsqueeze(-1).unsqueeze(-1)  # Shape: [batch_size, channels, 1, 1, 1]\n",
    "\n",
    "        # Apply attention to input\n",
    "        return x * self.sigmoid(y).expand_as(x)\n",
    "\n",
    "\n",
    "class DilatedConvYWithECA(nn.Module):\n",
    "    def __init__(self, channels, dilation_y=2, k_size=3):\n",
    "        super(DilatedConvYWithECA, self).__init__()\n",
    "        # Dilated convolution in y dimension\n",
    "        self.conv = nn.Conv3d(\n",
    "            in_channels=channels,\n",
    "            out_channels=channels,\n",
    "            kernel_size=(1, 3, 1),  \n",
    "            padding=(0, dilation_y, 0),  \n",
    "            dilation=(1, dilation_y, 1),\n",
    "            bias=False\n",
    "        )\n",
    "        self.activation = nn.ReLU()\n",
    "\n",
    "        # ECA Attention layer\n",
    "        self.eca = ECA3DLayer(channel=channels, k_size=k_size)\n",
    "\n",
    "    def forward(self, x):\n",
    "        # Apply dilated convolution\n",
    "        x = self.conv(x)\n",
    "        x = self.activation(x)\n",
    "\n",
    "        # Apply ECA attention\n",
    "        x = self.eca(x)\n",
    "        \n",
    "        return x\n",
    "\n",
    "\n",
    "class CustomFNOnew(nn.Module):\n",
    "    def __init__(self, n_modes, hidden_channels, in_channels=3, out_channels=1,\n",
    "                 lifting_channels=256, projection_channels=256, n_layers=4,\n",
    "                 output_scaling_factor=None, max_n_modes=None,\n",
    "                 fno_block_precision=\"full\", use_mlp=False, mlp_dropout=0,\n",
    "                 mlp_expansion=0.5, non_linearity=F.gelu, stabilizer=None,\n",
    "                 norm=None, preactivation=False, fno_skip=\"linear\",\n",
    "                 mlp_skip=\"soft-gating\", separable=False, factorization=None,\n",
    "                 rank=1.0, joint_factorization=False, fixed_rank_modes=False,\n",
    "                 implementation=\"factorized\", decomposition_kwargs=dict(),\n",
    "                 domain_padding=None, domain_padding_mode=\"one-sided\",\n",
    "                 fft_norm=\"forward\", SpectralConv=SpectralConv,\n",
    "                 **kwargs):\n",
    "        \n",
    "        super().__init__()\n",
    "        self.n_dim = len(n_modes)\n",
    "        self.n_layers = n_layers\n",
    "\n",
    "        # Define the ECA-Net block for lengths_lifted\n",
    "        self.DilatedConvYWithECA = DilatedConvYWithECA(hidden_channels, dilation_y=2).to(device0)\n",
    "\n",
    "        # Define the lifting layers for two inputs\n",
    "        self.lifting1 = MLP(\n",
    "            in_channels=3,\n",
    "            out_channels=hidden_channels,\n",
    "            hidden_channels=lifting_channels,\n",
    "            n_layers=1,\n",
    "            n_dim=self.n_dim,\n",
    "        ).to(device0)\n",
    "        \n",
    "        self.lifting_y = MLP(\n",
    "            in_channels=3,  \n",
    "            out_channels=hidden_channels,\n",
    "            hidden_channels=lifting_channels,\n",
    "            n_layers=2,\n",
    "            n_dim=1,\n",
    "        ).to(device0)\n",
    "        \n",
    "    \n",
    "        # Define the FNO blocks\n",
    "        self.fno_blocks = FNOBlocks(\n",
    "            in_channels=hidden_channels,\n",
    "            out_channels=hidden_channels,\n",
    "            n_modes=n_modes,\n",
    "            output_scaling_factor=output_scaling_factor,\n",
    "            use_mlp=use_mlp,\n",
    "            mlp_dropout=mlp_dropout,\n",
    "            mlp_expansion=mlp_expansion,\n",
    "            non_linearity=non_linearity,\n",
    "            stabilizer=stabilizer,\n",
    "            norm=norm,\n",
    "            preactivation=preactivation,\n",
    "            fno_skip=fno_skip,\n",
    "            mlp_skip=mlp_skip,\n",
    "            max_n_modes=max_n_modes,\n",
    "            fno_block_precision=fno_block_precision,\n",
    "            rank=rank,\n",
    "            fft_norm=fft_norm,\n",
    "            fixed_rank_modes=fixed_rank_modes,\n",
    "            implementation=implementation,\n",
    "            separable=separable,\n",
    "            factorization=factorization,\n",
    "            decomposition_kwargs=decomposition_kwargs,\n",
    "            joint_factorization=joint_factorization,\n",
    "            SpectralConv=SpectralConv,\n",
    "            n_layers=n_layers,\n",
    "            **kwargs\n",
    "        ).to(device0)\n",
    "\n",
    "        self.projection = MLP(\n",
    "            in_channels=hidden_channels,\n",
    "            out_channels=out_channels,\n",
    "            hidden_channels=projection_channels,\n",
    "            n_layers=2,\n",
    "            n_dim=self.n_dim,\n",
    "            non_linearity=non_linearity,\n",
    "        ).to(device0)\n",
    "\n",
    "    \n",
    "    def forward(self, x, lengths):\n",
    "\n",
    "        x_orig = x.clone()\n",
    "        \n",
    "        lengths = lengths.view(-1, 3, 1)  \n",
    "\n",
    "        lengths_lifted = self.lifting_y(lengths)  \n",
    "\n",
    "        lengths_lifted = lengths_lifted.unsqueeze(-1).unsqueeze(-1)\n",
    "\n",
    "        lengths_lifted = self.DilatedConvYWithECA(lengths_lifted)\n",
    "        \n",
    "        x = x + lengths_lifted\n",
    "\n",
    "        for layer_idx in range(self.n_layers):\n",
    "            x = self.fno_blocks(x, layer_idx)\n",
    "\n",
    "        x = self.projection(x)\n",
    "\n",
    "        x[:, 0, :, :, :] = x_orig[:, 0, :, :, :]\n",
    "\n",
    "        return x\n"
   ]
  },
  {
   "cell_type": "code",
   "execution_count": 11,
   "id": "59d3c1de-9bc4-4a56-a56f-c4354a3c1f14",
   "metadata": {},
   "outputs": [
    {
     "name": "stdout",
     "output_type": "stream",
     "text": [
      "\n",
      "Your model has 24742316 parameters.\n"
     ]
    },
    {
     "name": "stderr",
     "output_type": "stream",
     "text": [
      "/home/jc2687/.local/lib/python3.11/site-packages/torch/optim/lr_scheduler.py:60: UserWarning: The verbose parameter is deprecated. Please use get_last_lr() to access the learning rate.\n",
      "  warnings.warn(\n"
     ]
    }
   ],
   "source": [
    "import argparse\n",
    "import torch\n",
    "import torch.distributed as dist\n",
    "from torch.nn.parallel import DistributedDataParallel as DDP\n",
    "\n",
    "newmodel = CustomFNOnew(n_modes = (32, 32, 32), in_channels=1, out_channels=25, n_layers = 6,\n",
    "               hidden_channels=25, use_mlp=True, factorization='tucker', rank=0.2)\n",
    "\n",
    "newmodel = newmodel.to(device0)\n",
    "\n",
    "n_params = count_model_params(newmodel)\n",
    "print(f'\\nYour model has {n_params} parameters.')\n",
    "\n",
    "optimizer = torch.optim.Adam(newmodel.parameters(), lr=1e-3, weight_decay=1e-4) \n",
    "\n",
    "scheduler = torch.optim.lr_scheduler.ReduceLROnPlateau(optimizer, mode='min', factor=0.8, patience=1, verbose=True)\n",
    "\n",
    "h1loss = H1Loss(d=2)"
   ]
  },
  {
   "cell_type": "code",
   "execution_count": 12,
   "id": "d4683b82-4531-443f-b006-71921902ec32",
   "metadata": {
    "scrolled": true
   },
   "outputs": [
    {
     "name": "stderr",
     "output_type": "stream",
     "text": [
      "Train Epoch 1/150: 100%|██████████| 15/15 [00:45<00:00,  3.06s/it, loss_Bx=10.5, loss_By=10.5, loss_Bz=10.4, physics_loss=1.4]\n",
      "Test Epoch 1/150: 100%|██████████| 3/3 [00:03<00:00,  1.32s/it]\n"
     ]
    },
    {
     "name": "stdout",
     "output_type": "stream",
     "text": [
      "Epoch: 1/150, Duration: 50.24s, Train Loss - Bx: 8.5516, By: 8.6002, Bz: 8.4173, Physics Loss: 1.0573, Test R2 - Bx: 0.3864, By: 0.3678, Bz: 0.3990\n",
      "Estimated Remaining Time: 2h 4m 46s\n"
     ]
    },
    {
     "name": "stderr",
     "output_type": "stream",
     "text": [
      "Train Epoch 2/150: 100%|██████████| 15/15 [00:42<00:00,  2.83s/it, loss_Bx=7.83, loss_By=7.85, loss_Bz=7.41, physics_loss=0.799]\n",
      "Test Epoch 2/150: 100%|██████████| 3/3 [00:04<00:00,  1.35s/it]"
     ]
    },
    {
     "name": "stdout",
     "output_type": "stream",
     "text": [
      "Epoch: 2/150, Duration: 46.94s, Train Loss - Bx: 6.6102, By: 6.7468, Bz: 6.4801, Physics Loss: 0.7024, Test R2 - Bx: 0.6909, By: 0.6643, Bz: 0.7367\n",
      "Estimated Remaining Time: 1h 59m 52s\n"
     ]
    },
    {
     "name": "stderr",
     "output_type": "stream",
     "text": [
      "\n",
      "Train Epoch 3/150: 100%|██████████| 15/15 [00:43<00:00,  2.88s/it, loss_Bx=6.16, loss_By=6.61, loss_Bz=5.31, physics_loss=0.427]\n",
      "Test Epoch 3/150: 100%|██████████| 3/3 [00:03<00:00,  1.29s/it]"
     ]
    },
    {
     "name": "stdout",
     "output_type": "stream",
     "text": [
      "Epoch: 3/150, Duration: 47.51s, Train Loss - Bx: 5.4065, By: 5.4094, Bz: 4.5533, Physics Loss: 0.2834, Test R2 - Bx: 0.8599, By: 0.8530, Bz: 0.8964\n",
      "Estimated Remaining Time: 1h 58m 10s\n"
     ]
    },
    {
     "name": "stderr",
     "output_type": "stream",
     "text": [
      "\n",
      "Train Epoch 4/150: 100%|██████████| 15/15 [00:26<00:00,  1.78s/it, loss_Bx=5.27, loss_By=5.06, loss_Bz=4.12, physics_loss=0.189]\n",
      "Test Epoch 4/150: 100%|██████████| 3/3 [00:03<00:00,  1.12s/it]"
     ]
    },
    {
     "name": "stdout",
     "output_type": "stream",
     "text": [
      "Epoch: 4/150, Duration: 30.53s, Train Loss - Bx: 4.8209, By: 4.7731, Bz: 3.8404, Physics Loss: 0.1716, Test R2 - Bx: 0.8831, By: 0.8650, Bz: 0.9180\n",
      "Estimated Remaining Time: 1h 46m 35s\n"
     ]
    },
    {
     "name": "stderr",
     "output_type": "stream",
     "text": [
      "\n",
      "Train Epoch 5/150: 100%|██████████| 15/15 [00:25<00:00,  1.73s/it, loss_Bx=4.64, loss_By=4.92, loss_Bz=3.61, physics_loss=0.172]\n",
      "Test Epoch 5/150: 100%|██████████| 3/3 [00:03<00:00,  1.15s/it]"
     ]
    },
    {
     "name": "stdout",
     "output_type": "stream",
     "text": [
      "Epoch: 5/150, Duration: 29.79s, Train Loss - Bx: 4.5583, By: 4.4776, Bz: 3.4931, Physics Loss: 0.1331, Test R2 - Bx: 0.9131, By: 0.9006, Bz: 0.9436\n",
      "Estimated Remaining Time: 1h 39m 5s\n"
     ]
    },
    {
     "name": "stderr",
     "output_type": "stream",
     "text": [
      "\n",
      "Train Epoch 6/150: 100%|██████████| 15/15 [00:26<00:00,  1.77s/it, loss_Bx=4.62, loss_By=4.75, loss_Bz=3.53, physics_loss=0.122]\n",
      "Test Epoch 6/150: 100%|██████████| 3/3 [00:03<00:00,  1.24s/it]"
     ]
    },
    {
     "name": "stdout",
     "output_type": "stream",
     "text": [
      "Epoch: 6/150, Duration: 30.69s, Train Loss - Bx: 4.4268, By: 4.3376, Bz: 3.3116, Physics Loss: 0.1084, Test R2 - Bx: 0.9265, By: 0.9184, Bz: 0.9564\n",
      "Estimated Remaining Time: 1h 34m 16s\n"
     ]
    },
    {
     "name": "stderr",
     "output_type": "stream",
     "text": [
      "\n",
      "Train Epoch 7/150: 100%|██████████| 15/15 [00:26<00:00,  1.78s/it, loss_Bx=4.82, loss_By=4.68, loss_Bz=3.58, physics_loss=0.111]\n",
      "Test Epoch 7/150: 100%|██████████| 3/3 [00:03<00:00,  1.09s/it]"
     ]
    },
    {
     "name": "stdout",
     "output_type": "stream",
     "text": [
      "Epoch: 7/150, Duration: 30.44s, Train Loss - Bx: 4.3627, By: 4.2705, Bz: 3.2139, Physics Loss: 0.0995, Test R2 - Bx: 0.9280, By: 0.9174, Bz: 0.9615\n",
      "Estimated Remaining Time: 1h 30m 37s\n"
     ]
    },
    {
     "name": "stderr",
     "output_type": "stream",
     "text": [
      "\n",
      "Train Epoch 8/150: 100%|██████████| 15/15 [00:26<00:00,  1.75s/it, loss_Bx=4.56, loss_By=4.08, loss_Bz=3.32, physics_loss=0.0936]\n",
      "Test Epoch 8/150: 100%|██████████| 3/3 [00:03<00:00,  1.16s/it]"
     ]
    },
    {
     "name": "stdout",
     "output_type": "stream",
     "text": [
      "Epoch: 8/150, Duration: 30.22s, Train Loss - Bx: 4.3284, By: 4.2353, Bz: 3.1694, Physics Loss: 0.1033, Test R2 - Bx: 0.9235, By: 0.9139, Bz: 0.9566\n",
      "Estimated Remaining Time: 1h 27m 40s\n"
     ]
    },
    {
     "name": "stderr",
     "output_type": "stream",
     "text": [
      "\n",
      "Train Epoch 9/150: 100%|██████████| 15/15 [00:25<00:00,  1.71s/it, loss_Bx=4.43, loss_By=4.04, loss_Bz=3.22, physics_loss=0.0999]\n",
      "Test Epoch 9/150: 100%|██████████| 3/3 [00:03<00:00,  1.04s/it]"
     ]
    },
    {
     "name": "stdout",
     "output_type": "stream",
     "text": [
      "Epoch: 9/150, Duration: 29.22s, Train Loss - Bx: 4.3015, By: 4.2124, Bz: 3.1315, Physics Loss: 0.0960, Test R2 - Bx: 0.9302, By: 0.9225, Bz: 0.9658\n",
      "Estimated Remaining Time: 1h 25m 1s\n"
     ]
    },
    {
     "name": "stderr",
     "output_type": "stream",
     "text": [
      "\n",
      "Train Epoch 10/150: 100%|██████████| 15/15 [00:25<00:00,  1.73s/it, loss_Bx=4.55, loss_By=4.87, loss_Bz=3.4, physics_loss=0.0979]\n",
      "Test Epoch 10/150: 100%|██████████| 3/3 [00:03<00:00,  1.23s/it]"
     ]
    },
    {
     "name": "stdout",
     "output_type": "stream",
     "text": [
      "Epoch: 10/150, Duration: 30.14s, Train Loss - Bx: 4.2869, By: 4.1937, Bz: 3.1135, Physics Loss: 0.0997, Test R2 - Bx: 0.9179, By: 0.9083, Bz: 0.9523\n",
      "Estimated Remaining Time: 1h 23m 0s\n"
     ]
    },
    {
     "name": "stderr",
     "output_type": "stream",
     "text": [
      "\n",
      "Train Epoch 11/150: 100%|██████████| 15/15 [00:26<00:00,  1.75s/it, loss_Bx=4.44, loss_By=4.21, loss_Bz=3.23, physics_loss=0.0988]\n",
      "Test Epoch 11/150: 100%|██████████| 3/3 [00:03<00:00,  1.17s/it]"
     ]
    },
    {
     "name": "stdout",
     "output_type": "stream",
     "text": [
      "Epoch: 11/150, Duration: 30.27s, Train Loss - Bx: 4.2920, By: 4.2009, Bz: 3.1266, Physics Loss: 0.1142, Test R2 - Bx: 0.9263, By: 0.9138, Bz: 0.9546\n",
      "Estimated Remaining Time: 1h 21m 17s\n"
     ]
    },
    {
     "name": "stderr",
     "output_type": "stream",
     "text": [
      "\n",
      "Train Epoch 12/150: 100%|██████████| 15/15 [00:25<00:00,  1.72s/it, loss_Bx=4.71, loss_By=4.43, loss_Bz=3.3, physics_loss=0.102]\n",
      "Test Epoch 12/150: 100%|██████████| 3/3 [00:03<00:00,  1.08s/it]"
     ]
    },
    {
     "name": "stdout",
     "output_type": "stream",
     "text": [
      "Epoch: 12/150, Duration: 29.35s, Train Loss - Bx: 4.2691, By: 4.1775, Bz: 3.0892, Physics Loss: 0.0963, Test R2 - Bx: 0.9306, By: 0.9204, Bz: 0.9635\n",
      "Estimated Remaining Time: 1h 19m 36s\n"
     ]
    },
    {
     "name": "stderr",
     "output_type": "stream",
     "text": [
      "\n",
      "Train Epoch 13/150: 100%|██████████| 15/15 [00:26<00:00,  1.75s/it, loss_Bx=4.29, loss_By=4.39, loss_Bz=3.1, physics_loss=0.0929]\n",
      "Test Epoch 13/150: 100%|██████████| 3/3 [00:03<00:00,  1.17s/it]"
     ]
    },
    {
     "name": "stdout",
     "output_type": "stream",
     "text": [
      "Epoch: 13/150, Duration: 30.26s, Train Loss - Bx: 4.2596, By: 4.1676, Bz: 3.0744, Physics Loss: 0.0913, Test R2 - Bx: 0.9366, By: 0.9264, Bz: 0.9686\n",
      "Estimated Remaining Time: 1h 18m 16s\n"
     ]
    },
    {
     "name": "stderr",
     "output_type": "stream",
     "text": [
      "\n",
      "Train Epoch 14/150: 100%|██████████| 15/15 [00:25<00:00,  1.73s/it, loss_Bx=4.18, loss_By=4.66, loss_Bz=3.12, physics_loss=0.0851]\n",
      "Test Epoch 14/150: 100%|██████████| 3/3 [00:03<00:00,  1.23s/it]"
     ]
    },
    {
     "name": "stdout",
     "output_type": "stream",
     "text": [
      "Epoch: 14/150, Duration: 30.10s, Train Loss - Bx: 4.2492, By: 4.1579, Bz: 3.0599, Physics Loss: 0.0889, Test R2 - Bx: 0.9350, By: 0.9245, Bz: 0.9703\n",
      "Estimated Remaining Time: 1h 17m 1s\n"
     ]
    },
    {
     "name": "stderr",
     "output_type": "stream",
     "text": [
      "\n",
      "Train Epoch 15/150: 100%|██████████| 15/15 [00:25<00:00,  1.72s/it, loss_Bx=4.04, loss_By=3.8, loss_Bz=2.82, physics_loss=0.0631]\n",
      "Test Epoch 15/150: 100%|██████████| 3/3 [00:03<00:00,  1.15s/it]"
     ]
    },
    {
     "name": "stdout",
     "output_type": "stream",
     "text": [
      "Epoch: 15/150, Duration: 29.74s, Train Loss - Bx: 4.2442, By: 4.1543, Bz: 3.0524, Physics Loss: 0.0874, Test R2 - Bx: 0.9299, By: 0.9214, Bz: 0.9658\n",
      "Estimated Remaining Time: 1h 15m 49s\n"
     ]
    },
    {
     "name": "stderr",
     "output_type": "stream",
     "text": [
      "\n",
      "Train Epoch 16/150: 100%|██████████| 15/15 [00:25<00:00,  1.73s/it, loss_Bx=4.79, loss_By=4.63, loss_Bz=3.45, physics_loss=0.111]\n",
      "Test Epoch 16/150: 100%|██████████| 3/3 [00:03<00:00,  1.20s/it]"
     ]
    },
    {
     "name": "stdout",
     "output_type": "stream",
     "text": [
      "Epoch: 16/150, Duration: 30.06s, Train Loss - Bx: 4.2389, By: 4.1529, Bz: 3.0519, Physics Loss: 0.0912, Test R2 - Bx: 0.9338, By: 0.9228, Bz: 0.9704\n",
      "Estimated Remaining Time: 1h 14m 44s\n"
     ]
    },
    {
     "name": "stderr",
     "output_type": "stream",
     "text": [
      "\n",
      "Train Epoch 17/150: 100%|██████████| 15/15 [00:25<00:00,  1.72s/it, loss_Bx=4.45, loss_By=4.41, loss_Bz=3.15, physics_loss=0.0875]\n",
      "Test Epoch 17/150: 100%|██████████| 3/3 [00:03<00:00,  1.21s/it]"
     ]
    },
    {
     "name": "stdout",
     "output_type": "stream",
     "text": [
      "Epoch: 17/150, Duration: 29.87s, Train Loss - Bx: 4.2389, By: 4.1462, Bz: 3.0451, Physics Loss: 0.0854, Test R2 - Bx: 0.9356, By: 0.9270, Bz: 0.9672\n",
      "Estimated Remaining Time: 1h 13m 43s\n"
     ]
    },
    {
     "name": "stderr",
     "output_type": "stream",
     "text": [
      "\n",
      "Train Epoch 18/150: 100%|██████████| 15/15 [00:25<00:00,  1.72s/it, loss_Bx=4.31, loss_By=4.06, loss_Bz=3.02, physics_loss=0.0744]\n",
      "Test Epoch 18/150: 100%|██████████| 3/3 [00:03<00:00,  1.16s/it]"
     ]
    },
    {
     "name": "stdout",
     "output_type": "stream",
     "text": [
      "Epoch: 18/150, Duration: 29.87s, Train Loss - Bx: 4.2331, By: 4.1415, Bz: 3.0365, Physics Loss: 0.0866, Test R2 - Bx: 0.9337, By: 0.9224, Bz: 0.9689\n",
      "Estimated Remaining Time: 1h 12m 45s\n"
     ]
    },
    {
     "name": "stderr",
     "output_type": "stream",
     "text": [
      "\n",
      "Train Epoch 19/150: 100%|██████████| 15/15 [00:26<00:00,  1.74s/it, loss_Bx=4.53, loss_By=4.71, loss_Bz=3.35, physics_loss=0.0956]\n",
      "Test Epoch 19/150: 100%|██████████| 3/3 [00:03<00:00,  1.18s/it]"
     ]
    },
    {
     "name": "stdout",
     "output_type": "stream",
     "text": [
      "Epoch: 19/150, Duration: 30.12s, Train Loss - Bx: 4.2330, By: 4.1417, Bz: 3.0388, Physics Loss: 0.0917, Test R2 - Bx: 0.9283, By: 0.9166, Bz: 0.9640\n",
      "Estimated Remaining Time: 1h 11m 51s\n"
     ]
    },
    {
     "name": "stderr",
     "output_type": "stream",
     "text": [
      "\n",
      "Train Epoch 20/150: 100%|██████████| 15/15 [00:26<00:00,  1.76s/it, loss_Bx=4.13, loss_By=3.93, loss_Bz=3.01, physics_loss=0.0853]\n",
      "Test Epoch 20/150: 100%|██████████| 3/3 [00:03<00:00,  1.19s/it]\n"
     ]
    },
    {
     "name": "stdout",
     "output_type": "stream",
     "text": [
      "Epoch: 20/150, Duration: 30.54s, Train Loss - Bx: 4.2335, By: 4.1469, Bz: 3.0478, Physics Loss: 0.0961, Test R2 - Bx: 0.9314, By: 0.9241, Bz: 0.9646\n",
      "Estimated Remaining Time: 1h 11m 3s\n",
      "Checkpoint saved at epoch 20: /mmfs1/project/bs644/jc2687/FNO/result/NLFFF_Cube2Step/step2/checkpoint_epoch_20.pt\n",
      "bx - Mean: -2.4474583817934992e-11, Std: 1.0\n",
      "by - Mean: 7.899204727823683e-12, Std: 0.9999974966049194\n",
      "bz - Mean: -7.704961668686394e-11, Std: 0.999999463558197\n"
     ]
    },
    {
     "name": "stderr",
     "output_type": "stream",
     "text": [
      "Train Epoch 21/150: 100%|██████████| 15/15 [00:27<00:00,  1.81s/it, loss_Bx=4.38, loss_By=4.54, loss_Bz=3.33, physics_loss=0.105]\n",
      "Test Epoch 21/150: 100%|██████████| 3/3 [00:20<00:00,  6.67s/it]"
     ]
    },
    {
     "name": "stdout",
     "output_type": "stream",
     "text": [
      "Epoch: 21/150, Duration: 49.39s, Train Loss - Bx: 4.2231, By: 4.1361, Bz: 3.0324, Physics Loss: 0.0892, Test R2 - Bx: 0.9306, By: 0.9213, Bz: 0.9645\n",
      "Estimated Remaining Time: 1h 12m 12s\n"
     ]
    },
    {
     "name": "stderr",
     "output_type": "stream",
     "text": [
      "\n",
      "Train Epoch 22/150: 100%|██████████| 15/15 [00:27<00:00,  1.81s/it, loss_Bx=4.2, loss_By=3.99, loss_Bz=3.04, physics_loss=0.0872]\n",
      "Test Epoch 22/150: 100%|██████████| 3/3 [00:06<00:00,  2.12s/it]"
     ]
    },
    {
     "name": "stdout",
     "output_type": "stream",
     "text": [
      "Epoch: 22/150, Duration: 35.70s, Train Loss - Bx: 4.2196, By: 4.1344, Bz: 3.0350, Physics Loss: 0.0950, Test R2 - Bx: 0.9105, By: 0.9049, Bz: 0.9442\n",
      "Estimated Remaining Time: 1h 11m 51s\n"
     ]
    },
    {
     "name": "stderr",
     "output_type": "stream",
     "text": [
      "\n",
      "Train Epoch 23/150: 100%|██████████| 15/15 [00:28<00:00,  1.87s/it, loss_Bx=4.22, loss_By=4.26, loss_Bz=3.05, physics_loss=0.114]\n",
      "Test Epoch 23/150: 100%|██████████| 3/3 [00:06<00:00,  2.17s/it]"
     ]
    },
    {
     "name": "stdout",
     "output_type": "stream",
     "text": [
      "Epoch: 23/150, Duration: 36.69s, Train Loss - Bx: 4.2263, By: 4.1405, Bz: 3.0480, Physics Loss: 0.0985, Test R2 - Bx: 0.9346, By: 0.9199, Bz: 0.9675\n",
      "Estimated Remaining Time: 1h 11m 34s\n"
     ]
    },
    {
     "name": "stderr",
     "output_type": "stream",
     "text": [
      "\n",
      "Train Epoch 24/150: 100%|██████████| 15/15 [00:27<00:00,  1.86s/it, loss_Bx=4.49, loss_By=4.48, loss_Bz=3.29, physics_loss=0.09]\n",
      "Test Epoch 24/150: 100%|██████████| 3/3 [00:06<00:00,  2.05s/it]"
     ]
    },
    {
     "name": "stdout",
     "output_type": "stream",
     "text": [
      "Epoch: 24/150, Duration: 36.30s, Train Loss - Bx: 4.2223, By: 4.1282, Bz: 3.0372, Physics Loss: 0.0878, Test R2 - Bx: 0.9344, By: 0.9236, Bz: 0.9689\n",
      "Estimated Remaining Time: 1h 11m 13s\n"
     ]
    },
    {
     "name": "stderr",
     "output_type": "stream",
     "text": [
      "\n",
      "Train Epoch 25/150: 100%|██████████| 15/15 [00:28<00:00,  1.88s/it, loss_Bx=4.44, loss_By=4.45, loss_Bz=3.18, physics_loss=0.0894]\n",
      "Test Epoch 25/150: 100%|██████████| 3/3 [00:06<00:00,  2.28s/it]"
     ]
    },
    {
     "name": "stdout",
     "output_type": "stream",
     "text": [
      "Epoch: 25/150, Duration: 37.55s, Train Loss - Bx: 4.2068, By: 4.1216, Bz: 3.0203, Physics Loss: 0.0834, Test R2 - Bx: 0.9388, By: 0.9276, Bz: 0.9716\n",
      "Estimated Remaining Time: 1h 10m 57s\n"
     ]
    },
    {
     "name": "stderr",
     "output_type": "stream",
     "text": [
      "\n",
      "Train Epoch 26/150: 100%|██████████| 15/15 [00:27<00:00,  1.82s/it, loss_Bx=4.45, loss_By=4.75, loss_Bz=3.19, physics_loss=0.0872]\n",
      "Test Epoch 26/150: 100%|██████████| 3/3 [00:06<00:00,  2.29s/it]"
     ]
    },
    {
     "name": "stdout",
     "output_type": "stream",
     "text": [
      "Epoch: 26/150, Duration: 36.57s, Train Loss - Bx: 4.2028, By: 4.1139, Bz: 3.0170, Physics Loss: 0.0836, Test R2 - Bx: 0.9389, By: 0.9299, Bz: 0.9718\n",
      "Estimated Remaining Time: 1h 10m 35s\n"
     ]
    },
    {
     "name": "stderr",
     "output_type": "stream",
     "text": [
      "\n",
      "Train Epoch 27/150: 100%|██████████| 15/15 [00:27<00:00,  1.86s/it, loss_Bx=3.99, loss_By=3.94, loss_Bz=2.79, physics_loss=0.0629]\n",
      "Test Epoch 27/150: 100%|██████████| 3/3 [00:15<00:00,  5.03s/it]"
     ]
    },
    {
     "name": "stdout",
     "output_type": "stream",
     "text": [
      "Epoch: 27/150, Duration: 45.54s, Train Loss - Bx: 4.2033, By: 4.1082, Bz: 3.0162, Physics Loss: 0.0840, Test R2 - Bx: 0.9342, By: 0.9271, Bz: 0.9683\n",
      "Estimated Remaining Time: 1h 10m 53s\n"
     ]
    },
    {
     "name": "stderr",
     "output_type": "stream",
     "text": [
      "\n",
      "Train Epoch 28/150: 100%|██████████| 15/15 [00:28<00:00,  1.89s/it, loss_Bx=4.69, loss_By=4.83, loss_Bz=3.37, physics_loss=0.104]\n",
      "Test Epoch 28/150: 100%|██████████| 3/3 [00:07<00:00,  2.46s/it]"
     ]
    },
    {
     "name": "stdout",
     "output_type": "stream",
     "text": [
      "Epoch: 28/150, Duration: 38.23s, Train Loss - Bx: 4.2017, By: 4.1049, Bz: 3.0145, Physics Loss: 0.0859, Test R2 - Bx: 0.9316, By: 0.9261, Bz: 0.9624\n",
      "Estimated Remaining Time: 1h 10m 34s\n"
     ]
    },
    {
     "name": "stderr",
     "output_type": "stream",
     "text": [
      "\n",
      "Train Epoch 29/150: 100%|██████████| 15/15 [00:27<00:00,  1.85s/it, loss_Bx=4.59, loss_By=4.48, loss_Bz=3.32, physics_loss=0.0919]\n",
      "Test Epoch 29/150: 100%|██████████| 3/3 [00:07<00:00,  2.40s/it]"
     ]
    },
    {
     "name": "stdout",
     "output_type": "stream",
     "text": [
      "Epoch: 29/150, Duration: 37.48s, Train Loss - Bx: 4.2071, By: 4.1079, Bz: 3.0230, Physics Loss: 0.0846, Test R2 - Bx: 0.9357, By: 0.9225, Bz: 0.9707\n",
      "Estimated Remaining Time: 1h 10m 11s\n"
     ]
    },
    {
     "name": "stderr",
     "output_type": "stream",
     "text": [
      "\n",
      "Train Epoch 30/150: 100%|██████████| 15/15 [00:28<00:00,  1.88s/it, loss_Bx=4.26, loss_By=4.43, loss_Bz=3.13, physics_loss=0.0876]\n",
      "Test Epoch 30/150: 100%|██████████| 3/3 [00:07<00:00,  2.36s/it]"
     ]
    },
    {
     "name": "stdout",
     "output_type": "stream",
     "text": [
      "Epoch: 30/150, Duration: 37.80s, Train Loss - Bx: 4.2024, By: 4.1041, Bz: 3.0266, Physics Loss: 0.0882, Test R2 - Bx: 0.9369, By: 0.9283, Bz: 0.9702\n",
      "Estimated Remaining Time: 1h 9m 48s\n",
      "Checkpoint saved at epoch 30: /mmfs1/project/bs644/jc2687/FNO/result/NLFFF_Cube2Step/step2/checkpoint_epoch_30.pt\n"
     ]
    },
    {
     "name": "stderr",
     "output_type": "stream",
     "text": [
      "\n"
     ]
    },
    {
     "name": "stdout",
     "output_type": "stream",
     "text": [
      "bx - Mean: 4.046723459799617e-12, Std: 0.9999992251396179\n",
      "by - Mean: -3.7812586395347125e-11, Std: 1.0000017881393433\n",
      "bz - Mean: -2.2273167685216144e-11, Std: 1.000000238418579\n"
     ]
    },
    {
     "name": "stderr",
     "output_type": "stream",
     "text": [
      "Train Epoch 31/150: 100%|██████████| 15/15 [00:29<00:00,  1.95s/it, loss_Bx=4.54, loss_By=4.49, loss_Bz=3.26, physics_loss=0.0905]\n",
      "Test Epoch 31/150: 100%|██████████| 3/3 [00:09<00:00,  3.21s/it]"
     ]
    },
    {
     "name": "stdout",
     "output_type": "stream",
     "text": [
      "Epoch: 31/150, Duration: 42.28s, Train Loss - Bx: 4.1958, By: 4.0917, Bz: 3.0111, Physics Loss: 0.0843, Test R2 - Bx: 0.9374, By: 0.9295, Bz: 0.9711\n",
      "Estimated Remaining Time: 1h 9m 42s\n"
     ]
    },
    {
     "name": "stderr",
     "output_type": "stream",
     "text": [
      "\n",
      "Train Epoch 32/150: 100%|██████████| 15/15 [00:28<00:00,  1.89s/it, loss_Bx=4.37, loss_By=4.32, loss_Bz=3.16, physics_loss=0.0877]\n",
      "Test Epoch 32/150: 100%|██████████| 3/3 [00:09<00:00,  3.25s/it]"
     ]
    },
    {
     "name": "stdout",
     "output_type": "stream",
     "text": [
      "Epoch: 32/150, Duration: 42.85s, Train Loss - Bx: 4.1880, By: 4.0928, Bz: 3.0128, Physics Loss: 0.0827, Test R2 - Bx: 0.9377, By: 0.9292, Bz: 0.9724\n",
      "Estimated Remaining Time: 1h 9m 35s\n"
     ]
    },
    {
     "name": "stderr",
     "output_type": "stream",
     "text": [
      "\n",
      "Train Epoch 33/150: 100%|██████████| 15/15 [00:28<00:00,  1.87s/it, loss_Bx=4.4, loss_By=4.51, loss_Bz=3.03, physics_loss=0.0748]\n",
      "Test Epoch 33/150: 100%|██████████| 3/3 [00:08<00:00,  2.74s/it]"
     ]
    },
    {
     "name": "stdout",
     "output_type": "stream",
     "text": [
      "Epoch: 33/150, Duration: 39.83s, Train Loss - Bx: 4.1876, By: 4.0835, Bz: 3.0098, Physics Loss: 0.0829, Test R2 - Bx: 0.9366, By: 0.9284, Bz: 0.9705\n",
      "Estimated Remaining Time: 1h 9m 15s\n"
     ]
    },
    {
     "name": "stderr",
     "output_type": "stream",
     "text": [
      "\n",
      "Train Epoch 34/150: 100%|██████████| 15/15 [00:27<00:00,  1.85s/it, loss_Bx=4.42, loss_By=4.37, loss_Bz=3.23, physics_loss=0.0887]\n",
      "Test Epoch 34/150: 100%|██████████| 3/3 [00:08<00:00,  2.84s/it]"
     ]
    },
    {
     "name": "stdout",
     "output_type": "stream",
     "text": [
      "Epoch: 34/150, Duration: 40.23s, Train Loss - Bx: 4.1835, By: 4.0752, Bz: 3.0112, Physics Loss: 0.0851, Test R2 - Bx: 0.9361, By: 0.9284, Bz: 0.9704\n",
      "Estimated Remaining Time: 1h 8m 56s\n"
     ]
    },
    {
     "name": "stderr",
     "output_type": "stream",
     "text": [
      "\n",
      "Train Epoch 35/150: 100%|██████████| 15/15 [00:28<00:00,  1.89s/it, loss_Bx=4.64, loss_By=4.87, loss_Bz=3.43, physics_loss=0.1]\n",
      "Test Epoch 35/150: 100%|██████████| 3/3 [00:08<00:00,  2.74s/it]"
     ]
    },
    {
     "name": "stdout",
     "output_type": "stream",
     "text": [
      "Epoch: 35/150, Duration: 39.60s, Train Loss - Bx: 4.1740, By: 4.0660, Bz: 3.0071, Physics Loss: 0.0831, Test R2 - Bx: 0.9386, By: 0.9300, Bz: 0.9715\n",
      "Estimated Remaining Time: 1h 8m 33s\n"
     ]
    },
    {
     "name": "stderr",
     "output_type": "stream",
     "text": [
      "\n",
      "Train Epoch 36/150: 100%|██████████| 15/15 [00:28<00:00,  1.90s/it, loss_Bx=4.15, loss_By=4.09, loss_Bz=3.03, physics_loss=0.0798]\n",
      "Test Epoch 36/150: 100%|██████████| 3/3 [00:08<00:00,  2.77s/it]"
     ]
    },
    {
     "name": "stdout",
     "output_type": "stream",
     "text": [
      "Epoch: 36/150, Duration: 41.57s, Train Loss - Bx: 4.1758, By: 4.0589, Bz: 3.0055, Physics Loss: 0.0820, Test R2 - Bx: 0.9377, By: 0.9301, Bz: 0.9715\n",
      "Estimated Remaining Time: 1h 8m 16s\n"
     ]
    },
    {
     "name": "stderr",
     "output_type": "stream",
     "text": [
      "\n",
      "Train Epoch 37/150: 100%|██████████| 15/15 [00:27<00:00,  1.86s/it, loss_Bx=4.76, loss_By=4.25, loss_Bz=3.43, physics_loss=0.0937]\n",
      "Test Epoch 37/150: 100%|██████████| 3/3 [00:09<00:00,  3.19s/it]"
     ]
    },
    {
     "name": "stdout",
     "output_type": "stream",
     "text": [
      "Epoch: 37/150, Duration: 42.37s, Train Loss - Bx: 4.1678, By: 4.0472, Bz: 3.0075, Physics Loss: 0.0821, Test R2 - Bx: 0.9381, By: 0.9289, Bz: 0.9700\n",
      "Estimated Remaining Time: 1h 7m 59s\n"
     ]
    },
    {
     "name": "stderr",
     "output_type": "stream",
     "text": [
      "\n",
      "Train Epoch 38/150: 100%|██████████| 15/15 [00:27<00:00,  1.84s/it, loss_Bx=4.41, loss_By=4.05, loss_Bz=3, physics_loss=0.0684]\n",
      "Test Epoch 38/150: 100%|██████████| 3/3 [00:09<00:00,  3.12s/it]"
     ]
    },
    {
     "name": "stdout",
     "output_type": "stream",
     "text": [
      "Epoch: 38/150, Duration: 41.70s, Train Loss - Bx: 4.1922, By: 4.0867, Bz: 3.0227, Physics Loss: 0.0846, Test R2 - Bx: 0.9391, By: 0.9296, Bz: 0.9717\n",
      "Estimated Remaining Time: 1h 7m 40s\n"
     ]
    },
    {
     "name": "stderr",
     "output_type": "stream",
     "text": [
      "\n",
      "Train Epoch 39/150: 100%|██████████| 15/15 [00:32<00:00,  2.17s/it, loss_Bx=4.57, loss_By=4.52, loss_Bz=3.33, physics_loss=0.0937]\n",
      "Test Epoch 39/150: 100%|██████████| 3/3 [00:08<00:00,  2.97s/it]"
     ]
    },
    {
     "name": "stdout",
     "output_type": "stream",
     "text": [
      "Epoch: 39/150, Duration: 46.22s, Train Loss - Bx: 4.1724, By: 4.0432, Bz: 3.0041, Physics Loss: 0.0835, Test R2 - Bx: 0.9373, By: 0.9275, Bz: 0.9703\n",
      "Estimated Remaining Time: 1h 7m 32s\n"
     ]
    },
    {
     "name": "stderr",
     "output_type": "stream",
     "text": [
      "\n",
      "Train Epoch 40/150: 100%|██████████| 15/15 [00:38<00:00,  2.55s/it, loss_Bx=4.31, loss_By=4.03, loss_Bz=3.13, physics_loss=0.0838]\n",
      "Test Epoch 40/150: 100%|██████████| 3/3 [00:09<00:00,  3.12s/it]"
     ]
    },
    {
     "name": "stdout",
     "output_type": "stream",
     "text": [
      "Epoch: 40/150, Duration: 52.69s, Train Loss - Bx: 4.1606, By: 4.0228, Bz: 3.0057, Physics Loss: 0.0817, Test R2 - Bx: 0.9386, By: 0.9292, Bz: 0.9713\n",
      "Estimated Remaining Time: 1h 7m 40s\n",
      "Checkpoint saved at epoch 40: /mmfs1/project/bs644/jc2687/FNO/result/NLFFF_Cube2Step/step2/checkpoint_epoch_40.pt\n"
     ]
    },
    {
     "name": "stderr",
     "output_type": "stream",
     "text": [
      "\n"
     ]
    },
    {
     "name": "stdout",
     "output_type": "stream",
     "text": [
      "bx - Mean: 2.160950411667084e-11, Std: 0.9999986886978149\n",
      "by - Mean: -9.73803607196011e-11, Std: 1.0000020265579224\n",
      "bz - Mean: -4.0325603099800045e-12, Std: 0.9999994039535522\n"
     ]
    },
    {
     "name": "stderr",
     "output_type": "stream",
     "text": [
      "Train Epoch 41/150: 100%|██████████| 15/15 [00:39<00:00,  2.65s/it, loss_Bx=4.33, loss_By=3.96, loss_Bz=3.05, physics_loss=0.0829]\n",
      "Test Epoch 41/150: 100%|██████████| 3/3 [00:13<00:00,  4.47s/it]"
     ]
    },
    {
     "name": "stdout",
     "output_type": "stream",
     "text": [
      "Epoch: 41/150, Duration: 56.30s, Train Loss - Bx: 4.1659, By: 4.0217, Bz: 3.0124, Physics Loss: 0.0832, Test R2 - Bx: 0.9354, By: 0.9275, Bz: 0.9716\n",
      "Estimated Remaining Time: 1h 7m 54s\n"
     ]
    },
    {
     "name": "stderr",
     "output_type": "stream",
     "text": [
      "\n",
      "Train Epoch 42/150: 100%|██████████| 15/15 [00:40<00:00,  2.72s/it, loss_Bx=4.49, loss_By=4.17, loss_Bz=3.33, physics_loss=0.0917]\n",
      "Test Epoch 42/150: 100%|██████████| 3/3 [00:07<00:00,  2.64s/it]"
     ]
    },
    {
     "name": "stdout",
     "output_type": "stream",
     "text": [
      "Epoch: 42/150, Duration: 51.49s, Train Loss - Bx: 4.1656, By: 4.0474, Bz: 3.0140, Physics Loss: 0.0855, Test R2 - Bx: 0.9344, By: 0.9286, Bz: 0.9676\n",
      "Estimated Remaining Time: 1h 7m 53s\n"
     ]
    },
    {
     "name": "stderr",
     "output_type": "stream",
     "text": [
      "\n",
      "Train Epoch 43/150: 100%|██████████| 15/15 [00:40<00:00,  2.70s/it, loss_Bx=5.04, loss_By=4.6, loss_Bz=3.48, physics_loss=0.0938]\n",
      "Test Epoch 43/150: 100%|██████████| 3/3 [00:07<00:00,  2.42s/it]"
     ]
    },
    {
     "name": "stdout",
     "output_type": "stream",
     "text": [
      "Epoch: 43/150, Duration: 50.56s, Train Loss - Bx: 4.1681, By: 4.0426, Bz: 3.0128, Physics Loss: 0.0862, Test R2 - Bx: 0.9368, By: 0.9298, Bz: 0.9699\n",
      "Estimated Remaining Time: 1h 7m 48s\n"
     ]
    },
    {
     "name": "stderr",
     "output_type": "stream",
     "text": [
      "\n",
      "Train Epoch 44/150: 100%|██████████| 15/15 [00:36<00:00,  2.42s/it, loss_Bx=4.55, loss_By=4.06, loss_Bz=3.19, physics_loss=0.0805]\n",
      "Test Epoch 44/150: 100%|██████████| 3/3 [00:08<00:00,  2.73s/it]"
     ]
    },
    {
     "name": "stdout",
     "output_type": "stream",
     "text": [
      "Epoch: 44/150, Duration: 47.48s, Train Loss - Bx: 4.1407, By: 3.9735, Bz: 2.9947, Physics Loss: 0.0830, Test R2 - Bx: 0.9388, By: 0.9301, Bz: 0.9714\n",
      "Estimated Remaining Time: 1h 7m 32s\n"
     ]
    },
    {
     "name": "stderr",
     "output_type": "stream",
     "text": [
      "\n",
      "Train Epoch 45/150: 100%|██████████| 15/15 [00:27<00:00,  1.87s/it, loss_Bx=4.81, loss_By=4.65, loss_Bz=3.52, physics_loss=0.0931]\n",
      "Test Epoch 45/150: 100%|██████████| 3/3 [00:07<00:00,  2.56s/it]"
     ]
    },
    {
     "name": "stdout",
     "output_type": "stream",
     "text": [
      "Epoch: 45/150, Duration: 38.87s, Train Loss - Bx: 4.1231, By: 3.9377, Bz: 2.9933, Physics Loss: 0.0835, Test R2 - Bx: 0.9342, By: 0.9262, Bz: 0.9679\n",
      "Estimated Remaining Time: 1h 6m 56s\n"
     ]
    },
    {
     "name": "stderr",
     "output_type": "stream",
     "text": [
      "\n",
      "Train Epoch 46/150: 100%|██████████| 15/15 [00:27<00:00,  1.85s/it, loss_Bx=4.12, loss_By=3.97, loss_Bz=2.98, physics_loss=0.0808]\n",
      "Test Epoch 46/150: 100%|██████████| 3/3 [00:07<00:00,  2.66s/it]"
     ]
    },
    {
     "name": "stdout",
     "output_type": "stream",
     "text": [
      "Epoch: 46/150, Duration: 38.98s, Train Loss - Bx: 4.1514, By: 4.0728, Bz: 3.0264, Physics Loss: 0.0862, Test R2 - Bx: 0.9364, By: 0.9240, Bz: 0.9687\n",
      "Estimated Remaining Time: 1h 6m 19s\n"
     ]
    },
    {
     "name": "stderr",
     "output_type": "stream",
     "text": [
      "\n",
      "Train Epoch 47/150: 100%|██████████| 15/15 [00:27<00:00,  1.84s/it, loss_Bx=4.43, loss_By=4.04, loss_Bz=3.14, physics_loss=0.0845]\n",
      "Test Epoch 47/150: 100%|██████████| 3/3 [00:08<00:00,  2.80s/it]"
     ]
    },
    {
     "name": "stdout",
     "output_type": "stream",
     "text": [
      "Epoch: 47/150, Duration: 38.92s, Train Loss - Bx: 4.1254, By: 4.0386, Bz: 2.9926, Physics Loss: 0.0853, Test R2 - Bx: 0.9312, By: 0.9209, Bz: 0.9620\n",
      "Estimated Remaining Time: 1h 5m 42s\n"
     ]
    },
    {
     "name": "stderr",
     "output_type": "stream",
     "text": [
      "\n",
      "Train Epoch 48/150: 100%|██████████| 15/15 [00:27<00:00,  1.85s/it, loss_Bx=4.45, loss_By=4.51, loss_Bz=3.28, physics_loss=0.107]\n",
      "Test Epoch 48/150: 100%|██████████| 3/3 [00:07<00:00,  2.58s/it]"
     ]
    },
    {
     "name": "stdout",
     "output_type": "stream",
     "text": [
      "Epoch: 48/150, Duration: 38.63s, Train Loss - Bx: 4.0978, By: 4.0190, Bz: 2.9816, Physics Loss: 0.0849, Test R2 - Bx: 0.9355, By: 0.9273, Bz: 0.9706\n",
      "Estimated Remaining Time: 1h 5m 5s\n"
     ]
    },
    {
     "name": "stderr",
     "output_type": "stream",
     "text": [
      "\n",
      "Train Epoch 49/150: 100%|██████████| 15/15 [00:14<00:00,  1.07it/s, loss_Bx=3.77, loss_By=3.83, loss_Bz=2.95, physics_loss=0.0768]\n",
      "Test Epoch 49/150: 100%|██████████| 3/3 [00:06<00:00,  2.31s/it]"
     ]
    },
    {
     "name": "stdout",
     "output_type": "stream",
     "text": [
      "Epoch: 49/150, Duration: 24.28s, Train Loss - Bx: 4.0824, By: 4.0024, Bz: 2.9761, Physics Loss: 0.0856, Test R2 - Bx: 0.9366, By: 0.9275, Bz: 0.9718\n",
      "Estimated Remaining Time: 1h 3m 57s\n"
     ]
    },
    {
     "name": "stderr",
     "output_type": "stream",
     "text": [
      "\n",
      "Train Epoch 50/150: 100%|██████████| 15/15 [00:14<00:00,  1.05it/s, loss_Bx=4.48, loss_By=4.31, loss_Bz=3.21, physics_loss=0.0855]\n",
      "Test Epoch 50/150: 100%|██████████| 3/3 [00:07<00:00,  2.46s/it]"
     ]
    },
    {
     "name": "stdout",
     "output_type": "stream",
     "text": [
      "Epoch: 50/150, Duration: 24.70s, Train Loss - Bx: 4.0630, By: 3.9888, Bz: 2.9728, Physics Loss: 0.0829, Test R2 - Bx: 0.9374, By: 0.9277, Bz: 0.9730\n",
      "Estimated Remaining Time: 1h 2m 53s\n",
      "Checkpoint saved at epoch 50: /mmfs1/project/bs644/jc2687/FNO/result/NLFFF_Cube2Step/step2/checkpoint_epoch_50.pt\n"
     ]
    },
    {
     "name": "stderr",
     "output_type": "stream",
     "text": [
      "\n"
     ]
    },
    {
     "name": "stdout",
     "output_type": "stream",
     "text": [
      "bx - Mean: 1.5798409455647366e-11, Std: 1.0000041723251343\n",
      "by - Mean: -8.015749869416666e-11, Std: 1.000001311302185\n",
      "bz - Mean: -1.6415130366098651e-10, Std: 1.0000015497207642\n"
     ]
    },
    {
     "name": "stderr",
     "output_type": "stream",
     "text": [
      "Train Epoch 51/150: 100%|██████████| 15/15 [00:15<00:00,  1.02s/it, loss_Bx=4.31, loss_By=4.14, loss_Bz=3.22, physics_loss=0.0885]\n",
      "Test Epoch 51/150: 100%|██████████| 3/3 [00:06<00:00,  2.13s/it]"
     ]
    },
    {
     "name": "stdout",
     "output_type": "stream",
     "text": [
      "Epoch: 51/150, Duration: 23.83s, Train Loss - Bx: 4.0431, By: 3.9696, Bz: 2.9668, Physics Loss: 0.0819, Test R2 - Bx: 0.9383, By: 0.9301, Bz: 0.9715\n",
      "Estimated Remaining Time: 1h 1m 48s\n"
     ]
    },
    {
     "name": "stderr",
     "output_type": "stream",
     "text": [
      "\n",
      "Train Epoch 52/150: 100%|██████████| 15/15 [00:14<00:00,  1.06it/s, loss_Bx=3.99, loss_By=3.87, loss_Bz=2.95, physics_loss=0.0733]\n",
      "Test Epoch 52/150: 100%|██████████| 3/3 [00:05<00:00,  1.76s/it]"
     ]
    },
    {
     "name": "stdout",
     "output_type": "stream",
     "text": [
      "Epoch: 52/150, Duration: 21.55s, Train Loss - Bx: 4.0244, By: 3.9562, Bz: 2.9661, Physics Loss: 0.0822, Test R2 - Bx: 0.9369, By: 0.9295, Bz: 0.9722\n",
      "Estimated Remaining Time: 1h 0m 41s\n"
     ]
    },
    {
     "name": "stderr",
     "output_type": "stream",
     "text": [
      "\n",
      "Train Epoch 53/150: 100%|██████████| 15/15 [00:13<00:00,  1.08it/s, loss_Bx=4.12, loss_By=4.02, loss_Bz=3.01, physics_loss=0.0733]\n",
      "Test Epoch 53/150: 100%|██████████| 3/3 [00:05<00:00,  1.96s/it]"
     ]
    },
    {
     "name": "stdout",
     "output_type": "stream",
     "text": [
      "Epoch: 53/150, Duration: 21.94s, Train Loss - Bx: 4.0373, By: 3.9715, Bz: 2.9961, Physics Loss: 0.0837, Test R2 - Bx: 0.9359, By: 0.9297, Bz: 0.9709\n",
      "Estimated Remaining Time: 0h 59m 36s\n"
     ]
    },
    {
     "name": "stderr",
     "output_type": "stream",
     "text": [
      "\n",
      "Train Epoch 54/150: 100%|██████████| 15/15 [00:19<00:00,  1.32s/it, loss_Bx=4.31, loss_By=4.34, loss_Bz=3.22, physics_loss=0.0959]\n",
      "Test Epoch 54/150: 100%|██████████| 3/3 [00:06<00:00,  2.08s/it]"
     ]
    },
    {
     "name": "stdout",
     "output_type": "stream",
     "text": [
      "Epoch: 54/150, Duration: 28.08s, Train Loss - Bx: 4.0184, By: 3.9558, Bz: 2.9814, Physics Loss: 0.0827, Test R2 - Bx: 0.9356, By: 0.9265, Bz: 0.9713\n",
      "Estimated Remaining Time: 0h 58m 43s\n"
     ]
    },
    {
     "name": "stderr",
     "output_type": "stream",
     "text": [
      "\n",
      "Train Epoch 55/150: 100%|██████████| 15/15 [00:21<00:00,  1.43s/it, loss_Bx=4.4, loss_By=4.4, loss_Bz=3.18, physics_loss=0.0858]\n",
      "Test Epoch 55/150: 100%|██████████| 3/3 [00:06<00:00,  2.05s/it]"
     ]
    },
    {
     "name": "stdout",
     "output_type": "stream",
     "text": [
      "Epoch: 55/150, Duration: 29.86s, Train Loss - Bx: 4.0359, By: 3.9809, Bz: 3.0107, Physics Loss: 0.0869, Test R2 - Bx: 0.9366, By: 0.9282, Bz: 0.9709\n",
      "Estimated Remaining Time: 0h 57m 55s\n"
     ]
    },
    {
     "name": "stderr",
     "output_type": "stream",
     "text": [
      "\n",
      "Train Epoch 56/150: 100%|██████████| 15/15 [00:21<00:00,  1.42s/it, loss_Bx=4.41, loss_By=4.21, loss_Bz=3.2, physics_loss=0.0812]\n",
      "Test Epoch 56/150: 100%|██████████| 3/3 [00:06<00:00,  2.10s/it]"
     ]
    },
    {
     "name": "stdout",
     "output_type": "stream",
     "text": [
      "Epoch: 56/150, Duration: 29.65s, Train Loss - Bx: 4.0230, By: 3.9529, Bz: 2.9827, Physics Loss: 0.0838, Test R2 - Bx: 0.9369, By: 0.9289, Bz: 0.9720\n",
      "Estimated Remaining Time: 0h 57m 6s\n"
     ]
    },
    {
     "name": "stderr",
     "output_type": "stream",
     "text": [
      "\n",
      "Train Epoch 57/150: 100%|██████████| 15/15 [00:21<00:00,  1.44s/it, loss_Bx=4.64, loss_By=4.76, loss_Bz=3.34, physics_loss=0.0993]\n",
      "Test Epoch 57/150: 100%|██████████| 3/3 [00:05<00:00,  1.99s/it]"
     ]
    },
    {
     "name": "stdout",
     "output_type": "stream",
     "text": [
      "Epoch: 57/150, Duration: 29.77s, Train Loss - Bx: 3.9876, By: 3.9329, Bz: 2.9638, Physics Loss: 0.0814, Test R2 - Bx: 0.9390, By: 0.9300, Bz: 0.9732\n",
      "Estimated Remaining Time: 0h 56m 19s\n"
     ]
    },
    {
     "name": "stderr",
     "output_type": "stream",
     "text": [
      "\n",
      "Train Epoch 58/150: 100%|██████████| 15/15 [00:20<00:00,  1.37s/it, loss_Bx=4.1, loss_By=4.18, loss_Bz=3, physics_loss=0.0793]\n",
      "Test Epoch 58/150: 100%|██████████| 3/3 [00:06<00:00,  2.05s/it]"
     ]
    },
    {
     "name": "stdout",
     "output_type": "stream",
     "text": [
      "Epoch: 58/150, Duration: 28.77s, Train Loss - Bx: 3.9582, By: 3.9090, Bz: 2.9542, Physics Loss: 0.0830, Test R2 - Bx: 0.9376, By: 0.9298, Bz: 0.9715\n",
      "Estimated Remaining Time: 0h 55m 31s\n"
     ]
    },
    {
     "name": "stderr",
     "output_type": "stream",
     "text": [
      "\n",
      "Train Epoch 59/150: 100%|██████████| 15/15 [00:21<00:00,  1.42s/it, loss_Bx=3.88, loss_By=3.87, loss_Bz=3, physics_loss=0.0721]\n",
      "Test Epoch 59/150: 100%|██████████| 3/3 [00:06<00:00,  2.10s/it]"
     ]
    },
    {
     "name": "stdout",
     "output_type": "stream",
     "text": [
      "Epoch: 59/150, Duration: 29.84s, Train Loss - Bx: 3.9380, By: 3.8936, Bz: 2.9541, Physics Loss: 0.0820, Test R2 - Bx: 0.9380, By: 0.9293, Bz: 0.9728\n",
      "Estimated Remaining Time: 0h 54m 45s\n"
     ]
    },
    {
     "name": "stderr",
     "output_type": "stream",
     "text": [
      "\n",
      "Train Epoch 60/150: 100%|██████████| 15/15 [00:21<00:00,  1.41s/it, loss_Bx=4.08, loss_By=4.34, loss_Bz=3.1, physics_loss=0.0793]\n",
      "Test Epoch 60/150: 100%|██████████| 3/3 [00:17<00:00,  5.86s/it]"
     ]
    },
    {
     "name": "stdout",
     "output_type": "stream",
     "text": [
      "Epoch: 60/150, Duration: 40.81s, Train Loss - Bx: 3.9162, By: 3.8787, Bz: 2.9526, Physics Loss: 0.0829, Test R2 - Bx: 0.9382, By: 0.9291, Bz: 0.9727\n",
      "Estimated Remaining Time: 0h 54m 16s\n",
      "Checkpoint saved at epoch 60: /mmfs1/project/bs644/jc2687/FNO/result/NLFFF_Cube2Step/step2/checkpoint_epoch_60.pt\n"
     ]
    },
    {
     "name": "stderr",
     "output_type": "stream",
     "text": [
      "\n"
     ]
    },
    {
     "name": "stdout",
     "output_type": "stream",
     "text": [
      "bx - Mean: 2.271021391775374e-11, Std: 0.9999996423721313\n",
      "by - Mean: -6.319363782258947e-11, Std: 0.999997079372406\n",
      "bz - Mean: 4.904629133384297e-11, Std: 1.000001072883606\n"
     ]
    },
    {
     "name": "stderr",
     "output_type": "stream",
     "text": [
      "Train Epoch 61/150: 100%|██████████| 15/15 [00:20<00:00,  1.38s/it, loss_Bx=4.13, loss_By=3.78, loss_Bz=3.15, physics_loss=0.0831]\n",
      "Test Epoch 61/150: 100%|██████████| 3/3 [00:06<00:00,  2.25s/it]"
     ]
    },
    {
     "name": "stdout",
     "output_type": "stream",
     "text": [
      "Epoch: 61/150, Duration: 29.83s, Train Loss - Bx: 3.9102, By: 3.8749, Bz: 2.9697, Physics Loss: 0.0807, Test R2 - Bx: 0.9367, By: 0.9285, Bz: 0.9720\n",
      "Estimated Remaining Time: 0h 53m 30s\n"
     ]
    },
    {
     "name": "stderr",
     "output_type": "stream",
     "text": [
      "\n",
      "Train Epoch 62/150: 100%|██████████| 15/15 [00:21<00:00,  1.43s/it, loss_Bx=4.03, loss_By=4.32, loss_Bz=3.09, physics_loss=0.083]\n",
      "Test Epoch 62/150: 100%|██████████| 3/3 [00:06<00:00,  2.26s/it]"
     ]
    },
    {
     "name": "stdout",
     "output_type": "stream",
     "text": [
      "Epoch: 62/150, Duration: 30.47s, Train Loss - Bx: 3.9379, By: 3.8973, Bz: 3.0050, Physics Loss: 0.0826, Test R2 - Bx: 0.9340, By: 0.9255, Bz: 0.9698\n",
      "Estimated Remaining Time: 0h 52m 46s\n"
     ]
    },
    {
     "name": "stderr",
     "output_type": "stream",
     "text": [
      "\n",
      "Train Epoch 63/150: 100%|██████████| 15/15 [00:19<00:00,  1.32s/it, loss_Bx=4.37, loss_By=4.43, loss_Bz=3.24, physics_loss=0.102]\n",
      "Test Epoch 63/150: 100%|██████████| 3/3 [00:06<00:00,  2.11s/it]"
     ]
    },
    {
     "name": "stdout",
     "output_type": "stream",
     "text": [
      "Epoch: 63/150, Duration: 28.43s, Train Loss - Bx: 3.9293, By: 3.8716, Bz: 2.9685, Physics Loss: 0.0823, Test R2 - Bx: 0.9381, By: 0.9284, Bz: 0.9709\n",
      "Estimated Remaining Time: 0h 52m 0s\n"
     ]
    },
    {
     "name": "stderr",
     "output_type": "stream",
     "text": [
      "\n",
      "Train Epoch 64/150: 100%|██████████| 15/15 [00:21<00:00,  1.41s/it, loss_Bx=4.47, loss_By=4.03, loss_Bz=3.48, physics_loss=0.0944]\n",
      "Test Epoch 64/150: 100%|██████████| 3/3 [00:06<00:00,  2.03s/it]"
     ]
    },
    {
     "name": "stdout",
     "output_type": "stream",
     "text": [
      "Epoch: 64/150, Duration: 29.48s, Train Loss - Bx: 3.8845, By: 3.8522, Bz: 2.9547, Physics Loss: 0.0813, Test R2 - Bx: 0.9391, By: 0.9303, Bz: 0.9726\n",
      "Estimated Remaining Time: 0h 51m 15s\n"
     ]
    },
    {
     "name": "stderr",
     "output_type": "stream",
     "text": [
      "\n",
      "Train Epoch 65/150: 100%|██████████| 15/15 [00:21<00:00,  1.44s/it, loss_Bx=4.07, loss_By=4.14, loss_Bz=3.25, physics_loss=0.0901]\n",
      "Test Epoch 65/150: 100%|██████████| 3/3 [00:06<00:00,  2.06s/it]"
     ]
    },
    {
     "name": "stdout",
     "output_type": "stream",
     "text": [
      "Epoch: 65/150, Duration: 30.11s, Train Loss - Bx: 3.8574, By: 3.8319, Bz: 2.9498, Physics Loss: 0.0810, Test R2 - Bx: 0.9386, By: 0.9293, Bz: 0.9722\n",
      "Estimated Remaining Time: 0h 50m 32s\n"
     ]
    },
    {
     "name": "stderr",
     "output_type": "stream",
     "text": [
      "\n",
      "Train Epoch 66/150: 100%|██████████| 15/15 [00:21<00:00,  1.41s/it, loss_Bx=4.24, loss_By=4.01, loss_Bz=3.22, physics_loss=0.0949]\n",
      "Test Epoch 66/150: 100%|██████████| 3/3 [00:05<00:00,  1.93s/it]"
     ]
    },
    {
     "name": "stdout",
     "output_type": "stream",
     "text": [
      "Epoch: 66/150, Duration: 29.25s, Train Loss - Bx: 3.8390, By: 3.8179, Bz: 2.9465, Physics Loss: 0.0817, Test R2 - Bx: 0.9381, By: 0.9298, Bz: 0.9709\n",
      "Estimated Remaining Time: 0h 49m 48s\n"
     ]
    },
    {
     "name": "stderr",
     "output_type": "stream",
     "text": [
      "\n",
      "Train Epoch 67/150: 100%|██████████| 15/15 [00:21<00:00,  1.44s/it, loss_Bx=3.9, loss_By=4.12, loss_Bz=3.13, physics_loss=0.0908]\n",
      "Test Epoch 67/150: 100%|██████████| 3/3 [00:06<00:00,  2.11s/it]"
     ]
    },
    {
     "name": "stdout",
     "output_type": "stream",
     "text": [
      "Epoch: 67/150, Duration: 30.15s, Train Loss - Bx: 3.8277, By: 3.8028, Bz: 2.9463, Physics Loss: 0.0813, Test R2 - Bx: 0.9379, By: 0.9294, Bz: 0.9704\n",
      "Estimated Remaining Time: 0h 49m 6s\n"
     ]
    },
    {
     "name": "stderr",
     "output_type": "stream",
     "text": [
      "\n",
      "Train Epoch 68/150: 100%|██████████| 15/15 [00:21<00:00,  1.45s/it, loss_Bx=4.45, loss_By=4.19, loss_Bz=3.48, physics_loss=0.099]\n",
      "Test Epoch 68/150: 100%|██████████| 3/3 [00:05<00:00,  1.91s/it]"
     ]
    },
    {
     "name": "stdout",
     "output_type": "stream",
     "text": [
      "Epoch: 68/150, Duration: 29.78s, Train Loss - Bx: 3.8130, By: 3.7961, Bz: 2.9504, Physics Loss: 0.0814, Test R2 - Bx: 0.9386, By: 0.9299, Bz: 0.9721\n",
      "Estimated Remaining Time: 0h 48m 24s\n"
     ]
    },
    {
     "name": "stderr",
     "output_type": "stream",
     "text": [
      "\n",
      "Train Epoch 69/150: 100%|██████████| 15/15 [00:21<00:00,  1.43s/it, loss_Bx=3.82, loss_By=3.78, loss_Bz=2.84, physics_loss=0.0692]\n",
      "Test Epoch 69/150: 100%|██████████| 3/3 [00:06<00:00,  2.04s/it]"
     ]
    },
    {
     "name": "stdout",
     "output_type": "stream",
     "text": [
      "Epoch: 69/150, Duration: 29.90s, Train Loss - Bx: 3.8021, By: 3.7817, Bz: 2.9509, Physics Loss: 0.0814, Test R2 - Bx: 0.9384, By: 0.9293, Bz: 0.9709\n",
      "Estimated Remaining Time: 0h 47m 42s\n"
     ]
    },
    {
     "name": "stderr",
     "output_type": "stream",
     "text": [
      "\n",
      "Train Epoch 70/150: 100%|██████████| 15/15 [00:20<00:00,  1.36s/it, loss_Bx=3.7, loss_By=3.8, loss_Bz=2.99, physics_loss=0.0727]\n",
      "Test Epoch 70/150: 100%|██████████| 3/3 [00:06<00:00,  2.18s/it]"
     ]
    },
    {
     "name": "stdout",
     "output_type": "stream",
     "text": [
      "Epoch: 70/150, Duration: 29.04s, Train Loss - Bx: 3.8296, By: 3.8140, Bz: 3.0003, Physics Loss: 0.0839, Test R2 - Bx: 0.9368, By: 0.9281, Bz: 0.9684\n",
      "Estimated Remaining Time: 0h 46m 59s\n",
      "Checkpoint saved at epoch 70: /mmfs1/project/bs644/jc2687/FNO/result/NLFFF_Cube2Step/step2/checkpoint_epoch_70.pt\n"
     ]
    },
    {
     "name": "stderr",
     "output_type": "stream",
     "text": [
      "\n"
     ]
    },
    {
     "name": "stdout",
     "output_type": "stream",
     "text": [
      "bx - Mean: -3.5740663900662994e-11, Std: 0.9999989867210388\n",
      "by - Mean: 1.8181120498006464e-10, Std: 0.9999993443489075\n",
      "bz - Mean: -3.3911543712017433e-11, Std: 1.0000011920928955\n"
     ]
    },
    {
     "name": "stderr",
     "output_type": "stream",
     "text": [
      "Train Epoch 71/150: 100%|██████████| 15/15 [00:14<00:00,  1.04it/s, loss_Bx=3.73, loss_By=3.7, loss_Bz=2.96, physics_loss=0.0723]\n",
      "Test Epoch 71/150: 100%|██████████| 3/3 [00:06<00:00,  2.04s/it]"
     ]
    },
    {
     "name": "stdout",
     "output_type": "stream",
     "text": [
      "Epoch: 71/150, Duration: 23.07s, Train Loss - Bx: 3.7988, By: 3.7905, Bz: 2.9646, Physics Loss: 0.0834, Test R2 - Bx: 0.9360, By: 0.9265, Bz: 0.9720\n",
      "Estimated Remaining Time: 0h 46m 10s\n"
     ]
    },
    {
     "name": "stderr",
     "output_type": "stream",
     "text": [
      "\n",
      "Train Epoch 72/150: 100%|██████████| 15/15 [00:15<00:00,  1.01s/it, loss_Bx=3.93, loss_By=3.92, loss_Bz=3.12, physics_loss=0.088]\n",
      "Test Epoch 72/150: 100%|██████████| 3/3 [00:05<00:00,  1.91s/it]"
     ]
    },
    {
     "name": "stdout",
     "output_type": "stream",
     "text": [
      "Epoch: 72/150, Duration: 23.10s, Train Loss - Bx: 3.7815, By: 3.7644, Bz: 2.9535, Physics Loss: 0.0819, Test R2 - Bx: 0.9375, By: 0.9286, Bz: 0.9697\n",
      "Estimated Remaining Time: 0h 45m 22s\n"
     ]
    },
    {
     "name": "stderr",
     "output_type": "stream",
     "text": [
      "\n",
      "Train Epoch 73/150: 100%|██████████| 15/15 [00:14<00:00,  1.06it/s, loss_Bx=3.95, loss_By=3.59, loss_Bz=2.97, physics_loss=0.0773]\n",
      "Test Epoch 73/150: 100%|██████████| 3/3 [00:06<00:00,  2.00s/it]"
     ]
    },
    {
     "name": "stdout",
     "output_type": "stream",
     "text": [
      "Epoch: 73/150, Duration: 22.43s, Train Loss - Bx: 3.7630, By: 3.7490, Bz: 2.9428, Physics Loss: 0.0818, Test R2 - Bx: 0.9373, By: 0.9276, Bz: 0.9727\n",
      "Estimated Remaining Time: 0h 44m 34s\n"
     ]
    },
    {
     "name": "stderr",
     "output_type": "stream",
     "text": [
      "\n",
      "Train Epoch 74/150: 100%|██████████| 15/15 [00:14<00:00,  1.04it/s, loss_Bx=3.67, loss_By=3.71, loss_Bz=2.81, physics_loss=0.0695]\n",
      "Test Epoch 74/150: 100%|██████████| 3/3 [00:20<00:00,  6.71s/it]"
     ]
    },
    {
     "name": "stdout",
     "output_type": "stream",
     "text": [
      "Epoch: 74/150, Duration: 36.89s, Train Loss - Bx: 3.7476, By: 3.7331, Bz: 2.9385, Physics Loss: 0.0814, Test R2 - Bx: 0.9383, By: 0.9297, Bz: 0.9722\n",
      "Estimated Remaining Time: 0h 44m 2s\n"
     ]
    },
    {
     "name": "stderr",
     "output_type": "stream",
     "text": [
      "\n",
      "Train Epoch 75/150: 100%|██████████| 15/15 [00:14<00:00,  1.07it/s, loss_Bx=4.11, loss_By=3.96, loss_Bz=3.15, physics_loss=0.0802]\n",
      "Test Epoch 75/150: 100%|██████████| 3/3 [00:05<00:00,  1.89s/it]"
     ]
    },
    {
     "name": "stdout",
     "output_type": "stream",
     "text": [
      "Epoch: 75/150, Duration: 22.47s, Train Loss - Bx: 3.7377, By: 3.7226, Bz: 2.9432, Physics Loss: 0.0808, Test R2 - Bx: 0.9390, By: 0.9294, Bz: 0.9730\n",
      "Estimated Remaining Time: 0h 43m 15s\n"
     ]
    },
    {
     "name": "stderr",
     "output_type": "stream",
     "text": [
      "\n",
      "Train Epoch 76/150: 100%|██████████| 15/15 [00:14<00:00,  1.03it/s, loss_Bx=3.62, loss_By=3.8, loss_Bz=2.8, physics_loss=0.0682]\n",
      "Test Epoch 76/150: 100%|██████████| 3/3 [00:05<00:00,  1.91s/it]"
     ]
    },
    {
     "name": "stdout",
     "output_type": "stream",
     "text": [
      "Epoch: 76/150, Duration: 22.66s, Train Loss - Bx: 3.7375, By: 3.7236, Bz: 2.9546, Physics Loss: 0.0805, Test R2 - Bx: 0.9386, By: 0.9302, Bz: 0.9724\n",
      "Estimated Remaining Time: 0h 42m 28s\n"
     ]
    },
    {
     "name": "stderr",
     "output_type": "stream",
     "text": [
      "\n",
      "Train Epoch 77/150: 100%|██████████| 15/15 [00:14<00:00,  1.03it/s, loss_Bx=4.1, loss_By=4.21, loss_Bz=3.24, physics_loss=0.0837]\n",
      "Test Epoch 77/150: 100%|██████████| 3/3 [00:06<00:00,  2.09s/it]"
     ]
    },
    {
     "name": "stdout",
     "output_type": "stream",
     "text": [
      "Epoch: 77/150, Duration: 23.28s, Train Loss - Bx: 3.7564, By: 3.7634, Bz: 2.9854, Physics Loss: 0.0846, Test R2 - Bx: 0.9361, By: 0.9285, Bz: 0.9707\n",
      "Estimated Remaining Time: 0h 41m 43s\n"
     ]
    },
    {
     "name": "stderr",
     "output_type": "stream",
     "text": [
      "\n",
      "Train Epoch 78/150: 100%|██████████| 15/15 [00:14<00:00,  1.05it/s, loss_Bx=4.01, loss_By=4.01, loss_Bz=3.18, physics_loss=0.0866]\n",
      "Test Epoch 78/150: 100%|██████████| 3/3 [00:06<00:00,  2.07s/it]"
     ]
    },
    {
     "name": "stdout",
     "output_type": "stream",
     "text": [
      "Epoch: 78/150, Duration: 23.15s, Train Loss - Bx: 3.7381, By: 3.7332, Bz: 2.9619, Physics Loss: 0.0819, Test R2 - Bx: 0.9382, By: 0.9298, Bz: 0.9719\n",
      "Estimated Remaining Time: 0h 40m 59s\n"
     ]
    },
    {
     "name": "stderr",
     "output_type": "stream",
     "text": [
      "\n",
      "Train Epoch 79/150: 100%|██████████| 15/15 [00:14<00:00,  1.05it/s, loss_Bx=3.78, loss_By=3.9, loss_Bz=3.01, physics_loss=0.0795]\n",
      "Test Epoch 79/150: 100%|██████████| 3/3 [00:06<00:00,  2.17s/it]"
     ]
    },
    {
     "name": "stdout",
     "output_type": "stream",
     "text": [
      "Epoch: 79/150, Duration: 23.54s, Train Loss - Bx: 3.7219, By: 3.7123, Bz: 2.9529, Physics Loss: 0.0814, Test R2 - Bx: 0.9380, By: 0.9296, Bz: 0.9720\n",
      "Estimated Remaining Time: 0h 40m 15s\n"
     ]
    },
    {
     "name": "stderr",
     "output_type": "stream",
     "text": [
      "\n",
      "Train Epoch 80/150: 100%|██████████| 15/15 [00:14<00:00,  1.05it/s, loss_Bx=3.96, loss_By=3.97, loss_Bz=3.2, physics_loss=0.077]\n",
      "Test Epoch 80/150: 100%|██████████| 3/3 [00:05<00:00,  1.92s/it]"
     ]
    },
    {
     "name": "stdout",
     "output_type": "stream",
     "text": [
      "Epoch: 80/150, Duration: 22.88s, Train Loss - Bx: 3.7259, By: 3.7171, Bz: 2.9638, Physics Loss: 0.0820, Test R2 - Bx: 0.9386, By: 0.9294, Bz: 0.9725\n",
      "Estimated Remaining Time: 0h 39m 31s\n",
      "Checkpoint saved at epoch 80: /mmfs1/project/bs644/jc2687/FNO/result/NLFFF_Cube2Step/step2/checkpoint_epoch_80.pt\n"
     ]
    },
    {
     "name": "stderr",
     "output_type": "stream",
     "text": [
      "\n"
     ]
    },
    {
     "name": "stdout",
     "output_type": "stream",
     "text": [
      "bx - Mean: 3.962551814451487e-11, Std: 0.999999463558197\n",
      "by - Mean: -5.671887959302069e-11, Std: 1.0000003576278687\n",
      "bz - Mean: -5.076210285448468e-11, Std: 0.9999982714653015\n"
     ]
    },
    {
     "name": "stderr",
     "output_type": "stream",
     "text": [
      "Train Epoch 81/150: 100%|██████████| 15/15 [00:14<00:00,  1.03it/s, loss_Bx=4.13, loss_By=4.03, loss_Bz=3.24, physics_loss=0.0838]\n",
      "Test Epoch 81/150: 100%|██████████| 3/3 [00:06<00:00,  2.31s/it]"
     ]
    },
    {
     "name": "stdout",
     "output_type": "stream",
     "text": [
      "Epoch: 81/150, Duration: 24.27s, Train Loss - Bx: 3.7223, By: 3.7176, Bz: 2.9648, Physics Loss: 0.0806, Test R2 - Bx: 0.9393, By: 0.9302, Bz: 0.9730\n",
      "Estimated Remaining Time: 0h 38m 49s\n"
     ]
    },
    {
     "name": "stderr",
     "output_type": "stream",
     "text": [
      "\n",
      "Train Epoch 82/150: 100%|██████████| 15/15 [00:14<00:00,  1.06it/s, loss_Bx=3.8, loss_By=3.63, loss_Bz=3.07, physics_loss=0.0777]\n",
      "Test Epoch 82/150: 100%|██████████| 3/3 [00:06<00:00,  2.26s/it]"
     ]
    },
    {
     "name": "stdout",
     "output_type": "stream",
     "text": [
      "Epoch: 82/150, Duration: 24.01s, Train Loss - Bx: 3.6998, By: 3.6864, Bz: 2.9377, Physics Loss: 0.0808, Test R2 - Bx: 0.9390, By: 0.9303, Bz: 0.9728\n",
      "Estimated Remaining Time: 0h 38m 7s\n"
     ]
    },
    {
     "name": "stderr",
     "output_type": "stream",
     "text": [
      "\n",
      "Train Epoch 83/150: 100%|██████████| 15/15 [00:14<00:00,  1.05it/s, loss_Bx=3.83, loss_By=3.74, loss_Bz=3.03, physics_loss=0.0794]\n",
      "Test Epoch 83/150: 100%|██████████| 3/3 [00:07<00:00,  2.34s/it]"
     ]
    },
    {
     "name": "stdout",
     "output_type": "stream",
     "text": [
      "Epoch: 83/150, Duration: 24.40s, Train Loss - Bx: 3.6869, By: 3.6728, Bz: 2.9297, Physics Loss: 0.0808, Test R2 - Bx: 0.9394, By: 0.9303, Bz: 0.9730\n",
      "Estimated Remaining Time: 0h 37m 26s\n"
     ]
    },
    {
     "name": "stderr",
     "output_type": "stream",
     "text": [
      "\n",
      "Train Epoch 84/150: 100%|██████████| 15/15 [00:13<00:00,  1.10it/s, loss_Bx=4.3, loss_By=4.18, loss_Bz=3.35, physics_loss=0.102]\n",
      "Test Epoch 84/150: 100%|██████████| 3/3 [00:06<00:00,  2.29s/it]"
     ]
    },
    {
     "name": "stdout",
     "output_type": "stream",
     "text": [
      "Epoch: 84/150, Duration: 23.48s, Train Loss - Bx: 3.6805, By: 3.6635, Bz: 2.9301, Physics Loss: 0.0815, Test R2 - Bx: 0.9395, By: 0.9306, Bz: 0.9728\n",
      "Estimated Remaining Time: 0h 36m 45s\n"
     ]
    },
    {
     "name": "stderr",
     "output_type": "stream",
     "text": [
      "\n",
      "Train Epoch 85/150: 100%|██████████| 15/15 [00:14<00:00,  1.06it/s, loss_Bx=3.73, loss_By=3.88, loss_Bz=2.88, physics_loss=0.0757]\n",
      "Test Epoch 85/150: 100%|██████████| 3/3 [00:06<00:00,  2.17s/it]"
     ]
    },
    {
     "name": "stdout",
     "output_type": "stream",
     "text": [
      "Epoch: 85/150, Duration: 23.32s, Train Loss - Bx: 3.6784, By: 3.6659, Bz: 2.9356, Physics Loss: 0.0801, Test R2 - Bx: 0.9391, By: 0.9307, Bz: 0.9720\n",
      "Estimated Remaining Time: 0h 36m 4s\n"
     ]
    },
    {
     "name": "stderr",
     "output_type": "stream",
     "text": [
      "\n",
      "Train Epoch 86/150: 100%|██████████| 15/15 [00:14<00:00,  1.07it/s, loss_Bx=3.74, loss_By=3.79, loss_Bz=2.95, physics_loss=0.0766]\n",
      "Test Epoch 86/150: 100%|██████████| 3/3 [00:06<00:00,  2.16s/it]"
     ]
    },
    {
     "name": "stdout",
     "output_type": "stream",
     "text": [
      "Epoch: 86/150, Duration: 23.24s, Train Loss - Bx: 3.6697, By: 3.6541, Bz: 2.9331, Physics Loss: 0.0817, Test R2 - Bx: 0.9382, By: 0.9297, Bz: 0.9727\n",
      "Estimated Remaining Time: 0h 35m 23s\n"
     ]
    },
    {
     "name": "stderr",
     "output_type": "stream",
     "text": [
      "\n",
      "Train Epoch 87/150: 100%|██████████| 15/15 [00:14<00:00,  1.05it/s, loss_Bx=3.94, loss_By=3.96, loss_Bz=3.19, physics_loss=0.0807]\n",
      "Test Epoch 87/150: 100%|██████████| 3/3 [00:06<00:00,  2.13s/it]"
     ]
    },
    {
     "name": "stdout",
     "output_type": "stream",
     "text": [
      "Epoch: 87/150, Duration: 23.23s, Train Loss - Bx: 3.6707, By: 3.6527, Bz: 2.9385, Physics Loss: 0.0810, Test R2 - Bx: 0.9385, By: 0.9297, Bz: 0.9725\n",
      "Estimated Remaining Time: 0h 34m 43s\n"
     ]
    },
    {
     "name": "stderr",
     "output_type": "stream",
     "text": [
      "\n",
      "Train Epoch 88/150: 100%|██████████| 15/15 [00:14<00:00,  1.03it/s, loss_Bx=4.14, loss_By=4.05, loss_Bz=3.35, physics_loss=0.103]\n",
      "Test Epoch 88/150: 100%|██████████| 3/3 [00:06<00:00,  2.13s/it]"
     ]
    },
    {
     "name": "stdout",
     "output_type": "stream",
     "text": [
      "Epoch: 88/150, Duration: 23.83s, Train Loss - Bx: 3.6604, By: 3.6431, Bz: 2.9316, Physics Loss: 0.0817, Test R2 - Bx: 0.9395, By: 0.9307, Bz: 0.9731\n",
      "Estimated Remaining Time: 0h 34m 3s\n"
     ]
    },
    {
     "name": "stderr",
     "output_type": "stream",
     "text": [
      "\n",
      "Train Epoch 89/150: 100%|██████████| 15/15 [00:14<00:00,  1.05it/s, loss_Bx=3.86, loss_By=3.81, loss_Bz=3.08, physics_loss=0.0843]\n",
      "Test Epoch 89/150: 100%|██████████| 3/3 [00:07<00:00,  2.37s/it]"
     ]
    },
    {
     "name": "stdout",
     "output_type": "stream",
     "text": [
      "Epoch: 89/150, Duration: 24.09s, Train Loss - Bx: 3.6580, By: 3.6428, Bz: 2.9383, Physics Loss: 0.0801, Test R2 - Bx: 0.9391, By: 0.9301, Bz: 0.9719\n",
      "Estimated Remaining Time: 0h 33m 24s\n"
     ]
    },
    {
     "name": "stderr",
     "output_type": "stream",
     "text": [
      "\n",
      "Train Epoch 90/150: 100%|██████████| 15/15 [00:14<00:00,  1.05it/s, loss_Bx=3.79, loss_By=3.73, loss_Bz=3.08, physics_loss=0.0737]\n",
      "Test Epoch 90/150: 100%|██████████| 3/3 [00:06<00:00,  2.26s/it]"
     ]
    },
    {
     "name": "stdout",
     "output_type": "stream",
     "text": [
      "Epoch: 90/150, Duration: 23.90s, Train Loss - Bx: 3.6552, By: 3.6360, Bz: 2.9375, Physics Loss: 0.0816, Test R2 - Bx: 0.9390, By: 0.9308, Bz: 0.9729\n",
      "Estimated Remaining Time: 0h 32m 45s\n",
      "Checkpoint saved at epoch 90: /mmfs1/project/bs644/jc2687/FNO/result/NLFFF_Cube2Step/step2/checkpoint_epoch_90.pt\n"
     ]
    },
    {
     "name": "stderr",
     "output_type": "stream",
     "text": [
      "\n"
     ]
    },
    {
     "name": "stdout",
     "output_type": "stream",
     "text": [
      "bx - Mean: 3.611296331418323e-11, Std: 1.000001311302185\n",
      "by - Mean: -7.251729078339153e-11, Std: 0.9999979138374329\n",
      "bz - Mean: 1.0888721868607121e-10, Std: 1.000001072883606\n"
     ]
    },
    {
     "name": "stderr",
     "output_type": "stream",
     "text": [
      "Train Epoch 91/150: 100%|██████████| 15/15 [00:14<00:00,  1.01it/s, loss_Bx=4.11, loss_By=3.89, loss_Bz=3.32, physics_loss=0.0947]\n",
      "Test Epoch 91/150: 100%|██████████| 3/3 [00:06<00:00,  2.14s/it]"
     ]
    },
    {
     "name": "stdout",
     "output_type": "stream",
     "text": [
      "Epoch: 91/150, Duration: 23.86s, Train Loss - Bx: 3.6468, By: 3.6309, Bz: 2.9321, Physics Loss: 0.0805, Test R2 - Bx: 0.9391, By: 0.9307, Bz: 0.9728\n",
      "Estimated Remaining Time: 0h 32m 7s\n"
     ]
    },
    {
     "name": "stderr",
     "output_type": "stream",
     "text": [
      "\n",
      "Train Epoch 92/150: 100%|██████████| 15/15 [00:13<00:00,  1.08it/s, loss_Bx=3.73, loss_By=3.8, loss_Bz=2.97, physics_loss=0.0785]\n",
      "Test Epoch 92/150: 100%|██████████| 3/3 [00:06<00:00,  2.07s/it]"
     ]
    },
    {
     "name": "stdout",
     "output_type": "stream",
     "text": [
      "Epoch: 92/150, Duration: 22.62s, Train Loss - Bx: 3.6425, By: 3.6228, Bz: 2.9339, Physics Loss: 0.0810, Test R2 - Bx: 0.9385, By: 0.9300, Bz: 0.9734\n",
      "Estimated Remaining Time: 0h 31m 28s\n"
     ]
    },
    {
     "name": "stderr",
     "output_type": "stream",
     "text": [
      "\n",
      "Train Epoch 93/150: 100%|██████████| 15/15 [00:13<00:00,  1.08it/s, loss_Bx=3.73, loss_By=3.68, loss_Bz=3.06, physics_loss=0.0774]\n",
      "Test Epoch 93/150: 100%|██████████| 3/3 [00:06<00:00,  2.26s/it]"
     ]
    },
    {
     "name": "stdout",
     "output_type": "stream",
     "text": [
      "Epoch: 93/150, Duration: 23.10s, Train Loss - Bx: 3.6374, By: 3.6180, Bz: 2.9321, Physics Loss: 0.0808, Test R2 - Bx: 0.9376, By: 0.9300, Bz: 0.9718\n",
      "Estimated Remaining Time: 0h 30m 49s\n"
     ]
    },
    {
     "name": "stderr",
     "output_type": "stream",
     "text": [
      "\n",
      "Train Epoch 94/150: 100%|██████████| 15/15 [00:14<00:00,  1.07it/s, loss_Bx=4.09, loss_By=4.15, loss_Bz=3.31, physics_loss=0.0948]\n",
      "Test Epoch 94/150: 100%|██████████| 3/3 [00:06<00:00,  2.06s/it]"
     ]
    },
    {
     "name": "stdout",
     "output_type": "stream",
     "text": [
      "Epoch: 94/150, Duration: 22.70s, Train Loss - Bx: 3.6333, By: 3.6121, Bz: 2.9351, Physics Loss: 0.0838, Test R2 - Bx: 0.9387, By: 0.9299, Bz: 0.9723\n",
      "Estimated Remaining Time: 0h 30m 11s\n"
     ]
    },
    {
     "name": "stderr",
     "output_type": "stream",
     "text": [
      "\n",
      "Train Epoch 95/150: 100%|██████████| 15/15 [00:14<00:00,  1.06it/s, loss_Bx=3.91, loss_By=3.97, loss_Bz=3.29, physics_loss=0.0801]\n",
      "Test Epoch 95/150: 100%|██████████| 3/3 [00:06<00:00,  2.03s/it]"
     ]
    },
    {
     "name": "stdout",
     "output_type": "stream",
     "text": [
      "Epoch: 95/150, Duration: 22.75s, Train Loss - Bx: 3.6326, By: 3.6131, Bz: 2.9360, Physics Loss: 0.0807, Test R2 - Bx: 0.9393, By: 0.9307, Bz: 0.9729\n",
      "Estimated Remaining Time: 0h 29m 33s\n"
     ]
    },
    {
     "name": "stderr",
     "output_type": "stream",
     "text": [
      "\n",
      "Train Epoch 96/150: 100%|██████████| 15/15 [00:13<00:00,  1.10it/s, loss_Bx=3.91, loss_By=3.97, loss_Bz=3.12, physics_loss=0.0835]\n",
      "Test Epoch 96/150: 100%|██████████| 3/3 [00:06<00:00,  2.08s/it]"
     ]
    },
    {
     "name": "stdout",
     "output_type": "stream",
     "text": [
      "Epoch: 96/150, Duration: 22.22s, Train Loss - Bx: 3.6251, By: 3.6046, Bz: 2.9323, Physics Loss: 0.0809, Test R2 - Bx: 0.9378, By: 0.9298, Bz: 0.9726\n",
      "Estimated Remaining Time: 0h 28m 55s\n"
     ]
    },
    {
     "name": "stderr",
     "output_type": "stream",
     "text": [
      "\n",
      "Train Epoch 97/150: 100%|██████████| 15/15 [00:13<00:00,  1.08it/s, loss_Bx=3.65, loss_By=3.49, loss_Bz=3.01, physics_loss=0.0799]\n",
      "Test Epoch 97/150: 100%|██████████| 3/3 [00:07<00:00,  2.40s/it]"
     ]
    },
    {
     "name": "stdout",
     "output_type": "stream",
     "text": [
      "Epoch: 97/150, Duration: 23.49s, Train Loss - Bx: 3.6223, By: 3.6007, Bz: 2.9339, Physics Loss: 0.0812, Test R2 - Bx: 0.9388, By: 0.9303, Bz: 0.9728\n",
      "Estimated Remaining Time: 0h 28m 18s\n"
     ]
    },
    {
     "name": "stderr",
     "output_type": "stream",
     "text": [
      "\n",
      "Train Epoch 98/150: 100%|██████████| 15/15 [00:14<00:00,  1.05it/s, loss_Bx=3.68, loss_By=3.55, loss_Bz=2.99, physics_loss=0.0712]\n",
      "Test Epoch 98/150: 100%|██████████| 3/3 [00:06<00:00,  2.15s/it]"
     ]
    },
    {
     "name": "stdout",
     "output_type": "stream",
     "text": [
      "Epoch: 98/150, Duration: 23.23s, Train Loss - Bx: 3.6194, By: 3.5991, Bz: 2.9363, Physics Loss: 0.0803, Test R2 - Bx: 0.9393, By: 0.9303, Bz: 0.9731\n",
      "Estimated Remaining Time: 0h 27m 42s\n"
     ]
    },
    {
     "name": "stderr",
     "output_type": "stream",
     "text": [
      "\n",
      "Train Epoch 99/150: 100%|██████████| 15/15 [00:13<00:00,  1.10it/s, loss_Bx=3.96, loss_By=4.25, loss_Bz=3.08, physics_loss=0.0799]\n",
      "Test Epoch 99/150: 100%|██████████| 3/3 [00:05<00:00,  1.88s/it]"
     ]
    },
    {
     "name": "stdout",
     "output_type": "stream",
     "text": [
      "Epoch: 99/150, Duration: 21.64s, Train Loss - Bx: 3.6153, By: 3.5998, Bz: 2.9388, Physics Loss: 0.0810, Test R2 - Bx: 0.9394, By: 0.9303, Bz: 0.9728\n",
      "Estimated Remaining Time: 0h 27m 4s\n"
     ]
    },
    {
     "name": "stderr",
     "output_type": "stream",
     "text": [
      "\n",
      "Train Epoch 100/150: 100%|██████████| 15/15 [00:14<00:00,  1.05it/s, loss_Bx=3.84, loss_By=3.86, loss_Bz=3.14, physics_loss=0.087]\n",
      "Test Epoch 100/150: 100%|██████████| 3/3 [00:06<00:00,  2.19s/it]"
     ]
    },
    {
     "name": "stdout",
     "output_type": "stream",
     "text": [
      "Epoch: 100/150, Duration: 23.40s, Train Loss - Bx: 3.6259, By: 3.6054, Bz: 2.9515, Physics Loss: 0.0806, Test R2 - Bx: 0.9363, By: 0.9285, Bz: 0.9715\n",
      "Estimated Remaining Time: 0h 26m 28s\n",
      "Checkpoint saved at epoch 100: /mmfs1/project/bs644/jc2687/FNO/result/NLFFF_Cube2Step/step2/checkpoint_epoch_100.pt\n"
     ]
    },
    {
     "name": "stderr",
     "output_type": "stream",
     "text": [
      "\n"
     ]
    },
    {
     "name": "stdout",
     "output_type": "stream",
     "text": [
      "bx - Mean: -5.050311297633003e-12, Std: 1.0000017881393433\n",
      "by - Mean: 5.438796635282017e-11, Std: 1.0000008344650269\n",
      "bz - Mean: 5.464695709833656e-11, Std: 1.0000001192092896\n"
     ]
    },
    {
     "name": "stderr",
     "output_type": "stream",
     "text": [
      "Train Epoch 101/150: 100%|██████████| 15/15 [00:21<00:00,  1.41s/it, loss_Bx=3.4, loss_By=3.43, loss_Bz=2.76, physics_loss=0.0652]\n",
      "Test Epoch 101/150: 100%|██████████| 3/3 [00:06<00:00,  2.21s/it]"
     ]
    },
    {
     "name": "stdout",
     "output_type": "stream",
     "text": [
      "Epoch: 101/150, Duration: 30.26s, Train Loss - Bx: 3.6235, By: 3.6048, Bz: 2.9491, Physics Loss: 0.0819, Test R2 - Bx: 0.9394, By: 0.9301, Bz: 0.9728\n",
      "Estimated Remaining Time: 0h 25m 56s\n"
     ]
    },
    {
     "name": "stderr",
     "output_type": "stream",
     "text": [
      "\n",
      "Train Epoch 102/150: 100%|██████████| 15/15 [00:18<00:00,  1.27s/it, loss_Bx=4.04, loss_By=3.87, loss_Bz=3.3, physics_loss=0.0947]\n",
      "Test Epoch 102/150: 100%|██████████| 3/3 [00:06<00:00,  2.10s/it]"
     ]
    },
    {
     "name": "stdout",
     "output_type": "stream",
     "text": [
      "Epoch: 102/150, Duration: 27.63s, Train Loss - Bx: 3.6101, By: 3.5914, Bz: 2.9360, Physics Loss: 0.0808, Test R2 - Bx: 0.9388, By: 0.9302, Bz: 0.9731\n",
      "Estimated Remaining Time: 0h 25m 22s\n"
     ]
    },
    {
     "name": "stderr",
     "output_type": "stream",
     "text": [
      "\n",
      "Train Epoch 103/150: 100%|██████████| 15/15 [00:20<00:00,  1.38s/it, loss_Bx=3.78, loss_By=3.69, loss_Bz=3.1, physics_loss=0.0853]\n",
      "Test Epoch 103/150: 100%|██████████| 3/3 [00:06<00:00,  2.12s/it]"
     ]
    },
    {
     "name": "stdout",
     "output_type": "stream",
     "text": [
      "Epoch: 103/150, Duration: 29.38s, Train Loss - Bx: 3.5988, By: 3.5764, Bz: 2.9250, Physics Loss: 0.0806, Test R2 - Bx: 0.9398, By: 0.9310, Bz: 0.9729\n",
      "Estimated Remaining Time: 0h 24m 49s\n"
     ]
    },
    {
     "name": "stderr",
     "output_type": "stream",
     "text": [
      "\n",
      "Train Epoch 104/150: 100%|██████████| 15/15 [00:21<00:00,  1.40s/it, loss_Bx=3.78, loss_By=3.63, loss_Bz=3.09, physics_loss=0.0832]\n",
      "Test Epoch 104/150: 100%|██████████| 3/3 [00:06<00:00,  2.06s/it]"
     ]
    },
    {
     "name": "stdout",
     "output_type": "stream",
     "text": [
      "Epoch: 104/150, Duration: 29.58s, Train Loss - Bx: 3.5944, By: 3.5709, Bz: 2.9242, Physics Loss: 0.0808, Test R2 - Bx: 0.9388, By: 0.9308, Bz: 0.9728\n",
      "Estimated Remaining Time: 0h 24m 17s\n"
     ]
    },
    {
     "name": "stderr",
     "output_type": "stream",
     "text": [
      "\n",
      "Train Epoch 105/150: 100%|██████████| 15/15 [00:21<00:00,  1.46s/it, loss_Bx=3.95, loss_By=3.96, loss_Bz=3.23, physics_loss=0.0861]\n",
      "Test Epoch 105/150: 100%|██████████| 3/3 [00:06<00:00,  2.12s/it]"
     ]
    },
    {
     "name": "stdout",
     "output_type": "stream",
     "text": [
      "Epoch: 105/150, Duration: 30.84s, Train Loss - Bx: 3.5934, By: 3.5702, Bz: 2.9277, Physics Loss: 0.0810, Test R2 - Bx: 0.9393, By: 0.9306, Bz: 0.9726\n",
      "Estimated Remaining Time: 0h 23m 45s\n"
     ]
    },
    {
     "name": "stderr",
     "output_type": "stream",
     "text": [
      "\n",
      "Train Epoch 106/150: 100%|██████████| 15/15 [00:22<00:00,  1.48s/it, loss_Bx=3.8, loss_By=3.81, loss_Bz=3.14, physics_loss=0.0821]\n",
      "Test Epoch 106/150: 100%|██████████| 3/3 [00:06<00:00,  2.33s/it]"
     ]
    },
    {
     "name": "stdout",
     "output_type": "stream",
     "text": [
      "Epoch: 106/150, Duration: 31.40s, Train Loss - Bx: 3.5886, By: 3.5651, Bz: 2.9264, Physics Loss: 0.0814, Test R2 - Bx: 0.9393, By: 0.9310, Bz: 0.9725\n",
      "Estimated Remaining Time: 0h 23m 13s\n"
     ]
    },
    {
     "name": "stderr",
     "output_type": "stream",
     "text": [
      "\n",
      "Train Epoch 107/150: 100%|██████████| 15/15 [00:21<00:00,  1.42s/it, loss_Bx=3.72, loss_By=3.73, loss_Bz=3.04, physics_loss=0.083]\n",
      "Test Epoch 107/150: 100%|██████████| 3/3 [00:06<00:00,  2.19s/it]"
     ]
    },
    {
     "name": "stdout",
     "output_type": "stream",
     "text": [
      "Epoch: 107/150, Duration: 30.02s, Train Loss - Bx: 3.5896, By: 3.5664, Bz: 2.9272, Physics Loss: 0.0811, Test R2 - Bx: 0.9394, By: 0.9304, Bz: 0.9729\n",
      "Estimated Remaining Time: 0h 22m 40s\n"
     ]
    },
    {
     "name": "stderr",
     "output_type": "stream",
     "text": [
      "\n",
      "Train Epoch 108/150: 100%|██████████| 15/15 [00:20<00:00,  1.35s/it, loss_Bx=3.64, loss_By=3.4, loss_Bz=2.91, physics_loss=0.0692]\n",
      "Test Epoch 108/150: 100%|██████████| 3/3 [00:11<00:00,  3.88s/it]"
     ]
    },
    {
     "name": "stdout",
     "output_type": "stream",
     "text": [
      "Epoch: 108/150, Duration: 34.16s, Train Loss - Bx: 3.5808, By: 3.5564, Bz: 2.9237, Physics Loss: 0.0822, Test R2 - Bx: 0.9392, By: 0.9313, Bz: 0.9726\n",
      "Estimated Remaining Time: 0h 22m 10s\n"
     ]
    },
    {
     "name": "stderr",
     "output_type": "stream",
     "text": [
      "\n",
      "Train Epoch 109/150: 100%|██████████| 15/15 [00:22<00:00,  1.48s/it, loss_Bx=3.44, loss_By=3.43, loss_Bz=2.86, physics_loss=0.0646]\n",
      "Test Epoch 109/150: 100%|██████████| 3/3 [00:05<00:00,  1.87s/it]"
     ]
    },
    {
     "name": "stdout",
     "output_type": "stream",
     "text": [
      "Epoch: 109/150, Duration: 30.01s, Train Loss - Bx: 3.5797, By: 3.5549, Bz: 2.9251, Physics Loss: 0.0800, Test R2 - Bx: 0.9395, By: 0.9304, Bz: 0.9731\n",
      "Estimated Remaining Time: 0h 21m 37s\n"
     ]
    },
    {
     "name": "stderr",
     "output_type": "stream",
     "text": [
      "\n",
      "Train Epoch 110/150: 100%|██████████| 15/15 [00:22<00:00,  1.51s/it, loss_Bx=4.1, loss_By=3.93, loss_Bz=3.35, physics_loss=0.0928]\n",
      "Test Epoch 110/150: 100%|██████████| 3/3 [00:06<00:00,  2.08s/it]"
     ]
    },
    {
     "name": "stdout",
     "output_type": "stream",
     "text": [
      "Epoch: 110/150, Duration: 31.08s, Train Loss - Bx: 3.5974, By: 3.5756, Bz: 2.9495, Physics Loss: 0.0822, Test R2 - Bx: 0.9390, By: 0.9307, Bz: 0.9719\n",
      "Estimated Remaining Time: 0h 21m 6s\n",
      "Checkpoint saved at epoch 110: /mmfs1/project/bs644/jc2687/FNO/result/NLFFF_Cube2Step/step2/checkpoint_epoch_110.pt\n"
     ]
    },
    {
     "name": "stderr",
     "output_type": "stream",
     "text": [
      "\n"
     ]
    },
    {
     "name": "stdout",
     "output_type": "stream",
     "text": [
      "bx - Mean: 3.786114477488667e-11, Std: 1.0000005960464478\n",
      "by - Mean: -1.2807070681741806e-10, Std: 1.0000007152557373\n",
      "bz - Mean: 8.682650431968142e-11, Std: 1.0000019073486328\n"
     ]
    },
    {
     "name": "stderr",
     "output_type": "stream",
     "text": [
      "Train Epoch 111/150: 100%|██████████| 15/15 [00:14<00:00,  1.07it/s, loss_Bx=3.89, loss_By=4.06, loss_Bz=3.23, physics_loss=0.0919]\n",
      "Test Epoch 111/150: 100%|██████████| 3/3 [00:06<00:00,  2.10s/it]"
     ]
    },
    {
     "name": "stdout",
     "output_type": "stream",
     "text": [
      "Epoch: 111/150, Duration: 22.73s, Train Loss - Bx: 3.5873, By: 3.5687, Bz: 2.9400, Physics Loss: 0.0807, Test R2 - Bx: 0.9394, By: 0.9303, Bz: 0.9734\n",
      "Estimated Remaining Time: 0h 20m 31s\n"
     ]
    },
    {
     "name": "stderr",
     "output_type": "stream",
     "text": [
      "\n",
      "Train Epoch 112/150: 100%|██████████| 15/15 [00:13<00:00,  1.11it/s, loss_Bx=4.18, loss_By=4.2, loss_Bz=3.46, physics_loss=0.098]\n",
      "Test Epoch 112/150: 100%|██████████| 3/3 [00:06<00:00,  2.13s/it]"
     ]
    },
    {
     "name": "stdout",
     "output_type": "stream",
     "text": [
      "Epoch: 112/150, Duration: 22.34s, Train Loss - Bx: 3.5745, By: 3.5501, Bz: 2.9247, Physics Loss: 0.0795, Test R2 - Bx: 0.9393, By: 0.9300, Bz: 0.9736\n",
      "Estimated Remaining Time: 0h 19m 56s\n"
     ]
    },
    {
     "name": "stderr",
     "output_type": "stream",
     "text": [
      "\n",
      "Train Epoch 113/150: 100%|██████████| 15/15 [00:14<00:00,  1.06it/s, loss_Bx=3.69, loss_By=3.61, loss_Bz=2.97, physics_loss=0.0731]\n",
      "Test Epoch 113/150: 100%|██████████| 3/3 [00:06<00:00,  2.01s/it]"
     ]
    },
    {
     "name": "stdout",
     "output_type": "stream",
     "text": [
      "Epoch: 113/150, Duration: 23.06s, Train Loss - Bx: 3.5692, By: 3.5444, Bz: 2.9201, Physics Loss: 0.0803, Test R2 - Bx: 0.9399, By: 0.9313, Bz: 0.9730\n",
      "Estimated Remaining Time: 0h 19m 22s\n"
     ]
    },
    {
     "name": "stderr",
     "output_type": "stream",
     "text": [
      "\n",
      "Train Epoch 114/150: 100%|██████████| 15/15 [00:13<00:00,  1.08it/s, loss_Bx=3.7, loss_By=3.73, loss_Bz=3.18, physics_loss=0.0771]\n",
      "Test Epoch 114/150: 100%|██████████| 3/3 [00:06<00:00,  2.12s/it]"
     ]
    },
    {
     "name": "stdout",
     "output_type": "stream",
     "text": [
      "Epoch: 114/150, Duration: 22.67s, Train Loss - Bx: 3.5655, By: 3.5409, Bz: 2.9178, Physics Loss: 0.0806, Test R2 - Bx: 0.9398, By: 0.9311, Bz: 0.9730\n",
      "Estimated Remaining Time: 0h 18m 48s\n"
     ]
    },
    {
     "name": "stderr",
     "output_type": "stream",
     "text": [
      "\n",
      "Train Epoch 115/150: 100%|██████████| 15/15 [00:13<00:00,  1.08it/s, loss_Bx=3.95, loss_By=3.99, loss_Bz=3.27, physics_loss=0.0898]\n",
      "Test Epoch 115/150: 100%|██████████| 3/3 [00:07<00:00,  2.37s/it]"
     ]
    },
    {
     "name": "stdout",
     "output_type": "stream",
     "text": [
      "Epoch: 115/150, Duration: 23.52s, Train Loss - Bx: 3.5639, By: 3.5376, Bz: 2.9186, Physics Loss: 0.0809, Test R2 - Bx: 0.9395, By: 0.9307, Bz: 0.9726\n",
      "Estimated Remaining Time: 0h 18m 14s\n"
     ]
    },
    {
     "name": "stderr",
     "output_type": "stream",
     "text": [
      "\n",
      "Train Epoch 116/150: 100%|██████████| 15/15 [00:14<00:00,  1.05it/s, loss_Bx=4.04, loss_By=4.07, loss_Bz=3.26, physics_loss=0.0932]\n",
      "Test Epoch 116/150: 100%|██████████| 3/3 [00:06<00:00,  2.19s/it]"
     ]
    },
    {
     "name": "stdout",
     "output_type": "stream",
     "text": [
      "Epoch: 116/150, Duration: 23.61s, Train Loss - Bx: 3.5622, By: 3.5365, Bz: 2.9186, Physics Loss: 0.0804, Test R2 - Bx: 0.9391, By: 0.9306, Bz: 0.9730\n",
      "Estimated Remaining Time: 0h 17m 40s\n"
     ]
    },
    {
     "name": "stderr",
     "output_type": "stream",
     "text": [
      "\n",
      "Train Epoch 117/150: 100%|██████████| 15/15 [00:13<00:00,  1.08it/s, loss_Bx=3.96, loss_By=3.97, loss_Bz=3.15, physics_loss=0.0939]\n",
      "Test Epoch 117/150: 100%|██████████| 3/3 [00:06<00:00,  2.28s/it]"
     ]
    },
    {
     "name": "stdout",
     "output_type": "stream",
     "text": [
      "Epoch: 117/150, Duration: 23.10s, Train Loss - Bx: 3.5589, By: 3.5314, Bz: 2.9183, Physics Loss: 0.0807, Test R2 - Bx: 0.9396, By: 0.9307, Bz: 0.9733\n",
      "Estimated Remaining Time: 0h 17m 7s\n"
     ]
    },
    {
     "name": "stderr",
     "output_type": "stream",
     "text": [
      "\n",
      "Train Epoch 118/150: 100%|██████████| 15/15 [00:13<00:00,  1.09it/s, loss_Bx=3.55, loss_By=3.52, loss_Bz=2.88, physics_loss=0.0629]\n",
      "Test Epoch 118/150: 100%|██████████| 3/3 [00:06<00:00,  2.13s/it]"
     ]
    },
    {
     "name": "stdout",
     "output_type": "stream",
     "text": [
      "Epoch: 118/150, Duration: 22.65s, Train Loss - Bx: 3.5570, By: 3.5289, Bz: 2.9171, Physics Loss: 0.0795, Test R2 - Bx: 0.9392, By: 0.9312, Bz: 0.9724\n",
      "Estimated Remaining Time: 0h 16m 34s\n"
     ]
    },
    {
     "name": "stderr",
     "output_type": "stream",
     "text": [
      "\n",
      "Train Epoch 119/150: 100%|██████████| 15/15 [00:14<00:00,  1.03it/s, loss_Bx=3.92, loss_By=4.06, loss_Bz=3.25, physics_loss=0.0916]\n",
      "Test Epoch 119/150: 100%|██████████| 3/3 [00:05<00:00,  1.99s/it]"
     ]
    },
    {
     "name": "stdout",
     "output_type": "stream",
     "text": [
      "Epoch: 119/150, Duration: 23.23s, Train Loss - Bx: 3.5560, By: 3.5297, Bz: 2.9197, Physics Loss: 0.0817, Test R2 - Bx: 0.9394, By: 0.9297, Bz: 0.9731\n",
      "Estimated Remaining Time: 0h 16m 0s\n"
     ]
    },
    {
     "name": "stderr",
     "output_type": "stream",
     "text": [
      "\n",
      "Train Epoch 120/150: 100%|██████████| 15/15 [00:14<00:00,  1.05it/s, loss_Bx=3.45, loss_By=3.58, loss_Bz=2.86, physics_loss=0.0772]\n",
      "Test Epoch 120/150: 100%|██████████| 3/3 [00:06<00:00,  2.28s/it]\n"
     ]
    },
    {
     "name": "stdout",
     "output_type": "stream",
     "text": [
      "Epoch: 120/150, Duration: 23.48s, Train Loss - Bx: 3.5543, By: 3.5272, Bz: 2.9188, Physics Loss: 0.0811, Test R2 - Bx: 0.9395, By: 0.9312, Bz: 0.9724\n",
      "Estimated Remaining Time: 0h 15m 28s\n",
      "Checkpoint saved at epoch 120: /mmfs1/project/bs644/jc2687/FNO/result/NLFFF_Cube2Step/step2/checkpoint_epoch_120.pt\n",
      "bx - Mean: 2.6287517301826213e-11, Std: 1.0000009536743164\n",
      "by - Mean: 9.73803607196011e-11, Std: 1.0000032186508179\n",
      "bz - Mean: -4.538805095655185e-11, Std: 1.0\n"
     ]
    },
    {
     "name": "stderr",
     "output_type": "stream",
     "text": [
      "Train Epoch 121/150: 100%|██████████| 15/15 [00:14<00:00,  1.06it/s, loss_Bx=3.83, loss_By=3.54, loss_Bz=3.06, physics_loss=0.0776]\n",
      "Test Epoch 121/150: 100%|██████████| 3/3 [00:07<00:00,  2.41s/it]"
     ]
    },
    {
     "name": "stdout",
     "output_type": "stream",
     "text": [
      "Epoch: 121/150, Duration: 24.43s, Train Loss - Bx: 3.5563, By: 3.5305, Bz: 2.9238, Physics Loss: 0.0808, Test R2 - Bx: 0.9394, By: 0.9309, Bz: 0.9727\n",
      "Estimated Remaining Time: 0h 14m 55s\n"
     ]
    },
    {
     "name": "stderr",
     "output_type": "stream",
     "text": [
      "\n",
      "Train Epoch 122/150: 100%|██████████| 15/15 [00:13<00:00,  1.10it/s, loss_Bx=3.72, loss_By=3.84, loss_Bz=2.99, physics_loss=0.0807]\n",
      "Test Epoch 122/150: 100%|██████████| 3/3 [00:07<00:00,  2.46s/it]"
     ]
    },
    {
     "name": "stdout",
     "output_type": "stream",
     "text": [
      "Epoch: 122/150, Duration: 24.13s, Train Loss - Bx: 3.5521, By: 3.5240, Bz: 2.9186, Physics Loss: 0.0798, Test R2 - Bx: 0.9397, By: 0.9303, Bz: 0.9733\n",
      "Estimated Remaining Time: 0h 14m 23s\n"
     ]
    },
    {
     "name": "stderr",
     "output_type": "stream",
     "text": [
      "\n",
      "Train Epoch 123/150: 100%|██████████| 15/15 [00:14<00:00,  1.05it/s, loss_Bx=3.94, loss_By=3.97, loss_Bz=3.2, physics_loss=0.0925]\n",
      "Test Epoch 123/150: 100%|██████████| 3/3 [00:11<00:00,  3.97s/it]"
     ]
    },
    {
     "name": "stdout",
     "output_type": "stream",
     "text": [
      "Epoch: 123/150, Duration: 29.41s, Train Loss - Bx: 3.5472, By: 3.5185, Bz: 2.9172, Physics Loss: 0.0839, Test R2 - Bx: 0.9398, By: 0.9314, Bz: 0.9731\n",
      "Estimated Remaining Time: 0h 13m 51s\n"
     ]
    },
    {
     "name": "stderr",
     "output_type": "stream",
     "text": [
      "\n",
      "Train Epoch 124/150: 100%|██████████| 15/15 [00:14<00:00,  1.07it/s, loss_Bx=3.89, loss_By=3.77, loss_Bz=3.13, physics_loss=0.0805]\n",
      "Test Epoch 124/150: 100%|██████████| 3/3 [00:06<00:00,  2.08s/it]"
     ]
    },
    {
     "name": "stdout",
     "output_type": "stream",
     "text": [
      "Epoch: 124/150, Duration: 23.32s, Train Loss - Bx: 3.5459, By: 3.5180, Bz: 2.9182, Physics Loss: 0.0797, Test R2 - Bx: 0.9394, By: 0.9306, Bz: 0.9733\n",
      "Estimated Remaining Time: 0h 13m 19s\n"
     ]
    },
    {
     "name": "stderr",
     "output_type": "stream",
     "text": [
      "\n",
      "Train Epoch 125/150: 100%|██████████| 15/15 [00:14<00:00,  1.06it/s, loss_Bx=3.47, loss_By=3.44, loss_Bz=2.83, physics_loss=0.0672]\n",
      "Test Epoch 125/150: 100%|██████████| 3/3 [00:06<00:00,  2.22s/it]"
     ]
    },
    {
     "name": "stdout",
     "output_type": "stream",
     "text": [
      "Epoch: 125/150, Duration: 23.70s, Train Loss - Bx: 3.5639, By: 3.5370, Bz: 2.9429, Physics Loss: 0.0804, Test R2 - Bx: 0.9390, By: 0.9304, Bz: 0.9732\n",
      "Estimated Remaining Time: 0h 12m 47s\n"
     ]
    },
    {
     "name": "stderr",
     "output_type": "stream",
     "text": [
      "\n",
      "Train Epoch 126/150: 100%|██████████| 15/15 [00:14<00:00,  1.04it/s, loss_Bx=3.52, loss_By=3.5, loss_Bz=2.95, physics_loss=0.0732]\n",
      "Test Epoch 126/150: 100%|██████████| 3/3 [00:06<00:00,  2.26s/it]"
     ]
    },
    {
     "name": "stdout",
     "output_type": "stream",
     "text": [
      "Epoch: 126/150, Duration: 23.93s, Train Loss - Bx: 3.5494, By: 3.5217, Bz: 2.9241, Physics Loss: 0.0803, Test R2 - Bx: 0.9397, By: 0.9311, Bz: 0.9733\n",
      "Estimated Remaining Time: 0h 12m 15s\n"
     ]
    },
    {
     "name": "stderr",
     "output_type": "stream",
     "text": [
      "\n",
      "Train Epoch 127/150: 100%|██████████| 15/15 [00:14<00:00,  1.03it/s, loss_Bx=3.39, loss_By=3.4, loss_Bz=2.73, physics_loss=0.0608]\n",
      "Test Epoch 127/150: 100%|██████████| 3/3 [00:07<00:00,  2.41s/it]"
     ]
    },
    {
     "name": "stdout",
     "output_type": "stream",
     "text": [
      "Epoch: 127/150, Duration: 24.41s, Train Loss - Bx: 3.5417, By: 3.5150, Bz: 2.9155, Physics Loss: 0.0801, Test R2 - Bx: 0.9399, By: 0.9305, Bz: 0.9732\n",
      "Estimated Remaining Time: 0h 11m 43s\n"
     ]
    },
    {
     "name": "stderr",
     "output_type": "stream",
     "text": [
      "\n",
      "Train Epoch 128/150: 100%|██████████| 15/15 [00:14<00:00,  1.07it/s, loss_Bx=3.57, loss_By=3.41, loss_Bz=2.98, physics_loss=0.0705]\n",
      "Test Epoch 128/150: 100%|██████████| 3/3 [00:07<00:00,  2.51s/it]"
     ]
    },
    {
     "name": "stdout",
     "output_type": "stream",
     "text": [
      "Epoch: 128/150, Duration: 24.74s, Train Loss - Bx: 3.5402, By: 3.5090, Bz: 2.9129, Physics Loss: 0.0804, Test R2 - Bx: 0.9399, By: 0.9312, Bz: 0.9734\n",
      "Estimated Remaining Time: 0h 11m 12s\n"
     ]
    },
    {
     "name": "stderr",
     "output_type": "stream",
     "text": [
      "\n",
      "Train Epoch 129/150: 100%|██████████| 15/15 [00:14<00:00,  1.03it/s, loss_Bx=3.53, loss_By=3.6, loss_Bz=2.95, physics_loss=0.0769]\n",
      "Test Epoch 129/150: 100%|██████████| 3/3 [00:06<00:00,  2.33s/it]"
     ]
    },
    {
     "name": "stdout",
     "output_type": "stream",
     "text": [
      "Epoch: 129/150, Duration: 24.81s, Train Loss - Bx: 3.5375, By: 3.5088, Bz: 2.9147, Physics Loss: 0.0804, Test R2 - Bx: 0.9399, By: 0.9304, Bz: 0.9734\n",
      "Estimated Remaining Time: 0h 10m 40s\n"
     ]
    },
    {
     "name": "stderr",
     "output_type": "stream",
     "text": [
      "\n",
      "Train Epoch 130/150: 100%|██████████| 15/15 [00:14<00:00,  1.04it/s, loss_Bx=3.74, loss_By=3.69, loss_Bz=3.12, physics_loss=0.0775]\n",
      "Test Epoch 130/150: 100%|██████████| 3/3 [00:07<00:00,  2.51s/it]"
     ]
    },
    {
     "name": "stdout",
     "output_type": "stream",
     "text": [
      "Epoch: 130/150, Duration: 25.22s, Train Loss - Bx: 3.5382, By: 3.5080, Bz: 2.9157, Physics Loss: 0.0807, Test R2 - Bx: 0.9400, By: 0.9307, Bz: 0.9733\n",
      "Estimated Remaining Time: 0h 10m 9s\n",
      "Checkpoint saved at epoch 130: /mmfs1/project/bs644/jc2687/FNO/result/NLFFF_Cube2Step/step2/checkpoint_epoch_130.pt\n"
     ]
    },
    {
     "name": "stderr",
     "output_type": "stream",
     "text": [
      "\n"
     ]
    },
    {
     "name": "stdout",
     "output_type": "stream",
     "text": [
      "bx - Mean: -3.023711836469545e-11, Std: 1.0000019073486328\n",
      "by - Mean: 9.602065670355486e-11, Std: 0.999999463558197\n",
      "bz - Mean: -8.672938062170843e-11, Std: 0.9999996423721313\n"
     ]
    },
    {
     "name": "stderr",
     "output_type": "stream",
     "text": [
      "Train Epoch 131/150: 100%|██████████| 15/15 [00:14<00:00,  1.00it/s, loss_Bx=3.6, loss_By=3.7, loss_Bz=3.06, physics_loss=0.0783]\n",
      "Test Epoch 131/150: 100%|██████████| 3/3 [00:08<00:00,  2.69s/it]"
     ]
    },
    {
     "name": "stdout",
     "output_type": "stream",
     "text": [
      "Epoch: 131/150, Duration: 26.16s, Train Loss - Bx: 3.5351, By: 3.5051, Bz: 2.9139, Physics Loss: 0.0799, Test R2 - Bx: 0.9402, By: 0.9312, Bz: 0.9729\n",
      "Estimated Remaining Time: 0h 9m 38s\n"
     ]
    },
    {
     "name": "stderr",
     "output_type": "stream",
     "text": [
      "\n",
      "Train Epoch 132/150: 100%|██████████| 15/15 [00:14<00:00,  1.02it/s, loss_Bx=3.73, loss_By=3.65, loss_Bz=2.97, physics_loss=0.0789]\n",
      "Test Epoch 132/150: 100%|██████████| 3/3 [00:07<00:00,  2.58s/it]"
     ]
    },
    {
     "name": "stdout",
     "output_type": "stream",
     "text": [
      "Epoch: 132/150, Duration: 26.49s, Train Loss - Bx: 3.5356, By: 3.5040, Bz: 2.9137, Physics Loss: 0.0798, Test R2 - Bx: 0.9398, By: 0.9310, Bz: 0.9732\n",
      "Estimated Remaining Time: 0h 9m 7s\n"
     ]
    },
    {
     "name": "stderr",
     "output_type": "stream",
     "text": [
      "\n",
      "Train Epoch 133/150: 100%|██████████| 15/15 [00:14<00:00,  1.04it/s, loss_Bx=3.7, loss_By=3.75, loss_Bz=3.04, physics_loss=0.084]\n",
      "Test Epoch 133/150: 100%|██████████| 3/3 [00:07<00:00,  2.63s/it]"
     ]
    },
    {
     "name": "stdout",
     "output_type": "stream",
     "text": [
      "Epoch: 133/150, Duration: 25.43s, Train Loss - Bx: 3.5339, By: 3.5050, Bz: 2.9136, Physics Loss: 0.0799, Test R2 - Bx: 0.9401, By: 0.9311, Bz: 0.9733\n",
      "Estimated Remaining Time: 0h 8m 36s\n"
     ]
    },
    {
     "name": "stderr",
     "output_type": "stream",
     "text": [
      "\n",
      "Train Epoch 134/150: 100%|██████████| 15/15 [00:14<00:00,  1.07it/s, loss_Bx=3.86, loss_By=3.67, loss_Bz=3.11, physics_loss=0.0886]\n",
      "Test Epoch 134/150: 100%|██████████| 3/3 [00:07<00:00,  2.40s/it]"
     ]
    },
    {
     "name": "stdout",
     "output_type": "stream",
     "text": [
      "Epoch: 134/150, Duration: 24.39s, Train Loss - Bx: 3.5327, By: 3.5021, Bz: 2.9149, Physics Loss: 0.0799, Test R2 - Bx: 0.9392, By: 0.9305, Bz: 0.9731\n",
      "Estimated Remaining Time: 0h 8m 5s\n"
     ]
    },
    {
     "name": "stderr",
     "output_type": "stream",
     "text": [
      "\n",
      "Train Epoch 135/150: 100%|██████████| 15/15 [00:13<00:00,  1.08it/s, loss_Bx=3.56, loss_By=3.61, loss_Bz=2.99, physics_loss=0.081]\n",
      "Test Epoch 135/150: 100%|██████████| 3/3 [00:07<00:00,  2.47s/it]"
     ]
    },
    {
     "name": "stdout",
     "output_type": "stream",
     "text": [
      "Epoch: 135/150, Duration: 24.33s, Train Loss - Bx: 3.5299, By: 3.4999, Bz: 2.9115, Physics Loss: 0.0800, Test R2 - Bx: 0.9401, By: 0.9312, Bz: 0.9733\n",
      "Estimated Remaining Time: 0h 7m 34s\n"
     ]
    },
    {
     "name": "stderr",
     "output_type": "stream",
     "text": [
      "\n",
      "Train Epoch 136/150: 100%|██████████| 15/15 [00:14<00:00,  1.03it/s, loss_Bx=3.47, loss_By=3.56, loss_Bz=2.9, physics_loss=0.0676]\n",
      "Test Epoch 136/150: 100%|██████████| 3/3 [00:07<00:00,  2.45s/it]"
     ]
    },
    {
     "name": "stdout",
     "output_type": "stream",
     "text": [
      "Epoch: 136/150, Duration: 25.26s, Train Loss - Bx: 3.5283, By: 3.4966, Bz: 2.9106, Physics Loss: 0.0810, Test R2 - Bx: 0.9400, By: 0.9311, Bz: 0.9735\n",
      "Estimated Remaining Time: 0h 7m 3s\n"
     ]
    },
    {
     "name": "stderr",
     "output_type": "stream",
     "text": [
      "\n",
      "Train Epoch 137/150: 100%|██████████| 15/15 [00:14<00:00,  1.05it/s, loss_Bx=3.61, loss_By=3.57, loss_Bz=2.96, physics_loss=0.0783]\n",
      "Test Epoch 137/150: 100%|██████████| 3/3 [00:07<00:00,  2.35s/it]"
     ]
    },
    {
     "name": "stdout",
     "output_type": "stream",
     "text": [
      "Epoch: 137/150, Duration: 24.37s, Train Loss - Bx: 3.5275, By: 3.4973, Bz: 2.9129, Physics Loss: 0.0821, Test R2 - Bx: 0.9398, By: 0.9310, Bz: 0.9725\n",
      "Estimated Remaining Time: 0h 6m 32s\n"
     ]
    },
    {
     "name": "stderr",
     "output_type": "stream",
     "text": [
      "\n",
      "Train Epoch 138/150: 100%|██████████| 15/15 [00:14<00:00,  1.03it/s, loss_Bx=3.81, loss_By=3.58, loss_Bz=3.07, physics_loss=0.0808]\n",
      "Test Epoch 138/150: 100%|██████████| 3/3 [00:07<00:00,  2.65s/it]"
     ]
    },
    {
     "name": "stdout",
     "output_type": "stream",
     "text": [
      "Epoch: 138/150, Duration: 25.49s, Train Loss - Bx: 3.5302, By: 3.5009, Bz: 2.9202, Physics Loss: 0.0816, Test R2 - Bx: 0.9396, By: 0.9307, Bz: 0.9733\n",
      "Estimated Remaining Time: 0h 6m 1s\n"
     ]
    },
    {
     "name": "stderr",
     "output_type": "stream",
     "text": [
      "\n",
      "Train Epoch 139/150: 100%|██████████| 15/15 [00:14<00:00,  1.04it/s, loss_Bx=3.95, loss_By=3.85, loss_Bz=3.21, physics_loss=0.0888]\n",
      "Test Epoch 139/150: 100%|██████████| 3/3 [00:07<00:00,  2.45s/it]"
     ]
    },
    {
     "name": "stdout",
     "output_type": "stream",
     "text": [
      "Epoch: 139/150, Duration: 25.79s, Train Loss - Bx: 3.5254, By: 3.4933, Bz: 2.9117, Physics Loss: 0.0810, Test R2 - Bx: 0.9398, By: 0.9310, Bz: 0.9736\n",
      "Estimated Remaining Time: 0h 5m 31s\n"
     ]
    },
    {
     "name": "stderr",
     "output_type": "stream",
     "text": [
      "\n",
      "Train Epoch 140/150: 100%|██████████| 15/15 [00:14<00:00,  1.06it/s, loss_Bx=3.72, loss_By=3.59, loss_Bz=3.06, physics_loss=0.0846]\n",
      "Test Epoch 140/150: 100%|██████████| 3/3 [00:06<00:00,  2.30s/it]"
     ]
    },
    {
     "name": "stdout",
     "output_type": "stream",
     "text": [
      "Epoch: 140/150, Duration: 24.06s, Train Loss - Bx: 3.5222, By: 3.4913, Bz: 2.9083, Physics Loss: 0.0806, Test R2 - Bx: 0.9401, By: 0.9307, Bz: 0.9736\n",
      "Estimated Remaining Time: 0h 5m 0s\n",
      "Checkpoint saved at epoch 140: /mmfs1/project/bs644/jc2687/FNO/result/NLFFF_Cube2Step/step2/checkpoint_epoch_140.pt\n"
     ]
    },
    {
     "name": "stderr",
     "output_type": "stream",
     "text": [
      "\n"
     ]
    },
    {
     "name": "stdout",
     "output_type": "stream",
     "text": [
      "bx - Mean: 1.7190481677031855e-11, Std: 1.0000032186508179\n",
      "by - Mean: -1.099413893257406e-10, Std: 0.9999971389770508\n",
      "bz - Mean: 8.188140443454728e-11, Std: 0.9999998807907104\n"
     ]
    },
    {
     "name": "stderr",
     "output_type": "stream",
     "text": [
      "Train Epoch 141/150: 100%|██████████| 15/15 [00:14<00:00,  1.04it/s, loss_Bx=3.61, loss_By=3.62, loss_Bz=3.01, physics_loss=0.0791]\n",
      "Test Epoch 141/150: 100%|██████████| 3/3 [00:07<00:00,  2.40s/it]"
     ]
    },
    {
     "name": "stdout",
     "output_type": "stream",
     "text": [
      "Epoch: 141/150, Duration: 24.69s, Train Loss - Bx: 3.5225, By: 3.4906, Bz: 2.9104, Physics Loss: 0.0795, Test R2 - Bx: 0.9401, By: 0.9315, Bz: 0.9733\n",
      "Estimated Remaining Time: 0h 4m 30s\n"
     ]
    },
    {
     "name": "stderr",
     "output_type": "stream",
     "text": [
      "\n",
      "Train Epoch 142/150: 100%|██████████| 15/15 [00:14<00:00,  1.03it/s, loss_Bx=3.4, loss_By=3.48, loss_Bz=2.71, physics_loss=0.0655]\n",
      "Test Epoch 142/150: 100%|██████████| 3/3 [00:07<00:00,  2.57s/it]"
     ]
    },
    {
     "name": "stdout",
     "output_type": "stream",
     "text": [
      "Epoch: 142/150, Duration: 25.30s, Train Loss - Bx: 3.5231, By: 3.4948, Bz: 2.9136, Physics Loss: 0.0796, Test R2 - Bx: 0.9398, By: 0.9313, Bz: 0.9729\n",
      "Estimated Remaining Time: 0h 4m 0s\n"
     ]
    },
    {
     "name": "stderr",
     "output_type": "stream",
     "text": [
      "\n",
      "Train Epoch 143/150: 100%|██████████| 15/15 [00:15<00:00,  1.01s/it, loss_Bx=3.53, loss_By=3.55, loss_Bz=2.9, physics_loss=0.0692]\n",
      "Test Epoch 143/150: 100%|██████████| 3/3 [00:07<00:00,  2.66s/it]"
     ]
    },
    {
     "name": "stdout",
     "output_type": "stream",
     "text": [
      "Epoch: 143/150, Duration: 25.85s, Train Loss - Bx: 3.5237, By: 3.4946, Bz: 2.9126, Physics Loss: 0.0821, Test R2 - Bx: 0.9394, By: 0.9313, Bz: 0.9728\n",
      "Estimated Remaining Time: 0h 3m 29s\n"
     ]
    },
    {
     "name": "stderr",
     "output_type": "stream",
     "text": [
      "\n",
      "Train Epoch 144/150: 100%|██████████| 15/15 [00:15<00:00,  1.01s/it, loss_Bx=3.55, loss_By=3.72, loss_Bz=3.04, physics_loss=0.0822]\n",
      "Test Epoch 144/150: 100%|██████████| 3/3 [00:07<00:00,  2.66s/it]"
     ]
    },
    {
     "name": "stdout",
     "output_type": "stream",
     "text": [
      "Epoch: 144/150, Duration: 26.86s, Train Loss - Bx: 3.5206, By: 3.4939, Bz: 2.9113, Physics Loss: 0.0791, Test R2 - Bx: 0.9399, By: 0.9311, Bz: 0.9731\n",
      "Estimated Remaining Time: 0h 2m 59s\n"
     ]
    },
    {
     "name": "stderr",
     "output_type": "stream",
     "text": [
      "\n",
      "Train Epoch 145/150: 100%|██████████| 15/15 [00:14<00:00,  1.02it/s, loss_Bx=3.65, loss_By=3.74, loss_Bz=3.03, physics_loss=0.0849]\n",
      "Test Epoch 145/150: 100%|██████████| 3/3 [00:07<00:00,  2.41s/it]"
     ]
    },
    {
     "name": "stdout",
     "output_type": "stream",
     "text": [
      "Epoch: 145/150, Duration: 24.73s, Train Loss - Bx: 3.5183, By: 3.4875, Bz: 2.9098, Physics Loss: 0.0799, Test R2 - Bx: 0.9399, By: 0.9315, Bz: 0.9732\n",
      "Estimated Remaining Time: 0h 2m 29s\n"
     ]
    },
    {
     "name": "stderr",
     "output_type": "stream",
     "text": [
      "\n",
      "Train Epoch 146/150: 100%|██████████| 15/15 [00:14<00:00,  1.05it/s, loss_Bx=3.9, loss_By=3.85, loss_Bz=3.11, physics_loss=0.085]\n",
      "Test Epoch 146/150: 100%|██████████| 3/3 [00:07<00:00,  2.48s/it]"
     ]
    },
    {
     "name": "stdout",
     "output_type": "stream",
     "text": [
      "Epoch: 146/150, Duration: 24.45s, Train Loss - Bx: 3.5165, By: 3.4847, Bz: 2.9062, Physics Loss: 0.0802, Test R2 - Bx: 0.9400, By: 0.9312, Bz: 0.9736\n",
      "Estimated Remaining Time: 0h 1m 59s\n"
     ]
    },
    {
     "name": "stderr",
     "output_type": "stream",
     "text": [
      "\n",
      "Train Epoch 147/150: 100%|██████████| 15/15 [00:14<00:00,  1.01it/s, loss_Bx=4.01, loss_By=3.99, loss_Bz=3.44, physics_loss=0.0949]\n",
      "Test Epoch 147/150: 100%|██████████| 3/3 [00:07<00:00,  2.46s/it]"
     ]
    },
    {
     "name": "stdout",
     "output_type": "stream",
     "text": [
      "Epoch: 147/150, Duration: 25.01s, Train Loss - Bx: 3.5163, By: 3.4846, Bz: 2.9061, Physics Loss: 0.0794, Test R2 - Bx: 0.9401, By: 0.9313, Bz: 0.9734\n",
      "Estimated Remaining Time: 0h 1m 29s\n"
     ]
    },
    {
     "name": "stderr",
     "output_type": "stream",
     "text": [
      "\n",
      "Train Epoch 148/150: 100%|██████████| 15/15 [00:14<00:00,  1.04it/s, loss_Bx=3.8, loss_By=3.84, loss_Bz=3.11, physics_loss=0.089]\n",
      "Test Epoch 148/150: 100%|██████████| 3/3 [00:06<00:00,  2.29s/it]"
     ]
    },
    {
     "name": "stdout",
     "output_type": "stream",
     "text": [
      "Epoch: 148/150, Duration: 24.30s, Train Loss - Bx: 3.5154, By: 3.4826, Bz: 2.9050, Physics Loss: 0.0795, Test R2 - Bx: 0.9401, By: 0.9313, Bz: 0.9735\n",
      "Estimated Remaining Time: 0h 0m 59s\n"
     ]
    },
    {
     "name": "stderr",
     "output_type": "stream",
     "text": [
      "\n",
      "Train Epoch 149/150: 100%|██████████| 15/15 [00:14<00:00,  1.03it/s, loss_Bx=3.49, loss_By=3.42, loss_Bz=2.83, physics_loss=0.0709]\n",
      "Test Epoch 149/150: 100%|██████████| 3/3 [00:07<00:00,  2.48s/it]"
     ]
    },
    {
     "name": "stdout",
     "output_type": "stream",
     "text": [
      "Epoch: 149/150, Duration: 24.78s, Train Loss - Bx: 3.5137, By: 3.4818, Bz: 2.9053, Physics Loss: 0.0800, Test R2 - Bx: 0.9401, By: 0.9313, Bz: 0.9735\n",
      "Estimated Remaining Time: 0h 0m 29s\n"
     ]
    },
    {
     "name": "stderr",
     "output_type": "stream",
     "text": [
      "\n",
      "Train Epoch 150/150: 100%|██████████| 15/15 [00:14<00:00,  1.03it/s, loss_Bx=3.6, loss_By=3.53, loss_Bz=3.05, physics_loss=0.0701]\n",
      "Test Epoch 150/150: 100%|██████████| 3/3 [00:07<00:00,  2.44s/it]"
     ]
    },
    {
     "name": "stdout",
     "output_type": "stream",
     "text": [
      "Epoch: 150/150, Duration: 24.90s, Train Loss - Bx: 3.5129, By: 3.4798, Bz: 2.9067, Physics Loss: 0.0807, Test R2 - Bx: 0.9401, By: 0.9315, Bz: 0.9733\n",
      "Estimated Remaining Time: 0h 0m 0s\n",
      "Checkpoint saved at epoch 150: /mmfs1/project/bs644/jc2687/FNO/result/NLFFF_Cube2Step/step2/checkpoint_epoch_150.pt\n"
     ]
    },
    {
     "name": "stderr",
     "output_type": "stream",
     "text": [
      "\n"
     ]
    },
    {
     "name": "stdout",
     "output_type": "stream",
     "text": [
      "bx - Mean: 1.1266078348004527e-11, Std: 1.0000020265579224\n",
      "by - Mean: 9.530843475547002e-11, Std: 0.9999985694885254\n",
      "bz - Mean: -7.410360519655157e-11, Std: 1.0000026226043701\n"
     ]
    },
    {
     "data": {
      "image/png": "[encoded data removed]",
      "text/plain": [
       "<Figure size 1000x500 with 1 Axes>"
      ]
     },
     "metadata": {},
     "output_type": "display_data"
    },
    {
     "data": {
      "image/png": "[encoded data removed]",
      "text/plain": [
       "<Figure size 1000x500 with 1 Axes>"
      ]
     },
     "metadata": {},
     "output_type": "display_data"
    }
   ],
   "source": [
    "import os\n",
    "import time\n",
    "import csv\n",
    "import torch.nn.functional as F\n",
    "from sklearn.metrics import r2_score, mean_squared_error, mean_absolute_error\n",
    "from skimage.metrics import peak_signal_noise_ratio as psnr, structural_similarity as ssim\n",
    "from tqdm import tqdm\n",
    "import numpy as np\n",
    "import matplotlib.pyplot as plt\n",
    "\n",
    "num_epochs = 150\n",
    "print_frequency = 40\n",
    "save_checkpoint_start_epoch = 20\n",
    "save_checkpoint_interval = 10\n",
    "checkpoint_dir = \"result/NLFFF_Cube2Step/step2\"\n",
    "results_file = os.path.join(checkpoint_dir, \"result.csv\")\n",
    "\n",
    "physics_loss_fn = PhysicsInformedLoss(weight=0.35, alpha=1, beta=1, gamma=1, delta = 0)\n",
    "single_physics_loss_DIV_fn = singlePhysicsInformedDivergence_Loss(weight=1, alpha=1.0, beta=1, gamma=1)\n",
    "single_physics_loss_FF_fn = singlePhysicsInformedForce_Free_Loss(weight=1, alpha=1.0, beta=1, gamma=1)\n",
    "\n",
    "with open(results_file, mode='w', newline='') as file:\n",
    "    writer = csv.writer(file)\n",
    "    writer.writerow(['epoch', 'comp', 'r2', 'relative_error', 'mse', 'mae', 'psnr', 'ssim'])\n",
    "\n",
    "train_losses_Bx = []\n",
    "train_losses_By = []\n",
    "train_losses_Bz = []\n",
    "test_losses_Bx = []\n",
    "test_losses_By = []\n",
    "test_losses_Bz = []\n",
    "physics_losses_epoch = []\n",
    "epoch_durations = []\n",
    "\n",
    "#z_df = pd.read_csv(z_csv_path)\n",
    "#z_values = z_df['z'].values\n",
    "#assert len(z_values) == 25\n",
    "\n",
    "for epoch in range(num_epochs):\n",
    "    start_time = time.time()\n",
    "\n",
    "    model.train()\n",
    "    epoch_loss_Bx = 0.0\n",
    "    epoch_loss_By = 0.0\n",
    "    epoch_loss_Bz = 0.0\n",
    "    epoch_physics_loss = 0.0\n",
    "    \n",
    "    \n",
    "    time_step_DIV_losses_accum = None\n",
    "    time_step_FF_losses_accum = None\n",
    "\n",
    "    train_loader_tqdm = tqdm(enumerate(train_loader), total=len(train_loader), desc=f'Train Epoch {epoch+1}/{num_epochs}')\n",
    "    for batch_idx, (batch_i, sample) in enumerate(train_loader_tqdm):\n",
    "        optimizer.zero_grad()\n",
    "        data, target = sample['input'].to(device0), sample['target'].to(device0)\n",
    "        lengths = sample['lengths'].to(device0)  \n",
    "\n",
    "        output = newmodel(data, lengths)\n",
    "\n",
    "        #print(output.shape)\n",
    "\n",
    "        loss_Bx = h1loss(output[:, :, 0, :, :], target[:, :, 0, :, :]).mean()\n",
    "        loss_By = h1loss(output[:, :, 1, :, :], target[:, :, 1, :, :]).mean()\n",
    "        loss_Bz = h1loss(output[:, :, 2, :, :], target[:, :, 2, :, :]).mean()\n",
    "\n",
    "        physics_loss = physics_loss_fn(output, target)\n",
    "\n",
    "        num_time_steps = output.size(1)\n",
    "\n",
    "        if time_step_DIV_losses_accum is None:\n",
    "            time_step_DIV_losses_accum = np.zeros(num_time_steps, dtype=np.float32)\n",
    "\n",
    "        if time_step_FF_losses_accum is None:\n",
    "            time_step_FF_losses_accum = np.zeros(num_time_steps, dtype=np.float32)\n",
    "\n",
    "        for i in range(num_time_steps):\n",
    "            DIV_losses_step = single_physics_loss_DIV_fn(output[:, i, :, :, :], target[:, i, :, :, :])\n",
    "            DIV_losses_step_scalar = DIV_losses_step.mean().item()\n",
    "\n",
    "            time_step_DIV_losses_accum[i] += DIV_losses_step_scalar\n",
    "\n",
    "        for i in range(num_time_steps):\n",
    "            FF_losses_step = single_physics_loss_FF_fn(output[:, i, :, :, :], target[:, i, :, :, :])\n",
    "            FF_losses_step_scalar = FF_losses_step.mean().item()\n",
    "\n",
    "            time_step_FF_losses_accum[i] += FF_losses_step_scalar        \n",
    "\n",
    "        total_loss = loss_Bx + loss_By + loss_Bz + physics_loss\n",
    "        total_loss.backward()\n",
    "        optimizer.step()\n",
    "\n",
    "        epoch_loss_Bx += loss_Bx.item()\n",
    "        epoch_loss_By += loss_By.item()\n",
    "        epoch_loss_Bz += loss_Bz.item()\n",
    "        epoch_physics_loss += physics_loss.item()\n",
    "\n",
    "        if batch_idx % print_frequency == 0:\n",
    "            train_loader_tqdm.set_postfix(\n",
    "                loss_Bx=loss_Bx.item(),\n",
    "                loss_By=loss_By.item(),\n",
    "                loss_Bz=loss_Bz.item(),\n",
    "                physics_loss=physics_loss.item()\n",
    "            )\n",
    "\n",
    "    avg_loss_Bx = epoch_loss_Bx / len(train_loader)\n",
    "    avg_loss_By = epoch_loss_By / len(train_loader)\n",
    "    avg_loss_Bz = epoch_loss_Bz / len(train_loader)\n",
    "    avg_physics_loss = epoch_physics_loss / len(train_loader)\n",
    "\n",
    "    train_losses_Bx.append(avg_loss_Bx)\n",
    "    train_losses_By.append(avg_loss_By)\n",
    "    train_losses_Bz.append(avg_loss_Bz)\n",
    "    physics_losses_epoch.append(avg_physics_loss)\n",
    "\n",
    "    all_E_pred = []\n",
    "    all_E_true = []\n",
    "\n",
    "    model.eval()\n",
    "    epoch_r2_Bx = []\n",
    "    epoch_r2_By = []\n",
    "    epoch_r2_Bz = []\n",
    "    test_loader_tqdm = tqdm(test_loader, total=len(test_loader), desc=f'Test Epoch {epoch+1}/{num_epochs}')\n",
    "    with torch.no_grad():\n",
    "        for sample in test_loader_tqdm:\n",
    "            x = sample['input'].to(device0)\n",
    "            lengths = sample['lengths'].to(device0)  \n",
    "            target = sample['target'].cpu().numpy()\n",
    "            output = newmodel(x, lengths).cpu().numpy()\n",
    "\n",
    "            for true_sample, pred_sample in zip(target, output):\n",
    "                r2_Bx = r2_score(true_sample[:, 0].flatten(), pred_sample[:, 0].flatten())\n",
    "                r2_By = r2_score(true_sample[:, 1].flatten(), pred_sample[:, 1].flatten())\n",
    "                r2_Bz = r2_score(true_sample[:, 2].flatten(), pred_sample[:, 2].flatten())\n",
    "\n",
    "                epoch_r2_Bx.append(r2_Bx)\n",
    "                epoch_r2_By.append(r2_By)\n",
    "                epoch_r2_Bz.append(r2_Bz)\n",
    "\n",
    "\n",
    "    avg_r2_Bx = np.mean(epoch_r2_Bx)\n",
    "    avg_r2_By = np.mean(epoch_r2_By)\n",
    "    avg_r2_Bz = np.mean(epoch_r2_Bz)\n",
    "\n",
    "    test_losses_Bx.append(avg_r2_Bx)\n",
    "    test_losses_By.append(avg_r2_By)\n",
    "    test_losses_Bz.append(avg_r2_Bz)\n",
    "\n",
    "    end_time = time.time()\n",
    "    epoch_duration = end_time - start_time\n",
    "    epoch_durations.append(epoch_duration)\n",
    "\n",
    "    avg_train_loss_combined = (avg_loss_Bx + avg_loss_By + avg_loss_Bz + avg_physics_loss) / 3\n",
    "    scheduler.step(avg_train_loss_combined)\n",
    "\n",
    "    avg_epoch_duration = np.mean(epoch_durations)\n",
    "    remaining_epochs = num_epochs - (epoch + 1)\n",
    "    remaining_time = remaining_epochs * avg_epoch_duration\n",
    "    hours, rem = divmod(remaining_time, 3600)\n",
    "    minutes, seconds = divmod(rem, 60)\n",
    "\n",
    "    print(f'Epoch: {epoch+1}/{num_epochs}, Duration: {epoch_duration:.2f}s, '\n",
    "          f'Train Loss - Bx: {avg_loss_Bx:.4f}, By: {avg_loss_By:.4f}, Bz: {avg_loss_Bz:.4f}, Physics Loss: {avg_physics_loss:.4f}, '\n",
    "          f'Test R2 - Bx: {avg_r2_Bx:.4f}, By: {avg_r2_By:.4f}, Bz: {avg_r2_Bz:.4f}')\n",
    "\n",
    "    print(f'Estimated Remaining Time: {int(hours)}h {int(minutes)}m {int(seconds)}s')\n",
    "\n",
    "    if (epoch + 1) >= save_checkpoint_start_epoch and (epoch + 1) % save_checkpoint_interval == 0:\n",
    "        checkpoint_path = os.path.join(checkpoint_dir, f\"checkpoint_epoch_{epoch+1}.pt\")\n",
    "        torch.save(newmodel.state_dict(), checkpoint_path)\n",
    "        print(f\"Checkpoint saved at epoch {epoch+1}: {checkpoint_path}\")\n",
    "\n",
    "        min_val = float('inf')\n",
    "        max_val = float('-inf')\n",
    "\n",
    "        for sample in test_loader:\n",
    "            y_true_batch = sample['target'].numpy()\n",
    "            batch_min = y_true_batch.min()\n",
    "            batch_max = y_true_batch.max()\n",
    "            min_val = min(min_val, batch_min)\n",
    "            max_val = max(max_val, batch_max)\n",
    "\n",
    "        data_range = max_val - min_val\n",
    "\n",
    "        sample_r2_scores = {'bx': [], 'by': [], 'bz': []}\n",
    "        sample_relative_errors = {'bx': [], 'by': [], 'bz': []}\n",
    "        sample_mses = {'bx': [], 'by': [], 'bz': []}\n",
    "        sample_maes = {'bx': [], 'by': [], 'bz': []}\n",
    "        sample_psnr_values = {'bx': [], 'by': [], 'bz': []}\n",
    "        sample_ssim_values = {'bx': [], 'by': [], 'bz': []}\n",
    "        mean_std = {comp: {'mean': None, 'std': None} for comp in ['bx', 'by', 'bz']}\n",
    "        true_values_by_component = {comp: [] for comp in ['bx', 'by', 'bz']}\n",
    "\n",
    "        for sample in train_loader: \n",
    "            y_true_batch = sample['target'].cpu().numpy()\n",
    "            for true_sample in y_true_batch:\n",
    "                for i, comp in enumerate(['bx', 'by', 'bz']):\n",
    "                    true_sample_component = true_sample[:, i]\n",
    "                    true_sample_flat = true_sample_component.flatten()\n",
    "                    true_values_by_component[comp].extend(true_sample_flat)\n",
    "\n",
    "        for comp in ['bx', 'by', 'bz']:\n",
    "            true_values = np.array(true_values_by_component[comp])\n",
    "            mean_std[comp]['mean'] = np.mean(true_values)\n",
    "            mean_std[comp]['std'] = np.std(true_values)\n",
    "\n",
    "        for comp in mean_std:\n",
    "            print(f\"{comp} - Mean: {mean_std[comp]['mean']}, Std: {mean_std[comp]['std']}\")\n",
    "\n",
    "        model.eval()\n",
    "        with torch.no_grad():\n",
    "            for sample in test_loader:\n",
    "                x = sample['input'].to(device0)\n",
    "                lengths = sample['lengths'].to(device0)  \n",
    "                y_true_batch = sample['target'].cpu().numpy()\n",
    "                y_pred_batch = newmodel(x, lengths).cpu().numpy()\n",
    "\n",
    "                for true_sample, pred_sample in zip(y_true_batch, y_pred_batch):\n",
    "                    for i, comp in enumerate(['bx', 'by', 'bz']):\n",
    "                        true_sample_component = true_sample[:, i]\n",
    "                        pred_sample_component = pred_sample[:, i]\n",
    "\n",
    "                        true_sample_flat = true_sample_component.flatten()\n",
    "                        pred_sample_flat = pred_sample_component.flatten()\n",
    "\n",
    "                        r2 = r2_score(true_sample_flat, pred_sample_flat)\n",
    "                        sample_r2_scores[comp].append(r2)\n",
    "\n",
    "                        mean = mean_std[comp]['mean']\n",
    "                        std = mean_std[comp]['std']\n",
    "                        true_sample_original = true_sample_flat * std + mean\n",
    "                        pred_sample_original = pred_sample_flat * std + mean\n",
    "\n",
    "                        absolute_error = np.linalg.norm(true_sample_original - pred_sample_original, 1)\n",
    "\n",
    "                        relative_error = absolute_error / np.linalg.norm(true_sample_original, 1)\n",
    "                        sample_relative_errors[comp].append(relative_error)\n",
    "\n",
    "                        mse = mean_squared_error(true_sample_flat, pred_sample_flat)\n",
    "                        sample_mses[comp].append(mse)\n",
    "\n",
    "                        mae = mean_absolute_error(true_sample_flat, pred_sample_flat)\n",
    "                        sample_maes[comp].append(mae)\n",
    "\n",
    "                        psnr_value = psnr(true_sample_component, pred_sample_component, data_range=data_range)\n",
    "                        sample_psnr_values[comp].append(psnr_value)\n",
    "\n",
    "                        ssim_value = ssim(true_sample_component, pred_sample_component, data_range=data_range)\n",
    "                        sample_ssim_values[comp].append(ssim_value)\n",
    "\n",
    "        with open(results_file, mode='a', newline='') as file:\n",
    "            writer = csv.writer(file)\n",
    "            for comp in ['bx', 'by', 'bz']:\n",
    "                writer.writerow([epoch+1, comp,\n",
    "                                 np.mean(sample_r2_scores[comp]),\n",
    "                                 np.mean(sample_relative_errors[comp]),\n",
    "                                 np.mean(sample_mses[comp]),\n",
    "                                 np.mean(sample_maes[comp]),\n",
    "                                 np.mean(sample_psnr_values[comp]),\n",
    "                                 np.mean(sample_ssim_values[comp])])\n",
    "\n",
    "np.save(os.path.join(checkpoint_dir, 'train_losses_Bx.npy'), np.array(train_losses_Bx))\n",
    "np.save(os.path.join(checkpoint_dir, 'train_losses_By.npy'), np.array(train_losses_By))\n",
    "np.save(os.path.join(checkpoint_dir, 'train_losses_Bz.npy'), np.array(train_losses_Bz))\n",
    "np.save(os.path.join(checkpoint_dir, 'test_losses_Bx.npy'), np.array(test_losses_Bx))\n",
    "np.save(os.path.join(checkpoint_dir, 'test_losses_By.npy'), np.array(test_losses_By))\n",
    "np.save(os.path.join(checkpoint_dir, 'test_losses_Bz.npy'), np.array(test_losses_Bz))\n",
    "\n",
    "plt.figure(figsize=(10, 5))\n",
    "plt.plot(train_losses_Bx, label='Training Loss Bx', color='red')\n",
    "plt.plot(train_losses_By, label='Training Loss By', color='green')\n",
    "plt.plot(train_losses_Bz, label='Training Loss Bz', color='blue')\n",
    "plt.xlabel('Epoch')\n",
    "plt.ylabel('Loss')\n",
    "plt.title('Training Losses for Bx, By, Bz')\n",
    "plt.legend()\n",
    "plt.show()\n",
    "\n",
    "plt.figure(figsize=(10, 5))\n",
    "plt.plot(test_losses_Bx, label='Testing R2 Bx', color='red')\n",
    "plt.plot(test_losses_By, label='Testing R2 By', color='green')\n",
    "plt.plot(test_losses_Bz, label='Testing R2 Bz', color='blue')\n",
    "plt.xlabel('Epoch')\n",
    "plt.ylabel('R2 Score')\n",
    "plt.title('Testing R2 Scores for Bx, By, Bz')\n",
    "plt.legend()\n",
    "plt.show()\n"
   ]
  },
  {
   "cell_type": "code",
   "execution_count": 12,
   "id": "dbf689ce-8f08-41c8-9f0d-200caa033083",
   "metadata": {
    "scrolled": true
   },
   "outputs": [
    {
     "name": "stderr",
     "output_type": "stream",
     "text": [
      "/tmp/ipykernel_2217498/1754979559.py:1: FutureWarning: You are using `torch.load` with `weights_only=False` (the current default value), which uses the default pickle module implicitly. It is possible to construct malicious pickle data which will execute arbitrary code during unpickling (See https://github.com/pytorch/pytorch/blob/main/SECURITY.md#untrusted-models for more details). In a future release, the default value for `weights_only` will be flipped to `True`. This limits the functions that could be executed during unpickling. Arbitrary objects will no longer be allowed to be loaded via this mode unless they are explicitly allowlisted by the user via `torch.serialization.add_safe_globals`. We recommend you start setting `weights_only=True` for any use case where you don't have full control of the loaded file. Please open an issue on GitHub for any issues related to this experimental feature.\n",
      "  newmodel.load_state_dict(torch.load(\"result/NLFFF_Cube2Step/step2/checkpoint_epoch_140.pt\"))\n"
     ]
    },
    {
     "data": {
      "text/plain": [
       "CustomFNOnew(\n",
       "  (DilatedConvYWithECA): DilatedConvYWithECA(\n",
       "    (conv): Conv3d(25, 25, kernel_size=(1, 3, 1), stride=(1, 1, 1), padding=(0, 2, 0), dilation=(1, 2, 1), bias=False)\n",
       "    (activation): ReLU()\n",
       "    (eca): ECA3DLayer(\n",
       "      (avg_pool): AdaptiveAvgPool3d(output_size=1)\n",
       "      (conv): Conv1d(1, 1, kernel_size=(3,), stride=(1,), padding=(1,), bias=False)\n",
       "      (sigmoid): Sigmoid()\n",
       "    )\n",
       "  )\n",
       "  (lifting1): MLP(\n",
       "    (fcs): ModuleList(\n",
       "      (0): Conv3d(3, 25, kernel_size=(1, 1, 1), stride=(1, 1, 1))\n",
       "    )\n",
       "  )\n",
       "  (lifting_y): MLP(\n",
       "    (fcs): ModuleList(\n",
       "      (0): Conv1d(3, 256, kernel_size=(1,), stride=(1,))\n",
       "      (1): Conv1d(256, 25, kernel_size=(1,), stride=(1,))\n",
       "    )\n",
       "  )\n",
       "  (fno_blocks): FNOBlocks(\n",
       "    (convs): SpectralConv(\n",
       "      (weight): ModuleList(\n",
       "        (0-5): 6 x ComplexTuckerTensor(shape=(25, 25, 32, 32, 17), rank=(18, 18, 23, 23, 12))\n",
       "      )\n",
       "    )\n",
       "    (fno_skips): ModuleList(\n",
       "      (0-5): 6 x Conv3d(25, 25, kernel_size=(1, 1, 1), stride=(1, 1, 1), bias=False)\n",
       "    )\n",
       "    (mlp): ModuleList(\n",
       "      (0-5): 6 x MLP(\n",
       "        (fcs): ModuleList(\n",
       "          (0): Conv3d(25, 12, kernel_size=(1, 1, 1), stride=(1, 1, 1))\n",
       "          (1): Conv3d(12, 25, kernel_size=(1, 1, 1), stride=(1, 1, 1))\n",
       "        )\n",
       "      )\n",
       "    )\n",
       "    (mlp_skips): ModuleList(\n",
       "      (0-5): 6 x SoftGating()\n",
       "    )\n",
       "  )\n",
       "  (projection): MLP(\n",
       "    (fcs): ModuleList(\n",
       "      (0): Conv3d(25, 256, kernel_size=(1, 1, 1), stride=(1, 1, 1))\n",
       "      (1): Conv3d(256, 25, kernel_size=(1, 1, 1), stride=(1, 1, 1))\n",
       "    )\n",
       "  )\n",
       ")"
      ]
     },
     "execution_count": 12,
     "metadata": {},
     "output_type": "execute_result"
    }
   ],
   "source": [
    "newmodel.load_state_dict(torch.load(\"result/NLFFF_Cube2Step/step2/checkpoint_epoch_140.pt\"))\n",
    "newmodel.eval() "
   ]
  },
  {
   "cell_type": "code",
   "execution_count": 15,
   "id": "f0b44dd9-0c60-4817-b81f-28fef4d0ce41",
   "metadata": {
    "scrolled": true
   },
   "outputs": [
    {
     "name": "stdout",
     "output_type": "stream",
     "text": [
      "ERROR! Session/line number was not unique in database. History logging moved to new session 498\n",
      "[✓] sample 0 | Bx: GT & Pred videos saved.\n",
      "[✓] sample 0 | By: GT & Pred videos saved.\n",
      "[✓] sample 0 | Bz: GT & Pred videos saved.\n",
      "[✓] sample 1 | Bx: GT & Pred videos saved.\n",
      "[✓] sample 1 | By: GT & Pred videos saved.\n",
      "[✓] sample 1 | Bz: GT & Pred videos saved.\n",
      "[✓] sample 2 | Bx: GT & Pred videos saved.\n",
      "[✓] sample 2 | By: GT & Pred videos saved.\n",
      "[✓] sample 2 | Bz: GT & Pred videos saved.\n",
      "[✓] sample 3 | Bx: GT & Pred videos saved.\n",
      "[✓] sample 3 | By: GT & Pred videos saved.\n",
      "[✓] sample 3 | Bz: GT & Pred videos saved.\n",
      "[✓] sample 4 | Bx: GT & Pred videos saved.\n",
      "[✓] sample 4 | By: GT & Pred videos saved.\n",
      "[✓] sample 4 | Bz: GT & Pred videos saved.\n",
      "[✓] sample 5 | Bx: GT & Pred videos saved.\n",
      "[✓] sample 5 | By: GT & Pred videos saved.\n",
      "[✓] sample 5 | Bz: GT & Pred videos saved.\n",
      "[✓] sample 6 | Bx: GT & Pred videos saved.\n",
      "[✓] sample 6 | By: GT & Pred videos saved.\n",
      "[✓] sample 6 | Bz: GT & Pred videos saved.\n",
      "[✓] sample 7 | Bx: GT & Pred videos saved.\n",
      "[✓] sample 7 | By: GT & Pred videos saved.\n",
      "[✓] sample 7 | Bz: GT & Pred videos saved.\n",
      "[✓] sample 8 | Bx: GT & Pred videos saved.\n",
      "[✓] sample 8 | By: GT & Pred videos saved.\n",
      "[✓] sample 8 | Bz: GT & Pred videos saved.\n",
      "[✓] sample 9 | Bx: GT & Pred videos saved.\n",
      "[✓] sample 9 | By: GT & Pred videos saved.\n",
      "[✓] sample 9 | Bz: GT & Pred videos saved.\n",
      "[✓] sample 10 | Bx: GT & Pred videos saved.\n",
      "[✓] sample 10 | By: GT & Pred videos saved.\n",
      "[✓] sample 10 | Bz: GT & Pred videos saved.\n",
      "[✓] sample 11 | Bx: GT & Pred videos saved.\n",
      "[✓] sample 11 | By: GT & Pred videos saved.\n",
      "[✓] sample 11 | Bz: GT & Pred videos saved.\n",
      "[✓] sample 12 | Bx: GT & Pred videos saved.\n",
      "[✓] sample 12 | By: GT & Pred videos saved.\n",
      "[✓] sample 12 | Bz: GT & Pred videos saved.\n",
      "[✓] sample 13 | Bx: GT & Pred videos saved.\n",
      "[✓] sample 13 | By: GT & Pred videos saved.\n",
      "[✓] sample 13 | Bz: GT & Pred videos saved.\n",
      "[✓] sample 14 | Bx: GT & Pred videos saved.\n",
      "[✓] sample 14 | By: GT & Pred videos saved.\n",
      "[✓] sample 14 | Bz: GT & Pred videos saved.\n",
      "[✓] sample 15 | Bx: GT & Pred videos saved.\n",
      "[✓] sample 15 | By: GT & Pred videos saved.\n",
      "[✓] sample 15 | Bz: GT & Pred videos saved.\n",
      "[✓] sample 16 | Bx: GT & Pred videos saved.\n",
      "[✓] sample 16 | By: GT & Pred videos saved.\n",
      "[✓] sample 16 | Bz: GT & Pred videos saved.\n",
      "[✓] sample 17 | Bx: GT & Pred videos saved.\n",
      "[✓] sample 17 | By: GT & Pred videos saved.\n",
      "[✓] sample 17 | Bz: GT & Pred videos saved.\n",
      "[✓] sample 18 | Bx: GT & Pred videos saved.\n",
      "[✓] sample 18 | By: GT & Pred videos saved.\n",
      "[✓] sample 18 | Bz: GT & Pred videos saved.\n",
      "[✓] sample 19 | Bx: GT & Pred videos saved.\n",
      "[✓] sample 19 | By: GT & Pred videos saved.\n",
      "[✓] sample 19 | Bz: GT & Pred videos saved.\n",
      "[✓] sample 20 | Bx: GT & Pred videos saved.\n",
      "[✓] sample 20 | By: GT & Pred videos saved.\n",
      "[✓] sample 20 | Bz: GT & Pred videos saved.\n",
      "[✓] sample 21 | Bx: GT & Pred videos saved.\n",
      "[✓] sample 21 | By: GT & Pred videos saved.\n",
      "[✓] sample 21 | Bz: GT & Pred videos saved.\n",
      "[✓] sample 22 | Bx: GT & Pred videos saved.\n",
      "[✓] sample 22 | By: GT & Pred videos saved.\n",
      "[✓] sample 22 | Bz: GT & Pred videos saved.\n",
      "[✓] sample 23 | Bx: GT & Pred videos saved.\n",
      "[✓] sample 23 | By: GT & Pred videos saved.\n",
      "[✓] sample 23 | Bz: GT & Pred videos saved.\n",
      "[✓] sample 24 | Bx: GT & Pred videos saved.\n",
      "[✓] sample 24 | By: GT & Pred videos saved.\n",
      "[✓] sample 24 | Bz: GT & Pred videos saved.\n",
      "[✓] sample 25 | Bx: GT & Pred videos saved.\n",
      "[✓] sample 25 | By: GT & Pred videos saved.\n",
      "[✓] sample 25 | Bz: GT & Pred videos saved.\n",
      "[✓] sample 26 | Bx: GT & Pred videos saved.\n",
      "[✓] sample 26 | By: GT & Pred videos saved.\n",
      "[✓] sample 26 | Bz: GT & Pred videos saved.\n",
      "✅ All videos have been generated.\n"
     ]
    }
   ],
   "source": [
    "import os\n",
    "import cv2\n",
    "import numpy as np\n",
    "import matplotlib.pyplot as plt\n",
    "import pandas as pd\n",
    "import torch\n",
    "\n",
    "# ============== 0) 工具函数：Figure → RGB ndarray ==============\n",
    "def fig_to_rgb_array(fig):\n",
    "    \"\"\"\n",
    "    把 Matplotlib Figure 转成 (H, W, 3) 的 uint8 RGB 数组\n",
    "    兼容所有后端：先 draw() 再用 buffer_rgba()\n",
    "    \"\"\"\n",
    "    fig.canvas.draw()                               # 必须先绘制\n",
    "    w, h = fig.canvas.get_width_height()\n",
    "    buf = np.frombuffer(fig.canvas.buffer_rgba(), dtype=np.uint8)\n",
    "    img = buf.reshape(h, w, 4)[..., :3]             # 去掉 Alpha 通道\n",
    "    return img\n",
    "\n",
    "# ============== 1) 读取 CSV，获取和时间步对齐的 z 值 ==============\n",
    "z_csv_path = \"NLFFF_data/height_12443.csv\"          # 替换为你的 CSV 路径\n",
    "z_df = pd.read_csv(z_csv_path)\n",
    "z_values = z_df[\"z\"].values                         # shape: (time_length,)\n",
    "\n",
    "# ============== 2) 遍历测试集并生成视频 ============================\n",
    "output_dir = \"result/NLFFF_Cube2Step/step2Test/visualizations\"\n",
    "os.makedirs(output_dir, exist_ok=True)\n",
    "\n",
    "fps         = 3\n",
    "frame_size  = (1024, 512)                           # (W, H) for VideoWriter\n",
    "channel_ids = [\"Bx\", \"By\", \"Bz\"]\n",
    "\n",
    "device0 = torch.device(\"cuda:0\" if torch.cuda.is_available() else \"cpu\")\n",
    "\n",
    "for sample_idx, sample in enumerate(test_dataset):\n",
    "\n",
    "    # 2.1 取出单个样本\n",
    "    input_data = sample[\"input\"]                    # (T, 3, H, W)\n",
    "    true_data  = sample[\"target\"]                   # (T, 3, H, W)\n",
    "    lengths    = sample[\"lengths\"]\n",
    "\n",
    "    # 2.2 推理\n",
    "    with torch.no_grad():\n",
    "        pred_batch = newmodel(\n",
    "            input_data.unsqueeze(0).to(device0),    # (1, T, 3, H, W)\n",
    "            lengths.to(device0)\n",
    "        )\n",
    "    pred_data = pred_batch.cpu().numpy()[0]         # (T, 3, H, W)\n",
    "\n",
    "    time_length = pred_data.shape[0]\n",
    "\n",
    "    # 2.3 为每个通道分别写 GT / Pred 视频\n",
    "    for ch_idx, ch_name in enumerate(channel_ids):\n",
    "\n",
    "        # ---------- 打开 VideoWriter ----------\n",
    "        gt_path   = os.path.join(output_dir, f\"gt_{ch_name}_sample_{sample_idx}.mp4\")\n",
    "        pred_path = os.path.join(output_dir, f\"pred_{ch_name}_sample_{sample_idx}.mp4\")\n",
    "\n",
    "        gt_writer   = cv2.VideoWriter(gt_path,   cv2.VideoWriter_fourcc(*\"mp4v\"), fps, frame_size)\n",
    "        pred_writer = cv2.VideoWriter(pred_path, cv2.VideoWriter_fourcc(*\"mp4v\"), fps, frame_size)\n",
    "\n",
    "        # ---------- 逐时间步写帧 ----------\n",
    "        for t in range(time_length):\n",
    "\n",
    "            z_val = z_values[t]\n",
    "\n",
    "            true_frame = true_data[t, ch_idx]       # (H, W)\n",
    "            pred_frame = pred_data[t, ch_idx]       # (H, W)\n",
    "\n",
    "            vmin, vmax = true_frame.min(), true_frame.max()\n",
    "            vmin = min(vmin, pred_frame.min())\n",
    "            vmax = max(vmax, pred_frame.max())\n",
    "\n",
    "            # ===== Ground Truth =====\n",
    "            fig_gt, ax_gt = plt.subplots(figsize=(14, 7))\n",
    "            plt.subplots_adjust(top=0.95, bottom=0.05, left=0.05, right=0.95)\n",
    "            ax_gt.imshow(true_frame, cmap=\"RdBu\", origin=\"lower\", vmin=vmin, vmax=vmax)\n",
    "            ax_gt.axis(\"off\")\n",
    "            fig_gt.suptitle(f\"{z_val} Mm\", fontsize=14)\n",
    "\n",
    "            gt_img = fig_to_rgb_array(fig_gt)\n",
    "            gt_img = cv2.resize(gt_img, frame_size)\n",
    "            gt_writer.write(cv2.cvtColor(gt_img, cv2.COLOR_RGB2BGR))\n",
    "            plt.close(fig_gt)\n",
    "\n",
    "            # ===== Prediction =====\n",
    "            fig_pred, ax_pred = plt.subplots(figsize=(14, 7))\n",
    "            plt.subplots_adjust(top=0.95, bottom=0.05, left=0.05, right=0.95)\n",
    "            ax_pred.imshow(pred_frame, cmap=\"RdBu\", origin=\"lower\", vmin=vmin, vmax=vmax)\n",
    "            ax_pred.axis(\"off\")\n",
    "\n",
    "            pred_img = fig_to_rgb_array(fig_pred)\n",
    "            pred_img = cv2.resize(pred_img, frame_size)\n",
    "            pred_writer.write(cv2.cvtColor(pred_img, cv2.COLOR_RGB2BGR))\n",
    "            plt.close(fig_pred)\n",
    "\n",
    "        # ---------- 收尾 ----------\n",
    "        gt_writer.release()\n",
    "        pred_writer.release()\n",
    "        print(f\"[✓] sample {sample_idx} | {ch_name}: GT & Pred videos saved.\")\n",
    "\n",
    "print(\"✅ All videos have been generated.\")\n"
   ]
  },
  {
   "cell_type": "code",
   "execution_count": 11,
   "id": "11c9c9b8-ac38-4357-a929-28a0c1e90997",
   "metadata": {
    "scrolled": true
   },
   "outputs": [
    {
     "name": "stdout",
     "output_type": "stream",
     "text": [
      "torch.Size([25, 3, 257, 513])\n",
      "[Sample 0 - Bx] R2=0.9441, MSE=5.595e-02, MAE=1.597e-01, RE=0.2359, PSNR=39.52, SSIM=0.8284\n",
      "[Sample 0 - By] R2=0.9447, MSE=5.530e-02, MAE=1.665e-01, RE=0.2583, PSNR=39.35, SSIM=0.8231\n",
      "[Sample 0 - Bz] R2=0.9792, MSE=2.081e-02, MAE=1.029e-01, RE=0.1892, PSNR=45.23, SSIM=0.9024\n",
      "torch.Size([25, 3, 257, 513])\n",
      "[Sample 1 - Bx] R2=0.9539, MSE=4.613e-02, MAE=1.383e-01, RE=0.1828, PSNR=37.98, SSIM=0.8977\n",
      "[Sample 1 - By] R2=0.9397, MSE=6.026e-02, MAE=1.583e-01, RE=0.2508, PSNR=35.09, SSIM=0.8115\n",
      "[Sample 1 - Bz] R2=0.9832, MSE=1.678e-02, MAE=8.591e-02, RE=0.1582, PSNR=43.77, SSIM=0.9136\n",
      "torch.Size([25, 3, 257, 513])\n",
      "[Sample 2 - Bx] R2=0.9695, MSE=3.051e-02, MAE=1.107e-01, RE=0.1824, PSNR=40.05, SSIM=0.8945\n",
      "[Sample 2 - By] R2=0.9519, MSE=4.808e-02, MAE=1.407e-01, RE=0.2692, PSNR=39.35, SSIM=0.8011\n",
      "[Sample 2 - Bz] R2=0.9859, MSE=1.414e-02, MAE=8.101e-02, RE=0.1838, PSNR=45.96, SSIM=0.9021\n",
      "torch.Size([25, 3, 257, 513])\n",
      "[Sample 3 - Bx] R2=0.8668, MSE=1.332e-01, MAE=2.523e-01, RE=0.3347, PSNR=40.26, SSIM=0.7591\n",
      "[Sample 3 - By] R2=0.8866, MSE=1.134e-01, MAE=2.425e-01, RE=0.3336, PSNR=40.74, SSIM=0.7750\n",
      "[Sample 3 - Bz] R2=0.9390, MSE=6.103e-02, MAE=1.831e-01, RE=0.2721, PSNR=43.00, SSIM=0.8231\n",
      "torch.Size([25, 3, 257, 513])\n",
      "[Sample 4 - Bx] R2=0.9094, MSE=9.063e-02, MAE=2.019e-01, RE=0.2956, PSNR=38.07, SSIM=0.8232\n",
      "[Sample 4 - By] R2=0.9486, MSE=5.143e-02, MAE=1.553e-01, RE=0.2683, PSNR=39.81, SSIM=0.8339\n",
      "[Sample 4 - Bz] R2=0.9710, MSE=2.898e-02, MAE=1.149e-01, RE=0.2150, PSNR=43.36, SSIM=0.8784\n",
      "torch.Size([25, 3, 257, 513])\n",
      "[Sample 5 - Bx] R2=0.9232, MSE=7.678e-02, MAE=1.806e-01, RE=0.3739, PSNR=38.53, SSIM=0.7551\n",
      "[Sample 5 - By] R2=0.9167, MSE=8.328e-02, MAE=1.977e-01, RE=0.3988, PSNR=37.37, SSIM=0.6910\n",
      "[Sample 5 - Bz] R2=0.9648, MSE=3.518e-02, MAE=1.259e-01, RE=0.3049, PSNR=42.72, SSIM=0.8249\n",
      "torch.Size([25, 3, 257, 513])\n",
      "[Sample 6 - Bx] R2=0.9441, MSE=5.595e-02, MAE=1.599e-01, RE=0.3184, PSNR=38.63, SSIM=0.7492\n",
      "[Sample 6 - By] R2=0.9322, MSE=6.778e-02, MAE=1.680e-01, RE=0.3328, PSNR=38.61, SSIM=0.7441\n",
      "[Sample 6 - Bz] R2=0.9779, MSE=2.206e-02, MAE=1.031e-01, RE=0.2571, PSNR=44.28, SSIM=0.8548\n",
      "torch.Size([25, 3, 257, 513])\n",
      "[Sample 7 - Bx] R2=0.9305, MSE=6.948e-02, MAE=1.775e-01, RE=0.2284, PSNR=40.15, SSIM=0.8652\n",
      "[Sample 7 - By] R2=0.9172, MSE=8.277e-02, MAE=2.028e-01, RE=0.3017, PSNR=39.97, SSIM=0.7719\n",
      "[Sample 7 - Bz] R2=0.9755, MSE=2.455e-02, MAE=1.124e-01, RE=0.1755, PSNR=44.78, SSIM=0.8919\n",
      "torch.Size([25, 3, 257, 513])\n",
      "[Sample 8 - Bx] R2=0.9091, MSE=9.088e-02, MAE=1.977e-01, RE=0.2983, PSNR=37.90, SSIM=0.7986\n",
      "[Sample 8 - By] R2=0.8579, MSE=1.421e-01, MAE=2.590e-01, RE=0.3979, PSNR=36.51, SSIM=0.7507\n",
      "[Sample 8 - Bz] R2=0.9369, MSE=6.311e-02, MAE=1.568e-01, RE=0.2983, PSNR=41.61, SSIM=0.8458\n",
      "torch.Size([25, 3, 257, 513])\n",
      "[Sample 9 - Bx] R2=0.9253, MSE=7.466e-02, MAE=1.867e-01, RE=0.2722, PSNR=42.15, SSIM=0.8389\n",
      "[Sample 9 - By] R2=0.9262, MSE=7.379e-02, MAE=1.890e-01, RE=0.2999, PSNR=40.61, SSIM=0.8115\n",
      "[Sample 9 - Bz] R2=0.9766, MSE=2.337e-02, MAE=1.065e-01, RE=0.1868, PSNR=46.03, SSIM=0.9033\n",
      "torch.Size([25, 3, 257, 513])\n",
      "[Sample 10 - Bx] R2=0.9179, MSE=8.211e-02, MAE=1.967e-01, RE=0.3270, PSNR=38.34, SSIM=0.7426\n",
      "[Sample 10 - By] R2=0.9103, MSE=8.967e-02, MAE=2.065e-01, RE=0.4184, PSNR=39.12, SSIM=0.7397\n",
      "[Sample 10 - Bz] R2=0.9605, MSE=3.954e-02, MAE=1.424e-01, RE=0.2796, PSNR=41.34, SSIM=0.7999\n",
      "torch.Size([25, 3, 257, 513])\n",
      "[Sample 11 - Bx] R2=0.9594, MSE=4.062e-02, MAE=1.344e-01, RE=0.2130, PSNR=40.90, SSIM=0.8830\n",
      "[Sample 11 - By] R2=0.9515, MSE=4.853e-02, MAE=1.491e-01, RE=0.2890, PSNR=39.65, SSIM=0.8003\n",
      "[Sample 11 - Bz] R2=0.9831, MSE=1.687e-02, MAE=8.745e-02, RE=0.1780, PSNR=44.79, SSIM=0.8962\n",
      "torch.Size([25, 3, 257, 513])\n",
      "[Sample 12 - Bx] R2=0.9541, MSE=4.589e-02, MAE=1.326e-01, RE=0.1766, PSNR=38.69, SSIM=0.8767\n",
      "[Sample 12 - By] R2=0.9286, MSE=7.137e-02, MAE=1.669e-01, RE=0.2508, PSNR=38.66, SSIM=0.8258\n",
      "[Sample 12 - Bz] R2=0.9784, MSE=2.158e-02, MAE=1.019e-01, RE=0.1658, PSNR=43.96, SSIM=0.9048\n",
      "torch.Size([25, 3, 257, 513])\n",
      "[Sample 13 - Bx] R2=0.8918, MSE=1.082e-01, MAE=2.357e-01, RE=0.3440, PSNR=38.29, SSIM=0.7979\n",
      "[Sample 13 - By] R2=0.8493, MSE=1.507e-01, MAE=2.616e-01, RE=0.3869, PSNR=36.65, SSIM=0.7286\n",
      "[Sample 13 - Bz] R2=0.9668, MSE=3.324e-02, MAE=1.249e-01, RE=0.1881, PSNR=44.06, SSIM=0.9009\n",
      "torch.Size([25, 3, 257, 513])\n",
      "[Sample 14 - Bx] R2=0.9408, MSE=5.923e-02, MAE=1.562e-01, RE=0.2268, PSNR=38.51, SSIM=0.8565\n",
      "[Sample 14 - By] R2=0.9446, MSE=5.537e-02, MAE=1.611e-01, RE=0.2651, PSNR=39.63, SSIM=0.8095\n",
      "[Sample 14 - Bz] R2=0.9733, MSE=2.668e-02, MAE=1.100e-01, RE=0.1946, PSNR=43.42, SSIM=0.8896\n",
      "torch.Size([25, 3, 257, 513])\n",
      "[Sample 15 - Bx] R2=0.9589, MSE=4.113e-02, MAE=1.349e-01, RE=0.2019, PSNR=39.53, SSIM=0.8804\n",
      "[Sample 15 - By] R2=0.9248, MSE=7.522e-02, MAE=1.786e-01, RE=0.3251, PSNR=36.27, SSIM=0.7703\n",
      "[Sample 15 - Bz] R2=0.9818, MSE=1.818e-02, MAE=9.047e-02, RE=0.2048, PSNR=43.75, SSIM=0.8668\n",
      "torch.Size([25, 3, 257, 513])\n",
      "[Sample 16 - Bx] R2=0.9399, MSE=6.012e-02, MAE=1.720e-01, RE=0.2503, PSNR=34.58, SSIM=0.8186\n",
      "[Sample 16 - By] R2=0.9328, MSE=6.716e-02, MAE=1.734e-01, RE=0.3298, PSNR=34.78, SSIM=0.7292\n",
      "[Sample 16 - Bz] R2=0.9772, MSE=2.281e-02, MAE=1.071e-01, RE=0.2153, PSNR=40.07, SSIM=0.8174\n",
      "torch.Size([25, 3, 257, 513])\n",
      "[Sample 17 - Bx] R2=0.9350, MSE=6.502e-02, MAE=1.579e-01, RE=0.2681, PSNR=38.66, SSIM=0.8144\n",
      "[Sample 17 - By] R2=0.9050, MSE=9.500e-02, MAE=2.007e-01, RE=0.3289, PSNR=37.29, SSIM=0.7464\n",
      "[Sample 17 - Bz] R2=0.9683, MSE=3.173e-02, MAE=1.161e-01, RE=0.2331, PSNR=41.82, SSIM=0.8586\n",
      "torch.Size([25, 3, 257, 513])\n",
      "[Sample 18 - Bx] R2=0.9302, MSE=6.980e-02, MAE=1.762e-01, RE=0.2841, PSNR=40.54, SSIM=0.8350\n",
      "[Sample 18 - By] R2=0.9305, MSE=6.951e-02, MAE=1.875e-01, RE=0.3118, PSNR=41.06, SSIM=0.8081\n",
      "[Sample 18 - Bz] R2=0.9718, MSE=2.817e-02, MAE=1.207e-01, RE=0.2097, PSNR=42.84, SSIM=0.8907\n",
      "torch.Size([25, 3, 257, 513])\n",
      "[Sample 19 - Bx] R2=0.9435, MSE=5.645e-02, MAE=1.537e-01, RE=0.2127, PSNR=41.47, SSIM=0.8583\n",
      "[Sample 19 - By] R2=0.9478, MSE=5.221e-02, MAE=1.600e-01, RE=0.2601, PSNR=40.76, SSIM=0.8097\n",
      "[Sample 19 - Bz] R2=0.9798, MSE=2.023e-02, MAE=9.917e-02, RE=0.1818, PSNR=44.61, SSIM=0.8690\n",
      "torch.Size([25, 3, 257, 513])\n",
      "[Sample 20 - Bx] R2=0.9056, MSE=9.444e-02, MAE=2.118e-01, RE=0.3079, PSNR=37.00, SSIM=0.7870\n",
      "[Sample 20 - By] R2=0.8936, MSE=1.064e-01, MAE=2.305e-01, RE=0.3574, PSNR=37.88, SSIM=0.7665\n",
      "[Sample 20 - Bz] R2=0.9564, MSE=4.360e-02, MAE=1.477e-01, RE=0.2506, PSNR=40.72, SSIM=0.8183\n",
      "torch.Size([25, 3, 257, 513])\n",
      "[Sample 21 - Bx] R2=0.9417, MSE=5.833e-02, MAE=1.600e-01, RE=0.2265, PSNR=40.76, SSIM=0.8511\n",
      "[Sample 21 - By] R2=0.9546, MSE=4.537e-02, MAE=1.366e-01, RE=0.2380, PSNR=42.03, SSIM=0.8670\n",
      "[Sample 21 - Bz] R2=0.9766, MSE=2.342e-02, MAE=1.013e-01, RE=0.1850, PSNR=45.15, SSIM=0.9037\n",
      "torch.Size([25, 3, 257, 513])\n",
      "[Sample 22 - Bx] R2=0.9532, MSE=4.680e-02, MAE=1.446e-01, RE=0.2041, PSNR=38.70, SSIM=0.8701\n",
      "[Sample 22 - By] R2=0.9364, MSE=6.359e-02, MAE=1.666e-01, RE=0.2433, PSNR=37.37, SSIM=0.8168\n",
      "[Sample 22 - Bz] R2=0.9781, MSE=2.190e-02, MAE=9.939e-02, RE=0.1624, PSNR=43.07, SSIM=0.9009\n",
      "torch.Size([25, 3, 257, 513])\n",
      "[Sample 23 - Bx] R2=0.9475, MSE=5.245e-02, MAE=1.613e-01, RE=0.2519, PSNR=38.31, SSIM=0.8429\n",
      "[Sample 23 - By] R2=0.9349, MSE=6.505e-02, MAE=1.618e-01, RE=0.2850, PSNR=38.29, SSIM=0.7856\n",
      "[Sample 23 - Bz] R2=0.9826, MSE=1.744e-02, MAE=8.992e-02, RE=0.1754, PSNR=44.00, SSIM=0.8961\n",
      "torch.Size([25, 3, 257, 513])\n",
      "[Sample 24 - Bx] R2=0.9466, MSE=5.341e-02, MAE=1.569e-01, RE=0.2746, PSNR=39.39, SSIM=0.8290\n",
      "[Sample 24 - By] R2=0.9182, MSE=8.180e-02, MAE=1.884e-01, RE=0.3285, PSNR=37.46, SSIM=0.7964\n",
      "[Sample 24 - Bz] R2=0.9725, MSE=2.750e-02, MAE=1.078e-01, RE=0.2187, PSNR=43.22, SSIM=0.8959\n",
      "torch.Size([25, 3, 257, 513])\n",
      "[Sample 25 - Bx] R2=0.9786, MSE=2.145e-02, MAE=9.688e-02, RE=0.1379, PSNR=42.21, SSIM=0.9284\n",
      "[Sample 25 - By] R2=0.9692, MSE=3.077e-02, MAE=1.213e-01, RE=0.2432, PSNR=40.16, SSIM=0.8384\n",
      "[Sample 25 - Bz] R2=0.9885, MSE=1.153e-02, MAE=7.493e-02, RE=0.1531, PSNR=44.80, SSIM=0.9188\n",
      "torch.Size([25, 3, 257, 513])\n",
      "[Sample 26 - Bx] R2=0.9520, MSE=4.804e-02, MAE=1.564e-01, RE=0.2593, PSNR=37.18, SSIM=0.8331\n",
      "[Sample 26 - By] R2=0.9440, MSE=5.599e-02, MAE=1.560e-01, RE=0.2954, PSNR=36.66, SSIM=0.7693\n",
      "[Sample 26 - Bz] R2=0.9800, MSE=2.002e-02, MAE=9.678e-02, RE=0.2227, PSNR=42.71, SSIM=0.8832\n",
      "\n",
      "✓ 所有指标已保存到 result/NLFFF_Cube2Step/step2Test/cube/cube_metrics.csv\n"
     ]
    }
   ],
   "source": [
    "import os\n",
    "import numpy as np\n",
    "import pandas as pd\n",
    "import torch\n",
    "from sklearn.metrics import r2_score, mean_squared_error, mean_absolute_error\n",
    "from skimage.metrics import structural_similarity as ssim\n",
    "\n",
    "output_dir = \"result/NLFFF_Cube2Step/step2Test/cube\"\n",
    "os.makedirs(output_dir, exist_ok=True)\n",
    "\n",
    "npy_dir = os.path.join(output_dir, \"npy_data\")\n",
    "os.makedirs(npy_dir, exist_ok=True)\n",
    "\n",
    "csv_path = os.path.join(output_dir, \"cube_metrics.csv\")\n",
    "\n",
    "def mean_relative_error(y_true, y_pred, zeroarr):\n",
    "\n",
    "    return mean_absolute_error(y_true, y_pred) / mean_absolute_error(y_true,zeroarr)\n",
    "\n",
    "def compute_psnr(y_true, y_pred):\n",
    "    mse = np.mean((y_true - y_pred) ** 2)\n",
    "    if mse == 0:\n",
    "        return float(\"inf\")\n",
    "    data_range = np.max(y_true) - np.min(y_true)\n",
    "    data_range = data_range if data_range > 0 else 1.0\n",
    "    return 20 * np.log10(data_range / np.sqrt(mse))\n",
    "\n",
    "def compute_ssim_cube(true_cube, pred_cube):\n",
    "    ssim_vals = []\n",
    "    for i in range(true_cube.shape[0]):\n",
    "        data_range = true_cube[i].max() - true_cube[i].min()\n",
    "        data_range = data_range if data_range > 0 else 1.0\n",
    "        ssim_vals.append(\n",
    "            ssim(true_cube[i], pred_cube[i], data_range=data_range)\n",
    "        )\n",
    "    return float(np.mean(ssim_vals))\n",
    "\n",
    "# ---------------------- 主循环 ----------------------\n",
    "rows = []\n",
    "\n",
    "for sample_idx, sample in enumerate(test_dataset):\n",
    "\n",
    "    input_data = sample[\"input\"]          # (T, 3, H, W)  torch.Tensor\n",
    "    true_data  = sample[\"target\"]         # (T, 3, H, W)  torch.Tensor\n",
    "    lengths    = sample[\"lengths\"]        # (1,)          torch.Tensor\n",
    "\n",
    "    print(true_data.shape)\n",
    "\n",
    "    # 2) 推理\n",
    "    with torch.no_grad():\n",
    "        pred_batch = newmodel(\n",
    "            input_data.unsqueeze(0).to(device0),  # (1, T, 3, H, W)\n",
    "            lengths.to(device0)\n",
    "        )\n",
    "    pred_data = pred_batch.cpu().numpy()[0]       # (T, 3, H, W)\n",
    "    true_data_np = true_data.cpu().numpy()        # (T, 3, H, W)\n",
    "\n",
    "    # 3) 按通道处理\n",
    "    for channel_idx, channel_name in enumerate([\"Bx\", \"By\", \"Bz\"]):\n",
    "        pred_cube  = pred_data[:, channel_idx, :, :]    # (T, H, W)\n",
    "        true_cube  = true_data_np[:, channel_idx, :, :]\n",
    "\n",
    "        # --- 保存 npy ---\n",
    "        np.save(\n",
    "            os.path.join(npy_dir, f\"sample_{sample_idx}_{channel_name}_pred.npy\"),\n",
    "            pred_cube\n",
    "        )\n",
    "\n",
    "        # --- 计算指标 ---\n",
    "        y_true = true_cube.flatten()\n",
    "        y_pred = pred_cube.flatten()\n",
    "        \n",
    "\n",
    "        r2_val   = r2_score(y_true, y_pred)\n",
    "        mse_val  = mean_squared_error(y_true, y_pred)\n",
    "        mae_val  = mean_absolute_error(y_true, y_pred)\n",
    "        zeroarr = np.zeros(y_true.shape)\n",
    "        re_val   = mean_relative_error(y_true, y_pred, zeroarr)\n",
    "        psnr_val = compute_psnr(true_cube, pred_cube)\n",
    "        ssim_val = compute_ssim_cube(true_cube, pred_cube)\n",
    "\n",
    "        rows.append({\n",
    "            \"sample\":  sample_idx,\n",
    "            \"channel\": channel_name,\n",
    "            \"R2\":      r2_val,\n",
    "            \"MSE\":     mse_val,\n",
    "            \"MAE\":     mae_val,\n",
    "            \"RE\":      re_val,\n",
    "            \"PSNR\":    psnr_val,\n",
    "            \"SSIM\":    ssim_val\n",
    "        })\n",
    "\n",
    "        print(f\"[Sample {sample_idx} - {channel_name}] \"\n",
    "              f\"R2={r2_val:.4f}, MSE={mse_val:.3e}, MAE={mae_val:.3e}, \"\n",
    "              f\"RE={re_val:.4f}, PSNR={psnr_val:.2f}, SSIM={ssim_val:.4f}\")\n",
    "\n",
    "# 4) 保存 CSV\n",
    "metrics_df = pd.DataFrame(rows)\n",
    "metrics_df.to_csv(csv_path, index=False)\n",
    "print(f\"\\n✓ 所有指标已保存到 {csv_path}\")\n"
   ]
  },
  {
   "cell_type": "code",
   "execution_count": null,
   "id": "673539a6-8cbb-4fe7-a0c6-c64bbd90d9ac",
   "metadata": {},
   "outputs": [],
   "source": []
  }
 ],
 "metadata": {
  "kernelspec": {
   "display_name": "Python 3 (ipykernel)",
   "language": "python",
   "name": "python3"
  },
  "language_info": {
   "codemirror_mode": {
    "name": "ipython",
    "version": 3
   },
   "file_extension": ".py",
   "mimetype": "text/x-python",
   "name": "python",
   "nbconvert_exporter": "python",
   "pygments_lexer": "ipython3",
   "version": "3.11.12"
  }
 },
 "nbformat": 4,
 "nbformat_minor": 5
}
